{
 "cells": [
  {
   "cell_type": "markdown",
   "id": "2b43c283",
   "metadata": {},
   "source": [
    "# FAKE NEWS DETECTION PROJECT"
   ]
  },
  {
   "cell_type": "markdown",
   "id": "0c160ca4",
   "metadata": {},
   "source": [
    "### Introduction:\n",
    "The authenticity of Information has become a longstanding issue affecting businesses and society, both for printed and digital media. On social networks, the reach and effects of information spread occur at such a fast pace and so amplified that distorted, inaccurate, or false information acquires a tremendous potential to cause real-world impacts, within minutes, for millions of users. Recently, several public concerns about this problem and some approaches to mitigate the problem were expressed.\n",
    "\n",
    "### About Dataset:\n",
    "The dataset is in the form of .CSV (Comma Seperated Value) format and consists of **6 columns (5 features and 1 label) with 20800 number of records** as explained below:\n",
    "- `id`: Unique id for each news article.\n",
    "- `headline`: It is the title of the news.\n",
    "- `news`: It contains the full text of the news article.\n",
    "- `Unnamed0`: It is a serial number.\n",
    "- `written_by`: It represent the author of the news article.\n",
    "- `label`: It tells whether the news is fake(1) or not fake(0)."
   ]
  },
  {
   "cell_type": "code",
   "execution_count": 1,
   "id": "48921476",
   "metadata": {},
   "outputs": [],
   "source": [
    "#importing required libraries\n",
    "import pandas as pd\n",
    "import numpy as np\n",
    "import matplotlib.pyplot as plt\n",
    "import seaborn as sns"
   ]
  },
  {
   "cell_type": "markdown",
   "id": "cec064f1",
   "metadata": {},
   "source": [
    "## Load Dataset"
   ]
  },
  {
   "cell_type": "code",
   "execution_count": 2,
   "id": "e25cb56e",
   "metadata": {},
   "outputs": [
    {
     "data": {
      "text/html": [
       "<div>\n",
       "<style scoped>\n",
       "    .dataframe tbody tr th:only-of-type {\n",
       "        vertical-align: middle;\n",
       "    }\n",
       "\n",
       "    .dataframe tbody tr th {\n",
       "        vertical-align: top;\n",
       "    }\n",
       "\n",
       "    .dataframe thead th {\n",
       "        text-align: right;\n",
       "    }\n",
       "</style>\n",
       "<table border=\"1\" class=\"dataframe\">\n",
       "  <thead>\n",
       "    <tr style=\"text-align: right;\">\n",
       "      <th></th>\n",
       "      <th>Unnamed: 0</th>\n",
       "      <th>id</th>\n",
       "      <th>headline</th>\n",
       "      <th>written_by</th>\n",
       "      <th>news</th>\n",
       "      <th>label</th>\n",
       "    </tr>\n",
       "  </thead>\n",
       "  <tbody>\n",
       "    <tr>\n",
       "      <th>0</th>\n",
       "      <td>0</td>\n",
       "      <td>9653</td>\n",
       "      <td>Ethics Questions Dogged Agriculture Nominee as...</td>\n",
       "      <td>Eric Lipton and Steve Eder</td>\n",
       "      <td>WASHINGTON  —   In Sonny Perdue’s telling, Geo...</td>\n",
       "      <td>0</td>\n",
       "    </tr>\n",
       "    <tr>\n",
       "      <th>1</th>\n",
       "      <td>1</td>\n",
       "      <td>10041</td>\n",
       "      <td>U.S. Must Dig Deep to Stop Argentina’s Lionel ...</td>\n",
       "      <td>David Waldstein</td>\n",
       "      <td>HOUSTON  —   Venezuela had a plan. It was a ta...</td>\n",
       "      <td>0</td>\n",
       "    </tr>\n",
       "    <tr>\n",
       "      <th>2</th>\n",
       "      <td>2</td>\n",
       "      <td>19113</td>\n",
       "      <td>Cotton to House: ’Do Not Walk the Plank and Vo...</td>\n",
       "      <td>Pam Key</td>\n",
       "      <td>Sunday on ABC’s “This Week,” while discussing ...</td>\n",
       "      <td>0</td>\n",
       "    </tr>\n",
       "    <tr>\n",
       "      <th>3</th>\n",
       "      <td>3</td>\n",
       "      <td>6868</td>\n",
       "      <td>Paul LePage, Besieged Maine Governor, Sends Co...</td>\n",
       "      <td>Jess Bidgood</td>\n",
       "      <td>AUGUSTA, Me.  —   The beleaguered Republican g...</td>\n",
       "      <td>0</td>\n",
       "    </tr>\n",
       "    <tr>\n",
       "      <th>4</th>\n",
       "      <td>4</td>\n",
       "      <td>7596</td>\n",
       "      <td>A Digital 9/11 If Trump Wins</td>\n",
       "      <td>Finian Cunningham</td>\n",
       "      <td>Finian Cunningham has written extensively on...</td>\n",
       "      <td>1</td>\n",
       "    </tr>\n",
       "  </tbody>\n",
       "</table>\n",
       "</div>"
      ],
      "text/plain": [
       "   Unnamed: 0     id                                           headline  \\\n",
       "0           0   9653  Ethics Questions Dogged Agriculture Nominee as...   \n",
       "1           1  10041  U.S. Must Dig Deep to Stop Argentina’s Lionel ...   \n",
       "2           2  19113  Cotton to House: ’Do Not Walk the Plank and Vo...   \n",
       "3           3   6868  Paul LePage, Besieged Maine Governor, Sends Co...   \n",
       "4           4   7596                       A Digital 9/11 If Trump Wins   \n",
       "\n",
       "                   written_by  \\\n",
       "0  Eric Lipton and Steve Eder   \n",
       "1             David Waldstein   \n",
       "2                     Pam Key   \n",
       "3                Jess Bidgood   \n",
       "4           Finian Cunningham   \n",
       "\n",
       "                                                news  label  \n",
       "0  WASHINGTON  —   In Sonny Perdue’s telling, Geo...      0  \n",
       "1  HOUSTON  —   Venezuela had a plan. It was a ta...      0  \n",
       "2  Sunday on ABC’s “This Week,” while discussing ...      0  \n",
       "3  AUGUSTA, Me.  —   The beleaguered Republican g...      0  \n",
       "4    Finian Cunningham has written extensively on...      1  "
      ]
     },
     "execution_count": 2,
     "metadata": {},
     "output_type": "execute_result"
    }
   ],
   "source": [
    "#loading dataset into dataframe\n",
    "df_fake_news = pd.read_csv(\"train_news.csv\")\n",
    "\n",
    "#interpreting first 5 rows\n",
    "df_fake_news.head()"
   ]
  },
  {
   "cell_type": "markdown",
   "id": "f9a0299f",
   "metadata": {},
   "source": [
    "## Data Analysis"
   ]
  },
  {
   "cell_type": "code",
   "execution_count": 3,
   "id": "c495b47c",
   "metadata": {},
   "outputs": [
    {
     "name": "stdout",
     "output_type": "stream",
     "text": [
      "<class 'pandas.core.frame.DataFrame'>\n",
      "RangeIndex: 20800 entries, 0 to 20799\n",
      "Data columns (total 6 columns):\n",
      " #   Column      Non-Null Count  Dtype \n",
      "---  ------      --------------  ----- \n",
      " 0   Unnamed: 0  20800 non-null  int64 \n",
      " 1   id          20800 non-null  int64 \n",
      " 2   headline    20242 non-null  object\n",
      " 3   written_by  18843 non-null  object\n",
      " 4   news        20761 non-null  object\n",
      " 5   label       20800 non-null  int64 \n",
      "dtypes: int64(3), object(3)\n",
      "memory usage: 975.1+ KB\n"
     ]
    }
   ],
   "source": [
    "#checking general information of dataset\n",
    "df_fake_news.info()"
   ]
  },
  {
   "cell_type": "markdown",
   "id": "f3b31071",
   "metadata": {},
   "source": [
    "### Remarks:\n",
    "- There are **20800 records with 6 columns (3 int type and 3 object type)**.\n",
    "- **Non-Null count shows the presence of null values in the dataset** which needs to be treated accordingly."
   ]
  },
  {
   "cell_type": "code",
   "execution_count": 4,
   "id": "9501f1c7",
   "metadata": {},
   "outputs": [
    {
     "data": {
      "text/plain": [
       "Unnamed: 0       0\n",
       "id               0\n",
       "headline       558\n",
       "written_by    1957\n",
       "news            39\n",
       "label            0\n",
       "dtype: int64"
      ]
     },
     "execution_count": 4,
     "metadata": {},
     "output_type": "execute_result"
    }
   ],
   "source": [
    "#checking null values\n",
    "df_fake_news.isnull().sum()"
   ]
  },
  {
   "cell_type": "code",
   "execution_count": 5,
   "id": "20680172",
   "metadata": {},
   "outputs": [
    {
     "data": {
      "image/png": "[encoded data removed]",
      "text/plain": [
       "<Figure size 576x432 with 2 Axes>"
      ]
     },
     "metadata": {
      "needs_background": "light"
     },
     "output_type": "display_data"
    }
   ],
   "source": [
    "#interpreting null values using heatmap\n",
    "plt.figure(figsize=(8,6))\n",
    "sns.heatmap(df_fake_news.isnull())\n",
    "plt.show()"
   ]
  },
  {
   "cell_type": "markdown",
   "id": "652e19f8",
   "metadata": {},
   "source": [
    "#### Remarks:\n",
    "- From the above interpretion it is clear that the feature `headline`, `written_by` and `news` containes 558, 1957 and 39 null values respectively and needs to be treated accordingly."
   ]
  },
  {
   "cell_type": "markdown",
   "id": "e027e66c",
   "metadata": {},
   "source": [
    "#### Checking feature `Unnamed: 0`"
   ]
  },
  {
   "cell_type": "code",
   "execution_count": 6,
   "id": "9379ec8c",
   "metadata": {},
   "outputs": [
    {
     "data": {
      "text/plain": [
       "0            0\n",
       "1            1\n",
       "2            2\n",
       "3            3\n",
       "4            4\n",
       "         ...  \n",
       "20795    20795\n",
       "20796    20796\n",
       "20797    20797\n",
       "20798    20798\n",
       "20799    20799\n",
       "Name: Unnamed: 0, Length: 20800, dtype: int64"
      ]
     },
     "execution_count": 6,
     "metadata": {},
     "output_type": "execute_result"
    }
   ],
   "source": [
    "#interpreting feature\n",
    "df_fake_news[\"Unnamed: 0\"]"
   ]
  },
  {
   "cell_type": "markdown",
   "id": "34a9d86e",
   "metadata": {},
   "source": [
    "### Remarks:\n",
    "- This feature contains continueos data and represents the serial number of record therefore it can be **dropped** from dataset as it is of no use in model training."
   ]
  },
  {
   "cell_type": "markdown",
   "id": "fafabcdf",
   "metadata": {},
   "source": [
    "#### Checking feature `id`"
   ]
  },
  {
   "cell_type": "code",
   "execution_count": 7,
   "id": "3cad1b9b",
   "metadata": {},
   "outputs": [
    {
     "data": {
      "text/plain": [
       "0         9653\n",
       "1        10041\n",
       "2        19113\n",
       "3         6868\n",
       "4         7596\n",
       "         ...  \n",
       "20795     5671\n",
       "20796    14831\n",
       "20797    18142\n",
       "20798    12139\n",
       "20799    15660\n",
       "Name: id, Length: 20800, dtype: int64"
      ]
     },
     "execution_count": 7,
     "metadata": {},
     "output_type": "execute_result"
    }
   ],
   "source": [
    "#interpreting feature\n",
    "df_fake_news[\"id\"]"
   ]
  },
  {
   "cell_type": "markdown",
   "id": "deee486a",
   "metadata": {},
   "source": [
    "#### Remarks:\n",
    "- This feature contains continuous data and represents the id of the record, therefore, it can be **dropped** from the dataset as it is of no use in model training."
   ]
  },
  {
   "cell_type": "markdown",
   "id": "5cd024b0",
   "metadata": {},
   "source": [
    "#### Checking feature `headline`"
   ]
  },
  {
   "cell_type": "code",
   "execution_count": 8,
   "id": "e1c967d1",
   "metadata": {
    "scrolled": true
   },
   "outputs": [
    {
     "data": {
      "text/plain": [
       "0        Ethics Questions Dogged Agriculture Nominee as...\n",
       "1        U.S. Must Dig Deep to Stop Argentina’s Lionel ...\n",
       "2        Cotton to House: ’Do Not Walk the Plank and Vo...\n",
       "3        Paul LePage, Besieged Maine Governor, Sends Co...\n",
       "4                             A Digital 9/11 If Trump Wins\n",
       "                               ...                        \n",
       "20795                                                  NaN\n",
       "20796          Albert Pike and the European Migrant Crisis\n",
       "20797    Dakota Access Caught Infiltrating Protests to ...\n",
       "20798    How to Stretch the Summer Solstice - The New Y...\n",
       "20799    Emory University to Pay for ’100 Percent’ of U...\n",
       "Name: headline, Length: 20800, dtype: object"
      ]
     },
     "execution_count": 8,
     "metadata": {},
     "output_type": "execute_result"
    }
   ],
   "source": [
    "#interpreting feature\n",
    "df_fake_news[\"headline\"]"
   ]
  },
  {
   "cell_type": "markdown",
   "id": "2c9fbe76",
   "metadata": {},
   "source": [
    "#### Remarks:\n",
    "- This feature contains **textual data and is of object type** and needs to be handled accordingly."
   ]
  },
  {
   "cell_type": "markdown",
   "id": "99c4a9f5",
   "metadata": {},
   "source": [
    "#### Checking feature `written_by`"
   ]
  },
  {
   "cell_type": "code",
   "execution_count": 9,
   "id": "16697d26",
   "metadata": {},
   "outputs": [
    {
     "data": {
      "text/plain": [
       "0        Eric Lipton and Steve Eder\n",
       "1                   David Waldstein\n",
       "2                           Pam Key\n",
       "3                      Jess Bidgood\n",
       "4                 Finian Cunningham\n",
       "                    ...            \n",
       "20795                NeverSurrender\n",
       "20796                 Rixon Stewart\n",
       "20797                   Eddy Lavine\n",
       "20798                Alison S. Cohn\n",
       "20799                  Tom Ciccotta\n",
       "Name: written_by, Length: 20800, dtype: object"
      ]
     },
     "execution_count": 9,
     "metadata": {},
     "output_type": "execute_result"
    }
   ],
   "source": [
    "#interpreting feature\n",
    "df_fake_news[\"written_by\"]"
   ]
  },
  {
   "cell_type": "markdown",
   "id": "0339bf36",
   "metadata": {},
   "source": [
    "#### Remarks:\n",
    "- This feature contains **textual data and is of object type** and needs to be handled accordingly."
   ]
  },
  {
   "cell_type": "markdown",
   "id": "cfcdae58",
   "metadata": {},
   "source": [
    "#### Checking feature `news`"
   ]
  },
  {
   "cell_type": "code",
   "execution_count": 10,
   "id": "44b967e0",
   "metadata": {},
   "outputs": [
    {
     "data": {
      "text/plain": [
       "0        WASHINGTON  —   In Sonny Perdue’s telling, Geo...\n",
       "1        HOUSTON  —   Venezuela had a plan. It was a ta...\n",
       "2        Sunday on ABC’s “This Week,” while discussing ...\n",
       "3        AUGUSTA, Me.  —   The beleaguered Republican g...\n",
       "4          Finian Cunningham has written extensively on...\n",
       "                               ...                        \n",
       "20795    No, you'll be a dog licking of the vomit of yo...\n",
       "20796    By Rixon Stewart on November 5, 2016 Rixon Ste...\n",
       "20797    posted by Eddie You know the Dakota Access Pip...\n",
       "20798    It’s officially summer, and the Society Boutiq...\n",
       "20799    Emory University in Atlanta, Georgia, has anno...\n",
       "Name: news, Length: 20800, dtype: object"
      ]
     },
     "execution_count": 10,
     "metadata": {},
     "output_type": "execute_result"
    }
   ],
   "source": [
    "#interpreting feature\n",
    "df_fake_news[\"news\"]"
   ]
  },
  {
   "cell_type": "markdown",
   "id": "f6c8504b",
   "metadata": {},
   "source": [
    "#### Remarks:\n",
    "- This feature contains **textual data and is of object type** and needs to be handled accordingly."
   ]
  },
  {
   "cell_type": "markdown",
   "id": "1db9cb8b",
   "metadata": {},
   "source": [
    "#### Checking target `label`"
   ]
  },
  {
   "cell_type": "code",
   "execution_count": 11,
   "id": "c3d31dc9",
   "metadata": {},
   "outputs": [
    {
     "data": {
      "text/plain": [
       "0        0\n",
       "1        0\n",
       "2        0\n",
       "3        0\n",
       "4        1\n",
       "        ..\n",
       "20795    1\n",
       "20796    1\n",
       "20797    1\n",
       "20798    0\n",
       "20799    0\n",
       "Name: label, Length: 20800, dtype: int64"
      ]
     },
     "execution_count": 11,
     "metadata": {},
     "output_type": "execute_result"
    }
   ],
   "source": [
    "#interpreting target\n",
    "df_fake_news[\"label\"]"
   ]
  },
  {
   "cell_type": "markdown",
   "id": "6a98a10c",
   "metadata": {},
   "source": [
    "#### Remarks:\n",
    "- The target `label` contains **categorical data which is 0 (not fake) and 1(fake)**."
   ]
  },
  {
   "cell_type": "code",
   "execution_count": 12,
   "id": "6dc200f9",
   "metadata": {},
   "outputs": [
    {
     "name": "stdout",
     "output_type": "stream",
     "text": [
      "Total Records for label[0]:  10387\n",
      "% of Records for label[0] :  49.94\n",
      "\n",
      "\n",
      "Total Records for label[1]:  10413\n",
      "% of Records for label[1] :  50.06\n"
     ]
    }
   ],
   "source": [
    "#checking the ratio of data between label 0 and 1.\n",
    "label_0 = len(df_fake_news.label[df_fake_news.label == 0])\n",
    "label_1 = len(df_fake_news.label[df_fake_news.label == 1])\n",
    "total_record = len(df_fake_news)\n",
    "\n",
    "print(\"Total Records for label[0]: \",label_0)\n",
    "print(\"% of Records for label[0] : \",round(label_0*100/total_record,2))\n",
    "print(\"\\n\")\n",
    "print(\"Total Records for label[1]: \",label_1)\n",
    "print(\"% of Records for label[1] : \",round(label_1*100/total_record,2))"
   ]
  },
  {
   "cell_type": "markdown",
   "id": "bafc9463",
   "metadata": {},
   "source": [
    "#### Remarks:\n",
    "- Dataset contains almost equal number of records for label 0 and label 1,therefore, dataset is balanced."
   ]
  },
  {
   "cell_type": "markdown",
   "id": "659adfac",
   "metadata": {},
   "source": [
    "## Data Cleansing"
   ]
  },
  {
   "cell_type": "code",
   "execution_count": 13,
   "id": "aee6a134",
   "metadata": {},
   "outputs": [],
   "source": [
    "#importing required libraries\n",
    "import nltk\n",
    "from nltk.tokenize import regexp_tokenize, word_tokenize\n",
    "from nltk.corpus import stopwords\n",
    "from collections import Counter"
   ]
  },
  {
   "cell_type": "markdown",
   "id": "b8718d52",
   "metadata": {},
   "source": [
    "#### Dropping columns `Unnamed: 0` and `id`"
   ]
  },
  {
   "cell_type": "code",
   "execution_count": 14,
   "id": "21608f43",
   "metadata": {},
   "outputs": [
    {
     "data": {
      "text/html": [
       "<div>\n",
       "<style scoped>\n",
       "    .dataframe tbody tr th:only-of-type {\n",
       "        vertical-align: middle;\n",
       "    }\n",
       "\n",
       "    .dataframe tbody tr th {\n",
       "        vertical-align: top;\n",
       "    }\n",
       "\n",
       "    .dataframe thead th {\n",
       "        text-align: right;\n",
       "    }\n",
       "</style>\n",
       "<table border=\"1\" class=\"dataframe\">\n",
       "  <thead>\n",
       "    <tr style=\"text-align: right;\">\n",
       "      <th></th>\n",
       "      <th>headline</th>\n",
       "      <th>written_by</th>\n",
       "      <th>news</th>\n",
       "      <th>label</th>\n",
       "    </tr>\n",
       "  </thead>\n",
       "  <tbody>\n",
       "    <tr>\n",
       "      <th>0</th>\n",
       "      <td>Ethics Questions Dogged Agriculture Nominee as...</td>\n",
       "      <td>Eric Lipton and Steve Eder</td>\n",
       "      <td>WASHINGTON  —   In Sonny Perdue’s telling, Geo...</td>\n",
       "      <td>0</td>\n",
       "    </tr>\n",
       "    <tr>\n",
       "      <th>1</th>\n",
       "      <td>U.S. Must Dig Deep to Stop Argentina’s Lionel ...</td>\n",
       "      <td>David Waldstein</td>\n",
       "      <td>HOUSTON  —   Venezuela had a plan. It was a ta...</td>\n",
       "      <td>0</td>\n",
       "    </tr>\n",
       "    <tr>\n",
       "      <th>2</th>\n",
       "      <td>Cotton to House: ’Do Not Walk the Plank and Vo...</td>\n",
       "      <td>Pam Key</td>\n",
       "      <td>Sunday on ABC’s “This Week,” while discussing ...</td>\n",
       "      <td>0</td>\n",
       "    </tr>\n",
       "    <tr>\n",
       "      <th>3</th>\n",
       "      <td>Paul LePage, Besieged Maine Governor, Sends Co...</td>\n",
       "      <td>Jess Bidgood</td>\n",
       "      <td>AUGUSTA, Me.  —   The beleaguered Republican g...</td>\n",
       "      <td>0</td>\n",
       "    </tr>\n",
       "    <tr>\n",
       "      <th>4</th>\n",
       "      <td>A Digital 9/11 If Trump Wins</td>\n",
       "      <td>Finian Cunningham</td>\n",
       "      <td>Finian Cunningham has written extensively on...</td>\n",
       "      <td>1</td>\n",
       "    </tr>\n",
       "  </tbody>\n",
       "</table>\n",
       "</div>"
      ],
      "text/plain": [
       "                                            headline  \\\n",
       "0  Ethics Questions Dogged Agriculture Nominee as...   \n",
       "1  U.S. Must Dig Deep to Stop Argentina’s Lionel ...   \n",
       "2  Cotton to House: ’Do Not Walk the Plank and Vo...   \n",
       "3  Paul LePage, Besieged Maine Governor, Sends Co...   \n",
       "4                       A Digital 9/11 If Trump Wins   \n",
       "\n",
       "                   written_by  \\\n",
       "0  Eric Lipton and Steve Eder   \n",
       "1             David Waldstein   \n",
       "2                     Pam Key   \n",
       "3                Jess Bidgood   \n",
       "4           Finian Cunningham   \n",
       "\n",
       "                                                news  label  \n",
       "0  WASHINGTON  —   In Sonny Perdue’s telling, Geo...      0  \n",
       "1  HOUSTON  —   Venezuela had a plan. It was a ta...      0  \n",
       "2  Sunday on ABC’s “This Week,” while discussing ...      0  \n",
       "3  AUGUSTA, Me.  —   The beleaguered Republican g...      0  \n",
       "4    Finian Cunningham has written extensively on...      1  "
      ]
     },
     "execution_count": 14,
     "metadata": {},
     "output_type": "execute_result"
    }
   ],
   "source": [
    "#dropping columns\n",
    "cols_to_drop = ['Unnamed: 0','id']\n",
    "\n",
    "#storing into new dataframe object\n",
    "df = df_fake_news.drop(columns=cols_to_drop)\n",
    "\n",
    "#interpreting first 5 rows\n",
    "df.head()"
   ]
  },
  {
   "cell_type": "markdown",
   "id": "d4a3c461",
   "metadata": {},
   "source": [
    "#### Treating Null Values: Replacing null values with ' ' (single space) and merging feature `headline`, `written_by` and `news` to new column `text_feature` and dropping columns `headline`, `written_by` and `news`"
   ]
  },
  {
   "cell_type": "code",
   "execution_count": 15,
   "id": "bef73c7d",
   "metadata": {},
   "outputs": [
    {
     "data": {
      "text/html": [
       "<div>\n",
       "<style scoped>\n",
       "    .dataframe tbody tr th:only-of-type {\n",
       "        vertical-align: middle;\n",
       "    }\n",
       "\n",
       "    .dataframe tbody tr th {\n",
       "        vertical-align: top;\n",
       "    }\n",
       "\n",
       "    .dataframe thead th {\n",
       "        text-align: right;\n",
       "    }\n",
       "</style>\n",
       "<table border=\"1\" class=\"dataframe\">\n",
       "  <thead>\n",
       "    <tr style=\"text-align: right;\">\n",
       "      <th></th>\n",
       "      <th>label</th>\n",
       "      <th>text_feature</th>\n",
       "    </tr>\n",
       "  </thead>\n",
       "  <tbody>\n",
       "    <tr>\n",
       "      <th>0</th>\n",
       "      <td>0</td>\n",
       "      <td>Ethics Questions Dogged Agriculture Nominee as...</td>\n",
       "    </tr>\n",
       "    <tr>\n",
       "      <th>1</th>\n",
       "      <td>0</td>\n",
       "      <td>U.S. Must Dig Deep to Stop Argentina’s Lionel ...</td>\n",
       "    </tr>\n",
       "    <tr>\n",
       "      <th>2</th>\n",
       "      <td>0</td>\n",
       "      <td>Cotton to House: ’Do Not Walk the Plank and Vo...</td>\n",
       "    </tr>\n",
       "    <tr>\n",
       "      <th>3</th>\n",
       "      <td>0</td>\n",
       "      <td>Paul LePage, Besieged Maine Governor, Sends Co...</td>\n",
       "    </tr>\n",
       "    <tr>\n",
       "      <th>4</th>\n",
       "      <td>1</td>\n",
       "      <td>A Digital 9/11 If Trump Wins Finian Cunningham...</td>\n",
       "    </tr>\n",
       "  </tbody>\n",
       "</table>\n",
       "</div>"
      ],
      "text/plain": [
       "   label                                       text_feature\n",
       "0      0  Ethics Questions Dogged Agriculture Nominee as...\n",
       "1      0  U.S. Must Dig Deep to Stop Argentina’s Lionel ...\n",
       "2      0  Cotton to House: ’Do Not Walk the Plank and Vo...\n",
       "3      0  Paul LePage, Besieged Maine Governor, Sends Co...\n",
       "4      1  A Digital 9/11 If Trump Wins Finian Cunningham..."
      ]
     },
     "execution_count": 15,
     "metadata": {},
     "output_type": "execute_result"
    }
   ],
   "source": [
    "#treating null values with ' '\n",
    "df.fillna(' ',inplace=True)\n",
    "\n",
    "#Merging feature headline, written_by and news to text_feature\n",
    "df_news = df.copy()\n",
    "df_news[\"text_feature\"] = df.headline + \" \" + df.written_by + \" \"+ df.news\n",
    "\n",
    "#dropping feature headline, written_by and news\n",
    "feature_to_drop = ['headline','written_by','news']\n",
    "df_news.drop(columns=feature_to_drop,inplace=True)\n",
    "\n",
    "#interpreting first 5 rows\n",
    "df_news.head()"
   ]
  },
  {
   "cell_type": "markdown",
   "id": "2a4a189b",
   "metadata": {},
   "source": [
    "#### Converting `text_feature` to lower case and storing the length of each news to column original_length"
   ]
  },
  {
   "cell_type": "code",
   "execution_count": 16,
   "id": "9ba4004f",
   "metadata": {},
   "outputs": [
    {
     "data": {
      "text/html": [
       "<div>\n",
       "<style scoped>\n",
       "    .dataframe tbody tr th:only-of-type {\n",
       "        vertical-align: middle;\n",
       "    }\n",
       "\n",
       "    .dataframe tbody tr th {\n",
       "        vertical-align: top;\n",
       "    }\n",
       "\n",
       "    .dataframe thead th {\n",
       "        text-align: right;\n",
       "    }\n",
       "</style>\n",
       "<table border=\"1\" class=\"dataframe\">\n",
       "  <thead>\n",
       "    <tr style=\"text-align: right;\">\n",
       "      <th></th>\n",
       "      <th>label</th>\n",
       "      <th>text_feature</th>\n",
       "      <th>original_length</th>\n",
       "    </tr>\n",
       "  </thead>\n",
       "  <tbody>\n",
       "    <tr>\n",
       "      <th>0</th>\n",
       "      <td>0</td>\n",
       "      <td>ethics questions dogged agriculture nominee as...</td>\n",
       "      <td>8048</td>\n",
       "    </tr>\n",
       "    <tr>\n",
       "      <th>1</th>\n",
       "      <td>0</td>\n",
       "      <td>u.s. must dig deep to stop argentina’s lionel ...</td>\n",
       "      <td>6201</td>\n",
       "    </tr>\n",
       "    <tr>\n",
       "      <th>2</th>\n",
       "      <td>0</td>\n",
       "      <td>cotton to house: ’do not walk the plank and vo...</td>\n",
       "      <td>534</td>\n",
       "    </tr>\n",
       "    <tr>\n",
       "      <th>3</th>\n",
       "      <td>0</td>\n",
       "      <td>paul lepage, besieged maine governor, sends co...</td>\n",
       "      <td>6630</td>\n",
       "    </tr>\n",
       "    <tr>\n",
       "      <th>4</th>\n",
       "      <td>1</td>\n",
       "      <td>a digital 9/11 if trump wins finian cunningham...</td>\n",
       "      <td>9211</td>\n",
       "    </tr>\n",
       "  </tbody>\n",
       "</table>\n",
       "</div>"
      ],
      "text/plain": [
       "   label                                       text_feature  original_length\n",
       "0      0  ethics questions dogged agriculture nominee as...             8048\n",
       "1      0  u.s. must dig deep to stop argentina’s lionel ...             6201\n",
       "2      0  cotton to house: ’do not walk the plank and vo...              534\n",
       "3      0  paul lepage, besieged maine governor, sends co...             6630\n",
       "4      1  a digital 9/11 if trump wins finian cunningham...             9211"
      ]
     },
     "execution_count": 16,
     "metadata": {},
     "output_type": "execute_result"
    }
   ],
   "source": [
    "#converting to lowercase\n",
    "df_news[\"text_feature\"] = df_news.text_feature.str.lower()\n",
    "\n",
    "#storing original news length\n",
    "df_news[\"original_length\"] = df_news.text_feature.str.len()\n",
    "\n",
    "#interpreting first 5 rows\n",
    "df_news.head()"
   ]
  },
  {
   "cell_type": "markdown",
   "id": "54b75f4f",
   "metadata": {},
   "source": [
    "#### Removing & Replacing certain terms"
   ]
  },
  {
   "cell_type": "code",
   "execution_count": 17,
   "id": "3cf323f5",
   "metadata": {},
   "outputs": [],
   "source": [
    "#Replacing '\\n' with white space (' ')\n",
    "df_news.text_feature = df_news.text_feature.str.replace('\\n',' ')\n",
    "\n",
    "#Keeping only text and number data i.e., a to z, 0 to 9 and words like hasn't, cann't shouldn't etc.\n",
    "df_news.text_feature = df_news.text_feature.apply(lambda x: ' '.join(regexp_tokenize(x,\"[a-z'0-9]+\")))"
   ]
  },
  {
   "cell_type": "code",
   "execution_count": 18,
   "id": "b1dfd04b",
   "metadata": {},
   "outputs": [
    {
     "name": "stderr",
     "output_type": "stream",
     "text": [
      "<ipython-input-18-d78fda722d08>:2: FutureWarning: The default value of regex will change from True to False in a future version.\n",
      "  df_news.text_feature = df_news.text_feature.str.replace(\"\\d+\",\"numbr\")\n"
     ]
    },
    {
     "data": {
      "text/html": [
       "<div>\n",
       "<style scoped>\n",
       "    .dataframe tbody tr th:only-of-type {\n",
       "        vertical-align: middle;\n",
       "    }\n",
       "\n",
       "    .dataframe tbody tr th {\n",
       "        vertical-align: top;\n",
       "    }\n",
       "\n",
       "    .dataframe thead th {\n",
       "        text-align: right;\n",
       "    }\n",
       "</style>\n",
       "<table border=\"1\" class=\"dataframe\">\n",
       "  <thead>\n",
       "    <tr style=\"text-align: right;\">\n",
       "      <th></th>\n",
       "      <th>label</th>\n",
       "      <th>text_feature</th>\n",
       "      <th>original_length</th>\n",
       "    </tr>\n",
       "  </thead>\n",
       "  <tbody>\n",
       "    <tr>\n",
       "      <th>2128</th>\n",
       "      <td>1</td>\n",
       "      <td>black agenda report for week of oct numbr numb...</td>\n",
       "      <td>3536</td>\n",
       "    </tr>\n",
       "    <tr>\n",
       "      <th>975</th>\n",
       "      <td>0</td>\n",
       "      <td>china agrees to return seized drone ending sta...</td>\n",
       "      <td>10579</td>\n",
       "    </tr>\n",
       "    <tr>\n",
       "      <th>16243</th>\n",
       "      <td>1</td>\n",
       "      <td>america at the crossroads abrogation of democr...</td>\n",
       "      <td>4695</td>\n",
       "    </tr>\n",
       "    <tr>\n",
       "      <th>14213</th>\n",
       "      <td>0</td>\n",
       "      <td>cuomo s vision for revamped penn station new h...</td>\n",
       "      <td>5002</td>\n",
       "    </tr>\n",
       "    <tr>\n",
       "      <th>20605</th>\n",
       "      <td>1</td>\n",
       "      <td>revealed trump s financial backers paid a play...</td>\n",
       "      <td>1222</td>\n",
       "    </tr>\n",
       "  </tbody>\n",
       "</table>\n",
       "</div>"
      ],
      "text/plain": [
       "       label                                       text_feature  \\\n",
       "2128       1  black agenda report for week of oct numbr numb...   \n",
       "975        0  china agrees to return seized drone ending sta...   \n",
       "16243      1  america at the crossroads abrogation of democr...   \n",
       "14213      0  cuomo s vision for revamped penn station new h...   \n",
       "20605      1  revealed trump s financial backers paid a play...   \n",
       "\n",
       "       original_length  \n",
       "2128              3536  \n",
       "975              10579  \n",
       "16243             4695  \n",
       "14213             5002  \n",
       "20605             1222  "
      ]
     },
     "execution_count": 18,
     "metadata": {},
     "output_type": "execute_result"
    }
   ],
   "source": [
    "#replacing numbers i.e., 0 to 9 with numbr\n",
    "df_news.text_feature = df_news.text_feature.str.replace(\"\\d+\",\"numbr\")\n",
    "\n",
    "#interpreting random 5 rows to see changes\n",
    "df_news.sample(5)"
   ]
  },
  {
   "cell_type": "markdown",
   "id": "faf8893c",
   "metadata": {},
   "source": [
    "#### Getting Most Common Words"
   ]
  },
  {
   "cell_type": "code",
   "execution_count": 19,
   "id": "6db23b98",
   "metadata": {},
   "outputs": [],
   "source": [
    "#instanciating Counter\n",
    "def get_common_words(texts):\n",
    "    cnt = Counter()\n",
    "    for text in texts:\n",
    "        for word in text.split():\n",
    "            cnt[word] += 1\n",
    "            \n",
    "    return cnt\n"
   ]
  },
  {
   "cell_type": "code",
   "execution_count": 20,
   "id": "1c3d2c4f",
   "metadata": {},
   "outputs": [
    {
     "data": {
      "text/plain": [
       "[('the', 932727),\n",
       " ('to', 431811),\n",
       " ('of', 422017),\n",
       " ('and', 387013),\n",
       " ('a', 372143),\n",
       " ('in', 315139),\n",
       " ('that', 218057),\n",
       " ('numbr', 216039),\n",
       " ('s', 173025),\n",
       " ('is', 158677),\n",
       " ('for', 147251),\n",
       " ('on', 133190),\n",
       " ('it', 125084),\n",
       " ('with', 103807),\n",
       " ('he', 102464),\n",
       " ('was', 102027),\n",
       " ('as', 100121),\n",
       " ('said', 80135),\n",
       " ('by', 79752),\n",
       " ('i', 79367),\n",
       " ('at', 74678),\n",
       " ('are', 74387),\n",
       " ('have', 72788),\n",
       " ('be', 72291),\n",
       " ('his', 69984),\n",
       " ('not', 69862),\n",
       " ('this', 69831),\n",
       " ('from', 69429),\n",
       " ('mr', 66328),\n",
       " ('they', 65347),\n",
       " ('has', 64519),\n",
       " ('but', 62489),\n",
       " ('an', 61437),\n",
       " ('trump', 59628),\n",
       " ('you', 58611),\n",
       " ('who', 56373),\n",
       " ('we', 55869),\n",
       " ('had', 45763),\n",
       " ('or', 45517),\n",
       " ('their', 45435),\n",
       " ('about', 42685),\n",
       " ('will', 42202),\n",
       " ('t', 39632),\n",
       " ('she', 39340),\n",
       " ('one', 38886),\n",
       " ('more', 37709),\n",
       " ('would', 37483),\n",
       " ('new', 37203),\n",
       " ('were', 37191),\n",
       " ('been', 37080),\n",
       " ('her', 37053),\n",
       " ('people', 36645),\n",
       " ('what', 34810),\n",
       " ('all', 34670),\n",
       " ('which', 33822),\n",
       " ('if', 33092),\n",
       " ('there', 32930),\n",
       " ('when', 31002),\n",
       " ('can', 30376),\n",
       " ('out', 29231),\n",
       " ('so', 28414),\n",
       " ('clinton', 28299),\n",
       " ('its', 27441),\n",
       " ('no', 27353),\n",
       " ('up', 26833),\n",
       " ('like', 26534),\n",
       " ('after', 26366),\n",
       " ('president', 25678),\n",
       " ('also', 25462),\n",
       " ('than', 24185),\n",
       " ('our', 24120),\n",
       " ('other', 23732),\n",
       " ('some', 23715),\n",
       " ('into', 23085),\n",
       " ('them', 23057),\n",
       " ('over', 22720),\n",
       " ('just', 22355),\n",
       " ('do', 21798),\n",
       " ('time', 21304),\n",
       " ('state', 20727),\n",
       " ('now', 20652),\n",
       " ('us', 20633),\n",
       " ('him', 19971),\n",
       " ('could', 19554),\n",
       " ('many', 19310),\n",
       " ('even', 19026),\n",
       " ('how', 18886),\n",
       " ('because', 18589),\n",
       " ('your', 18167),\n",
       " ('years', 18048),\n",
       " ('most', 17925),\n",
       " ('states', 17727),\n",
       " ('two', 17615),\n",
       " ('only', 17598),\n",
       " ('first', 17590),\n",
       " ('my', 16895),\n",
       " ('government', 16864),\n",
       " ('american', 16318),\n",
       " ('world', 16258),\n",
       " ('times', 16154),\n",
       " ('hillary', 15997),\n",
       " ('those', 15902),\n",
       " ('news', 15707),\n",
       " ('year', 15685),\n",
       " ('these', 15556),\n",
       " ('obama', 15406),\n",
       " ('last', 15299),\n",
       " ('united', 15133),\n",
       " ('york', 15052),\n",
       " ('any', 15003),\n",
       " ('against', 14877),\n",
       " ('where', 14462),\n",
       " ('before', 14322),\n",
       " ('did', 14179),\n",
       " ('being', 14082),\n",
       " ('then', 13884),\n",
       " ('get', 13828),\n",
       " ('while', 13822),\n",
       " ('may', 13522),\n",
       " ('campaign', 13310),\n",
       " ('election', 13281),\n",
       " ('country', 12850),\n",
       " ('u', 12818),\n",
       " ('here', 12722),\n",
       " ('ms', 12638),\n",
       " ('re', 12587),\n",
       " ('make', 12536),\n",
       " ('going', 12507),\n",
       " ('way', 12430),\n",
       " ('me', 12410),\n",
       " ('house', 12410),\n",
       " ('very', 12191),\n",
       " ('made', 12152),\n",
       " ('white', 12142),\n",
       " ('media', 12004),\n",
       " ('back', 11998),\n",
       " ('m', 11968),\n",
       " ('know', 11942),\n",
       " ('don', 11883),\n",
       " ('much', 11767),\n",
       " ('think', 11693),\n",
       " ('day', 11636),\n",
       " ('war', 11471),\n",
       " ('should', 11220),\n",
       " ('say', 11195),\n",
       " ('political', 11181),\n",
       " ('during', 11063),\n",
       " ('donald', 11033),\n",
       " ('see', 10946),\n",
       " ('through', 10942)]"
      ]
     },
     "execution_count": 20,
     "metadata": {},
     "output_type": "execute_result"
    }
   ],
   "source": [
    "#getting most common words of text_feature before removal of stopwords\n",
    "common_words_with_stopwords = get_common_words(df_news.text_feature)\n",
    "\n",
    "#interpreting most common words\n",
    "common_words_with_stopwords.most_common(150)"
   ]
  },
  {
   "cell_type": "markdown",
   "id": "94ba05a2",
   "metadata": {},
   "source": [
    "#### Remarks:\n",
    "- **In top 150 common words**, *most of the words in the news corpus are stopwords* i.e., the, to, of, and, a, in, that, etc. and therefore, it **needs to be removed.**"
   ]
  },
  {
   "cell_type": "markdown",
   "id": "999b70cb",
   "metadata": {},
   "source": [
    "#### Removing Stopwords"
   ]
  },
  {
   "cell_type": "code",
   "execution_count": 21,
   "id": "1e8c37d4",
   "metadata": {},
   "outputs": [
    {
     "name": "stdout",
     "output_type": "stream",
     "text": [
      "Original Stopwords:  179\n",
      "{'won', 'up', \"you're\", 'had', 'j', 'after', 'herself', \"mightn't\", 'an', 'again', 'll', 'these', 'through', 'c', 'now', 'his', 'into', \"hadn't\", 'no', 'but', 'this', 'h', 'where', 'yourselves', 'very', 'weren', 'here', 'not', 'also', 'against', 'is', 'hers', 'they', 'that', 'will', 'doesn', 'only', 'below', \"that'll\", 'about', \"she's\", 'for', 'doing', 'our', 'needn', 'you', 'before', 'than', 'o', 'itself', 'b', 'above', 've', 'ms', \"it's\", 'on', 'same', 'from', 'at', \"wasn't\", 'be', 'ma', \"weren't\", 'isn', 'themselves', 'all', 'l', 'until', 'w', 'z', 'whom', 'do', 'put', 'or', 'off', 'over', 'such', \"don't\", \"hasn't\", 'shan', 'ours', 'ain', 'any', 're', 'were', 'f', 'the', 'out', 'when', \"doesn't\", 'nor', 'both', 'their', 'further', 'how', 's', 'some', 'why', \"didn't\", 'been', 'just', 'would', 'those', 'r', 'while', 'each', 'e', 'its', 'a', 'u', 'during', 'aren', 'mightn', \"shouldn't\", 'who', 'with', 'between', 'we', 'myself', 'what', 'was', 'most', 'other', 'so', \"haven't\", 'didn', 'it', 'if', 'k', 'yourself', 'among', 'has', 'which', 'd', \"isn't\", 'because', \"you'll\", 'and', 'does', 'as', 't', 'few', 'haven', 'mustn', \"needn't\", 'hasn', 'by', 'n', 'ourselves', 'own', \"won't\", 'of', 'once', 'x', 'am', 'could', 'my', 'p', 'to', 'g', 'don', 'theirs', 'hadn', 'have', 'yours', 'more', 'me', 'then', \"you've\", 'y', \"you'd\", 'are', 'i', 'he', 'having', 'us', \"aren't\", 'under', 'in', 'there', 'can', 'couldn', 'v', 'mr', 'wasn', 'shouldn', \"shan't\", 'himself', 'being', \"mustn't\", 'mrs', 'your', 'wouldn', 'm', 'q', 'down', 'should', \"couldn't\", 'she', \"should've\", 'did', 'them', 'him', 'too', \"wouldn't\", 'her'}\n",
      "Total Stopwords:  206\n"
     ]
    }
   ],
   "source": [
    "#initialzing stop words as set\n",
    "stop_words = set(stopwords.words('english'))\n",
    "print(\"Original Stopwords: \",len(stop_words))\n",
    "\n",
    "#adding custom stop words i.e., a to z, to stop_words set\n",
    "for ch in range(ord('a'),ord('z')+1):\n",
    "    stop_words.update(chr(ch))\n",
    "\n",
    "stop_words.update(['could','would','us','also','mr','ms','mrs','among','put'])\n",
    "print(stop_words)\n",
    "print(\"Total Stopwords: \",len(stop_words))"
   ]
  },
  {
   "cell_type": "code",
   "execution_count": 22,
   "id": "992b1df0",
   "metadata": {},
   "outputs": [],
   "source": [
    "#removing stopwords\n",
    "df_news.text_feature = df_news.text_feature.apply(lambda x: ' '.join(word for word in x.split() if word not in stop_words))"
   ]
  },
  {
   "cell_type": "code",
   "execution_count": 23,
   "id": "c2064a01",
   "metadata": {},
   "outputs": [
    {
     "data": {
      "text/html": [
       "<div>\n",
       "<style scoped>\n",
       "    .dataframe tbody tr th:only-of-type {\n",
       "        vertical-align: middle;\n",
       "    }\n",
       "\n",
       "    .dataframe tbody tr th {\n",
       "        vertical-align: top;\n",
       "    }\n",
       "\n",
       "    .dataframe thead th {\n",
       "        text-align: right;\n",
       "    }\n",
       "</style>\n",
       "<table border=\"1\" class=\"dataframe\">\n",
       "  <thead>\n",
       "    <tr style=\"text-align: right;\">\n",
       "      <th></th>\n",
       "      <th>label</th>\n",
       "      <th>text_feature</th>\n",
       "      <th>original_length</th>\n",
       "    </tr>\n",
       "  </thead>\n",
       "  <tbody>\n",
       "    <tr>\n",
       "      <th>14747</th>\n",
       "      <td>1</td>\n",
       "      <td>teacher numbr yr old 'i can't wait trump elect...</td>\n",
       "      <td>4905</td>\n",
       "    </tr>\n",
       "    <tr>\n",
       "      <th>10140</th>\n",
       "      <td>1</td>\n",
       "      <td>even sing anthem singer kneels performance alt...</td>\n",
       "      <td>1272</td>\n",
       "    </tr>\n",
       "    <tr>\n",
       "      <th>1953</th>\n",
       "      <td>0</td>\n",
       "      <td>george michael wrestled fame frank sinatra adv...</td>\n",
       "      <td>2834</td>\n",
       "    </tr>\n",
       "    <tr>\n",
       "      <th>18004</th>\n",
       "      <td>1</td>\n",
       "      <td>cry help texas homeschooled children continue ...</td>\n",
       "      <td>19598</td>\n",
       "    </tr>\n",
       "    <tr>\n",
       "      <th>15800</th>\n",
       "      <td>0</td>\n",
       "      <td>dalian wanda china offers carrot hollywood new...</td>\n",
       "      <td>9073</td>\n",
       "    </tr>\n",
       "  </tbody>\n",
       "</table>\n",
       "</div>"
      ],
      "text/plain": [
       "       label                                       text_feature  \\\n",
       "14747      1  teacher numbr yr old 'i can't wait trump elect...   \n",
       "10140      1  even sing anthem singer kneels performance alt...   \n",
       "1953       0  george michael wrestled fame frank sinatra adv...   \n",
       "18004      1  cry help texas homeschooled children continue ...   \n",
       "15800      0  dalian wanda china offers carrot hollywood new...   \n",
       "\n",
       "       original_length  \n",
       "14747             4905  \n",
       "10140             1272  \n",
       "1953              2834  \n",
       "18004            19598  \n",
       "15800             9073  "
      ]
     },
     "execution_count": 23,
     "metadata": {},
     "output_type": "execute_result"
    }
   ],
   "source": [
    "#interpreting random 5 rows to see the change\n",
    "df_news.sample(5)"
   ]
  },
  {
   "cell_type": "markdown",
   "id": "be7d4650",
   "metadata": {},
   "source": [
    "#### Removing Punctuations & Storing length of text after cleansing in column new_length"
   ]
  },
  {
   "cell_type": "code",
   "execution_count": 24,
   "id": "7e4eb237",
   "metadata": {
    "scrolled": false
   },
   "outputs": [
    {
     "name": "stderr",
     "output_type": "stream",
     "text": [
      "<ipython-input-24-b561d2a8df49>:2: FutureWarning: The default value of regex will change from True to False in a future version.\n",
      "  df_news.text_feature = df_news.text_feature.str.replace(\"[^\\w\\d\\s]\",\"\")\n"
     ]
    },
    {
     "data": {
      "text/html": [
       "<div>\n",
       "<style scoped>\n",
       "    .dataframe tbody tr th:only-of-type {\n",
       "        vertical-align: middle;\n",
       "    }\n",
       "\n",
       "    .dataframe tbody tr th {\n",
       "        vertical-align: top;\n",
       "    }\n",
       "\n",
       "    .dataframe thead th {\n",
       "        text-align: right;\n",
       "    }\n",
       "</style>\n",
       "<table border=\"1\" class=\"dataframe\">\n",
       "  <thead>\n",
       "    <tr style=\"text-align: right;\">\n",
       "      <th></th>\n",
       "      <th>label</th>\n",
       "      <th>text_feature</th>\n",
       "      <th>original_length</th>\n",
       "      <th>new_length</th>\n",
       "    </tr>\n",
       "  </thead>\n",
       "  <tbody>\n",
       "    <tr>\n",
       "      <th>14776</th>\n",
       "      <td>0</td>\n",
       "      <td>republican study committee joins gop house lea...</td>\n",
       "      <td>3823</td>\n",
       "      <td>2576</td>\n",
       "    </tr>\n",
       "    <tr>\n",
       "      <th>105</th>\n",
       "      <td>0</td>\n",
       "      <td>orlando donald trump net neutrality tuesday ev...</td>\n",
       "      <td>4616</td>\n",
       "      <td>3144</td>\n",
       "    </tr>\n",
       "    <tr>\n",
       "      <th>6480</th>\n",
       "      <td>1</td>\n",
       "      <td>trump adviser says israeli settlements illegal...</td>\n",
       "      <td>3775</td>\n",
       "      <td>2789</td>\n",
       "    </tr>\n",
       "    <tr>\n",
       "      <th>17183</th>\n",
       "      <td>1</td>\n",
       "      <td>russia quietly winning middle east nobody talk...</td>\n",
       "      <td>4517</td>\n",
       "      <td>3010</td>\n",
       "    </tr>\n",
       "    <tr>\n",
       "      <th>11554</th>\n",
       "      <td>0</td>\n",
       "      <td>amid party concerns donald trump meets finance...</td>\n",
       "      <td>2403</td>\n",
       "      <td>1714</td>\n",
       "    </tr>\n",
       "    <tr>\n",
       "      <th>11673</th>\n",
       "      <td>1</td>\n",
       "      <td>envy israel shamir heres something interesting...</td>\n",
       "      <td>4998</td>\n",
       "      <td>3051</td>\n",
       "    </tr>\n",
       "    <tr>\n",
       "      <th>3267</th>\n",
       "      <td>1</td>\n",
       "      <td>fox news calls special prosecutor investigate ...</td>\n",
       "      <td>4060</td>\n",
       "      <td>2510</td>\n",
       "    </tr>\n",
       "    <tr>\n",
       "      <th>17650</th>\n",
       "      <td>0</td>\n",
       "      <td>donald trump republican party marijuana wednes...</td>\n",
       "      <td>5267</td>\n",
       "      <td>3689</td>\n",
       "    </tr>\n",
       "    <tr>\n",
       "      <th>5477</th>\n",
       "      <td>1</td>\n",
       "      <td>putin trump phone view better relations progre...</td>\n",
       "      <td>2528</td>\n",
       "      <td>1655</td>\n",
       "    </tr>\n",
       "    <tr>\n",
       "      <th>8108</th>\n",
       "      <td>0</td>\n",
       "      <td>dave brat numbrb americans first john binder r...</td>\n",
       "      <td>4205</td>\n",
       "      <td>2996</td>\n",
       "    </tr>\n",
       "  </tbody>\n",
       "</table>\n",
       "</div>"
      ],
      "text/plain": [
       "       label                                       text_feature  \\\n",
       "14776      0  republican study committee joins gop house lea...   \n",
       "105        0  orlando donald trump net neutrality tuesday ev...   \n",
       "6480       1  trump adviser says israeli settlements illegal...   \n",
       "17183      1  russia quietly winning middle east nobody talk...   \n",
       "11554      0  amid party concerns donald trump meets finance...   \n",
       "11673      1  envy israel shamir heres something interesting...   \n",
       "3267       1  fox news calls special prosecutor investigate ...   \n",
       "17650      0  donald trump republican party marijuana wednes...   \n",
       "5477       1  putin trump phone view better relations progre...   \n",
       "8108       0  dave brat numbrb americans first john binder r...   \n",
       "\n",
       "       original_length  new_length  \n",
       "14776             3823        2576  \n",
       "105               4616        3144  \n",
       "6480              3775        2789  \n",
       "17183             4517        3010  \n",
       "11554             2403        1714  \n",
       "11673             4998        3051  \n",
       "3267              4060        2510  \n",
       "17650             5267        3689  \n",
       "5477              2528        1655  \n",
       "8108              4205        2996  "
      ]
     },
     "execution_count": 24,
     "metadata": {},
     "output_type": "execute_result"
    }
   ],
   "source": [
    "#removing punctuations\n",
    "df_news.text_feature = df_news.text_feature.str.replace(\"[^\\w\\d\\s]\",\"\")\n",
    "\n",
    "#storing length of each text in column new_length\n",
    "df_news[\"new_length\"] = df_news.text_feature.str.len()\n",
    "\n",
    "#interpreting random 10 rows to see the change\n",
    "df_news.sample(10)"
   ]
  },
  {
   "cell_type": "code",
   "execution_count": 25,
   "id": "e3b30382",
   "metadata": {},
   "outputs": [
    {
     "name": "stdout",
     "output_type": "stream",
     "text": [
      "Total Original Text Length: 96356778\n",
      "Total New Text Length     : 65477473\n",
      "Length Cleaned:           : 30879305\n",
      "% of Length Cleaned       : 32.05%\n"
     ]
    }
   ],
   "source": [
    "#checking total length of text cleaned\n",
    "original_length_total = df_news.original_length.sum()\n",
    "new_length_total = df_news.new_length.sum()\n",
    "length_cleaned = original_length_total - new_length_total\n",
    "\n",
    "print(\"Total Original Text Length:\",original_length_total)\n",
    "print(\"Total New Text Length     :\",new_length_total)\n",
    "print(\"Length Cleaned:           :\",length_cleaned)\n",
    "print(f\"% of Length Cleaned       : {round(length_cleaned*100/original_length_total,2)}%\")"
   ]
  },
  {
   "cell_type": "code",
   "execution_count": 26,
   "id": "1ab39fb7",
   "metadata": {},
   "outputs": [
    {
     "data": {
      "text/plain": [
       "[('numbr', 216096),\n",
       " ('said', 80135),\n",
       " ('trump', 59632),\n",
       " ('one', 38886),\n",
       " ('new', 37227),\n",
       " ('people', 36645),\n",
       " ('clinton', 28302),\n",
       " ('like', 26534),\n",
       " ('president', 25679),\n",
       " ('time', 21311),\n",
       " ('state', 20728),\n",
       " ('many', 19310),\n",
       " ('even', 19026),\n",
       " ('years', 18085),\n",
       " ('states', 17763),\n",
       " ('two', 17615),\n",
       " ('first', 17591),\n",
       " ('government', 16889),\n",
       " ('american', 16318),\n",
       " ('world', 16261),\n",
       " ('times', 16160),\n",
       " ('hillary', 15999),\n",
       " ('news', 15715),\n",
       " ('year', 15685),\n",
       " ('obama', 15428),\n",
       " ('last', 15300),\n",
       " ('united', 15133),\n",
       " ('york', 15052),\n",
       " ('get', 13828),\n",
       " ('may', 13524),\n",
       " ('campaign', 13310),\n",
       " ('election', 13301),\n",
       " ('country', 12851),\n",
       " ('make', 12537),\n",
       " ('going', 12507),\n",
       " ('way', 12430),\n",
       " ('house', 12410),\n",
       " ('made', 12152),\n",
       " ('white', 12145),\n",
       " ('media', 12006),\n",
       " ('back', 11998),\n",
       " ('know', 11942),\n",
       " ('much', 11767),\n",
       " ('think', 11695),\n",
       " ('day', 11656),\n",
       " ('war', 11502),\n",
       " ('say', 11195),\n",
       " ('political', 11184),\n",
       " ('donald', 11035),\n",
       " ('see', 10947),\n",
       " ('well', 10828),\n",
       " ('russia', 10778),\n",
       " ('national', 10531),\n",
       " ('still', 10503),\n",
       " ('told', 10355),\n",
       " ('since', 10335),\n",
       " ('public', 10291),\n",
       " ('take', 10144),\n",
       " ('police', 10121),\n",
       " ('right', 10083),\n",
       " ('according', 10029),\n",
       " ('work', 9966),\n",
       " ('want', 9942),\n",
       " ('another', 9773),\n",
       " ('law', 9687),\n",
       " ('percent', 9570),\n",
       " ('party', 9438),\n",
       " ('america', 9425),\n",
       " ('go', 9300),\n",
       " ('including', 9121),\n",
       " ('former', 9118),\n",
       " ('city', 8937),\n",
       " ('called', 8904),\n",
       " ('long', 8786),\n",
       " ('women', 8773),\n",
       " ('around', 8756),\n",
       " ('good', 8698),\n",
       " ('officials', 8666),\n",
       " ('part', 8634),\n",
       " ('never', 8562),\n",
       " ('life', 8490),\n",
       " ('million', 8485),\n",
       " ('de', 8278),\n",
       " ('group', 8113),\n",
       " ('security', 7999),\n",
       " ('federal', 7985),\n",
       " ('twitter', 7950),\n",
       " ('use', 7928),\n",
       " ('military', 7926),\n",
       " ('every', 7850),\n",
       " ('washington', 7818),\n",
       " ('three', 7814),\n",
       " ('administration', 7748),\n",
       " ('republican', 7741),\n",
       " ('support', 7729),\n",
       " ('need', 7674),\n",
       " ('power', 7598),\n",
       " ('week', 7589),\n",
       " ('man', 7525),\n",
       " ('found', 7376),\n",
       " ('case', 7343),\n",
       " ('used', 7323),\n",
       " ('show', 7293),\n",
       " ('come', 7261),\n",
       " ('money', 7187),\n",
       " ('might', 7170),\n",
       " ('home', 7167),\n",
       " ('russian', 7159),\n",
       " ('family', 7143),\n",
       " ('department', 7115),\n",
       " ('next', 7080),\n",
       " ('health', 7077),\n",
       " ('policy', 7038),\n",
       " ('help', 7032),\n",
       " ('breitbart', 7022),\n",
       " ('company', 6960),\n",
       " ('left', 6958),\n",
       " ('black', 6934),\n",
       " ('really', 6923),\n",
       " ('court', 6826),\n",
       " ('without', 6806),\n",
       " ('vote', 6792),\n",
       " ('change', 6734),\n",
       " ('americans', 6733),\n",
       " ('office', 6715),\n",
       " ('days', 6677),\n",
       " ('system', 6655),\n",
       " ('something', 6609),\n",
       " ('presidential', 6578),\n",
       " ('end', 6550),\n",
       " ('children', 6440),\n",
       " ('bill', 6429),\n",
       " ('things', 6405),\n",
       " ('says', 6285),\n",
       " ('whether', 6260),\n",
       " ('syria', 6255),\n",
       " ('far', 6213),\n",
       " ('foreign', 6187),\n",
       " ('china', 6133),\n",
       " ('today', 6114),\n",
       " ('report', 6099),\n",
       " ('place', 6061),\n",
       " ('great', 6005),\n",
       " ('information', 5996),\n",
       " ('order', 5968),\n",
       " ('little', 5951),\n",
       " ('email', 5936),\n",
       " ('though', 5935),\n",
       " ('several', 5926),\n",
       " ('look', 5920)]"
      ]
     },
     "execution_count": 26,
     "metadata": {},
     "output_type": "execute_result"
    }
   ],
   "source": [
    "#check most common words after removal of stopwords & punctuations\n",
    "common_words_without_stopwords = get_common_words(df_news.text_feature)\n",
    "\n",
    "#interpreting top 150 most common words\n",
    "common_words_without_stopwords.most_common(150)"
   ]
  },
  {
   "cell_type": "markdown",
   "id": "52fbf32b",
   "metadata": {},
   "source": [
    "#### Remarks:\n",
    "- After removal of stopwords and punctuations, most common words becomes numbr, said, trump, etc."
   ]
  },
  {
   "cell_type": "markdown",
   "id": "bee93213",
   "metadata": {},
   "source": [
    "## Exploratory Data Analysis (EDA)"
   ]
  },
  {
   "cell_type": "code",
   "execution_count": 27,
   "id": "5cb44630",
   "metadata": {},
   "outputs": [
    {
     "data": {
      "image/png": "[encoded data removed]",
      "text/plain": [
       "<Figure size 432x288 with 1 Axes>"
      ]
     },
     "metadata": {
      "needs_background": "light"
     },
     "output_type": "display_data"
    }
   ],
   "source": [
    "#checking target label using count plot\n",
    "ax = sns.countplot(x=\"label\",data=df_news)\n",
    "k=0\n",
    "for i in ax.patches:\n",
    "    plt.text(k,i.get_height()/2,f\"{round(i.get_height()*100/len(df_news.label),2)}%\",ha=\"center\",rotation=90,fontweight=\"bold\")\n",
    "    k += 1\n",
    "    \n",
    "ax.set_xticklabels(['0: NotFake','1: Fake'])\n",
    "plt.title(\"CountPlot for target label\")\n",
    "plt.show()"
   ]
  },
  {
   "cell_type": "markdown",
   "id": "3533c52d",
   "metadata": {},
   "source": [
    "#### Remarks:\n",
    "- There are almost equal number of records available for fake (1) and Not Fake (0) label.\n",
    "- **Dataset is balanced.**"
   ]
  },
  {
   "cell_type": "markdown",
   "id": "45e35ed2",
   "metadata": {},
   "source": [
    "#### Checking the news text length distribution before and after cleansing"
   ]
  },
  {
   "cell_type": "code",
   "execution_count": 28,
   "id": "24add158",
   "metadata": {},
   "outputs": [
    {
     "data": {
      "image/png": "[encoded data removed]",
      "text/plain": [
       "<Figure size 1080x288 with 2 Axes>"
      ]
     },
     "metadata": {
      "needs_background": "light"
     },
     "output_type": "display_data"
    }
   ],
   "source": [
    "#checking the text length distribution using column original_length and new_length\n",
    "fig, (ax1,ax2) = plt.subplots(1,2,figsize=(15,4))\n",
    "\n",
    "#for original_length\n",
    "sns.histplot(df_news.original_length,ax=ax1,color=\"red\",stat=\"density\",kde=True)\n",
    "ax1.set_title(\"Original Text Length Distribution\")\n",
    "ax1.set_xlabel(\"Text Length\")\n",
    "\n",
    "#for new_length\n",
    "sns.histplot(df_news.new_length,ax=ax2,color=\"green\",stat=\"density\",kde=True)\n",
    "ax2.set_title(\"Cleaned Text Length Distribution\")\n",
    "ax2.set_xlabel(\"Text Length\")\n",
    "\n",
    "plt.show()"
   ]
  },
  {
   "cell_type": "markdown",
   "id": "30532ba4",
   "metadata": {},
   "source": [
    "#### Remarks:\n",
    "- From the above dipiction, it is clear that the **length of text reduced by greater amount** after cleansing of text data.\n",
    "- Also, the range of **text length reduced from 0-140000 to 0-80000**."
   ]
  },
  {
   "cell_type": "markdown",
   "id": "4fdf0a8e",
   "metadata": {},
   "source": [
    "#### Checking the 50 most common words before cleansing and after cleansing"
   ]
  },
  {
   "cell_type": "code",
   "execution_count": 29,
   "id": "2c04d326",
   "metadata": {},
   "outputs": [],
   "source": [
    "#creating most common words dataframe\n",
    "#before cleansing\n",
    "df_cw_bc = pd.DataFrame(common_words_with_stopwords.most_common(),columns=['words','count'])\n",
    "\n",
    "#after cleansing\n",
    "df_cw_ac = pd.DataFrame(common_words_without_stopwords.most_common(),columns=['words','count'])"
   ]
  },
  {
   "cell_type": "code",
   "execution_count": 30,
   "id": "6f2bc297",
   "metadata": {},
   "outputs": [
    {
     "data": {
      "image/png": "[encoded data removed]",
      "text/plain": [
       "<Figure size 1152x576 with 2 Axes>"
      ]
     },
     "metadata": {
      "needs_background": "light"
     },
     "output_type": "display_data"
    }
   ],
   "source": [
    "#Checking the 30 most common words before and after cleansing using barplot\n",
    "max_words = 30\n",
    "fig, (ax1,ax2) = plt.subplots(1,2,figsize=(16,8))\n",
    "fig.subplots_adjust(wspace=0.5)\n",
    "#before cleansing\n",
    "sns.barplot(x='count',y='words',data=df_cw_bc[:max_words],ax=ax1)\n",
    "ax1.set_title(\"Most Common Words: BEFORE CLEANSING\")\n",
    "\n",
    "#after cleansing\n",
    "sns.barplot(x='count',y='words',data=df_cw_ac[:max_words],ax=ax2)\n",
    "ax2.set_title(\"Most Common Words: AFTER CLEANSING\")\n",
    "\n",
    "plt.show()"
   ]
  },
  {
   "cell_type": "markdown",
   "id": "5ba91f81",
   "metadata": {},
   "source": [
    "#### Remarks:\n",
    "- From above dipiction, it is clear that the most common words before cleansing were the, to, of, and, a, etc. while after cleansing most common words are numbr, trump, one, new, people, etc."
   ]
  },
  {
   "cell_type": "markdown",
   "id": "05519abe",
   "metadata": {},
   "source": [
    "### WordCloud: Getting sense of loud words"
   ]
  },
  {
   "cell_type": "code",
   "execution_count": 31,
   "id": "f4ac65d9",
   "metadata": {},
   "outputs": [],
   "source": [
    "#importing required libraries\n",
    "from wordcloud import WordCloud"
   ]
  },
  {
   "cell_type": "code",
   "execution_count": 32,
   "id": "b6d38dfa",
   "metadata": {},
   "outputs": [],
   "source": [
    "#getting wordcloud for fake news i.e. label = 1\n",
    "word_cloud_1 = WordCloud(width=500,height=500,background_color=\"white\",max_words=80).generate(' '.join(df_news.text_feature[df_news.label==1]))\n",
    "\n",
    "#getting wordcloud for not fake news i.e. label = 0\n",
    "word_cloud_0 = WordCloud(width=500,height=500,background_color=\"white\",max_words=80).generate(' '.join(df_news.text_feature[df_news.label==0]))\n"
   ]
  },
  {
   "cell_type": "code",
   "execution_count": 33,
   "id": "e2120279",
   "metadata": {},
   "outputs": [
    {
     "data": {
      "image/png": "[encoded data removed]",
      "text/plain": [
       "<Figure size 1080x432 with 2 Axes>"
      ]
     },
     "metadata": {},
     "output_type": "display_data"
    }
   ],
   "source": [
    "#displaying wordcloud using matplotlib\n",
    "fig, (ax1,ax2) = plt.subplots(1,2,figsize=(15,6))\n",
    "fig.subplots_adjust(wspace=0.3)\n",
    "fig.suptitle(\"WordCloud: Representation of Loud Words in News Corpus\",fontsize=16)\n",
    "\n",
    "#displaying wordcloud for label = 1\n",
    "ax1.imshow(word_cloud_1)\n",
    "ax1.set_title(\"Loud Words in Fake News\")\n",
    "for spine in ax1.spines.values():\n",
    "    spine.set_edgecolor(\"red\")\n",
    "\n",
    "ax1.set_xticks([])\n",
    "ax1.set_yticks([])\n",
    "#displaying wordcloud for label = 0\n",
    "ax2.imshow(word_cloud_0)\n",
    "ax2.set_title(\"Loud Words in Not Fake News\")\n",
    "for spine in ax2.spines.values():\n",
    "    spine.set_edgecolor(\"green\")\n",
    "\n",
    "ax2.set_xticks([])\n",
    "ax2.set_yticks([])\n",
    "\n",
    "fig.tight_layout(pad=2)\n",
    "plt.show()"
   ]
  },
  {
   "cell_type": "markdown",
   "id": "41e49e4c",
   "metadata": {},
   "source": [
    "#### Remarks:\n",
    "- Loud words in Fake news are numbers, hillary clinton, donald trump, america, united state, people, war, etc.\n",
    "- Loud words in Not Fake news are new york, trump, united state, support, help, democrat etc."
   ]
  },
  {
   "cell_type": "markdown",
   "id": "143c302e",
   "metadata": {},
   "source": [
    "### EDA Concluding Remarks:\n",
    ">Starting with **count plot**, it was found that dataset is balanced with almost equal number of records for fake news as well as not fake news. Moving further with **distribution plot** for news text length, it was found that after cleansing of news text, the length of news text reduced by a greater amount. Also with the help of **barplot** for most common words, it was found that, before cleansing, the most common words are mostly stop words i.e. the, and, of, a, etc. and after cleansing, the most common words are like, numbr, said, clinton, people, president, time, state etc. With the help of word cloud, it was found that the loud words in fake news are hillary clinton, donald trump, america, united state, war etc. while in not fake news are new york, trump, united state, support, help, demorat etc."
   ]
  },
  {
   "cell_type": "markdown",
   "id": "c688db8e",
   "metadata": {},
   "source": [
    "## Preparing Data for Model Training & Testing"
   ]
  },
  {
   "cell_type": "code",
   "execution_count": 34,
   "id": "4183bd0c",
   "metadata": {},
   "outputs": [],
   "source": [
    "#importing required libraries\n",
    "from sklearn.model_selection import train_test_split, GridSearchCV, cross_val_score\n",
    "from sklearn.metrics import classification_report, log_loss, accuracy_score\n",
    "from sklearn.feature_extraction.text import TfidfVectorizer\n",
    "from sklearn.naive_bayes import MultinomialNB\n",
    "from sklearn.linear_model import SGDClassifier, LogisticRegression\n",
    "from sklearn.experimental import enable_hist_gradient_boosting\n",
    "from sklearn.ensemble import HistGradientBoostingClassifier\n",
    "from sklearn.tree import DecisionTreeClassifier\n",
    "import tqdm.notebook as tqdm\n",
    "import sys, timeit\n",
    "from IPython.display import display"
   ]
  },
  {
   "cell_type": "markdown",
   "id": "6b9719f6",
   "metadata": {},
   "source": [
    "### 1. Convert text to vectors"
   ]
  },
  {
   "cell_type": "code",
   "execution_count": 40,
   "id": "83a57633",
   "metadata": {},
   "outputs": [],
   "source": [
    "#convert news text to vectors using TfidfVectorizer\n",
    "tfidf = TfidfVectorizer(max_features=8000)\n",
    "features = tfidf.fit_transform(df_news.text_feature).toarray()"
   ]
  },
  {
   "cell_type": "markdown",
   "id": "00a107a9",
   "metadata": {},
   "source": [
    "### 2. Seperating Input and Output Variables"
   ]
  },
  {
   "cell_type": "code",
   "execution_count": 41,
   "id": "e0af58fc",
   "metadata": {},
   "outputs": [
    {
     "name": "stdout",
     "output_type": "stream",
     "text": [
      "Feature's Shape:  (20800, 8000)\n",
      "Target's Shape:  (20800,)\n"
     ]
    }
   ],
   "source": [
    "#Input variable\n",
    "X = features\n",
    "print(\"Feature's Shape: \",X.shape)\n",
    "\n",
    "#Output variable\n",
    "Y = df_news.label\n",
    "print(\"Target's Shape: \",Y.shape)"
   ]
  },
  {
   "cell_type": "markdown",
   "id": "dd651ccd",
   "metadata": {},
   "source": [
    "### 3. Training & Testing Model"
   ]
  },
  {
   "cell_type": "code",
   "execution_count": 42,
   "id": "0415da04",
   "metadata": {},
   "outputs": [],
   "source": [
    "#function to get best random state\n",
    "def get_best_random_state(model,X,Y,t_size=0.25,rs_range=range(1,301,50)):\n",
    "    best_rstate = 0\n",
    "    best_accuracy_score = 0\n",
    "    random_state_message = \"\\r\"\n",
    "    \n",
    "    for i in tqdm.tqdm(rs_range,desc=f\"Best_Random_State => {model}\"):\n",
    "        X_train, X_test, Y_train, Y_test = train_test_split(X,Y,test_size=t_size,random_state=i)\n",
    "        model.fit(X_train, Y_train)\n",
    "        y_pred = model.predict(X_test)\n",
    "        a_score = accuracy_score(Y_test,y_pred)\n",
    "        \n",
    "        if a_score > best_accuracy_score:\n",
    "            best_accuracy_score = a_score\n",
    "            best_rstate = i\n",
    "            \n",
    "        random_state_message += f\"[{i}: {round(a_score*100,2)}]<--->\"\n",
    "        sys.stdout.write(random_state_message)\n",
    "        \n",
    "    sys.stdout.write(f\"\\n\\nBest Random State: {best_rstate} found with Accuracy: {best_accuracy_score}\")\n",
    "    return best_rstate, best_accuracy_score\n",
    "#End of function\n",
    "\n",
    "\n",
    "#function to get best cv score\n",
    "def get_best_cv(model,X_train,Y_train,parameters,cv_range=range(5,25,5)):\n",
    "    best_cv_score = 0\n",
    "    best_cv = 0\n",
    "    \n",
    "    cv_message = \"\\r\"\n",
    "    for i in tqdm.tqdm(cv_range,desc=f\"Best_CV => {model}\"):\n",
    "        gscv = GridSearchCV(model,parameters)\n",
    "        gscv.fit(X_train,Y_train)\n",
    "        \n",
    "        cv_score = cross_val_score(gscv.best_estimator_,X_train,Y_train,cv=i).mean()\n",
    "        \n",
    "        if cv_score > best_cv_score:\n",
    "            best_cv_score = cv_score\n",
    "            best_cv = i\n",
    "        \n",
    "        cv_message += f\"[{i}:{round(cv_score*100,2)}]<--->\"\n",
    "        sys.stdout.write(cv_message)\n",
    "    \n",
    "    sys.stdout.write(f\"\\n\\nBest CV: {best_cv} found with Cross Val Score: {best_cv_score}\")\n",
    "    \n",
    "    return best_cv, best_cv_score\n",
    "#End of function\n",
    "\n",
    "#function to build models\n",
    "def build_models(models,X,Y,t_size=0.25,rs_range=range(1,301,50),cv_range=range(5,25,5)):\n",
    "    for i in tqdm.tqdm(models,desc=\"Building Models\"):\n",
    "        sys.stdout.write(\"\\n=======================================================================================\\n\")\n",
    "        sys.stdout.write(f\"Current Model in Progress: {i} \")\n",
    "        sys.stdout.write(\"\\n=======================================================================================\\n\")\n",
    "        \n",
    "        #start time\n",
    "        start_time = timeit.default_timer()\n",
    "        \n",
    "        #Find the best random state\n",
    "        best_random_state, best_accuracy_score = get_best_random_state(models[i]['name'],X,Y,t_size,rs_range)\n",
    "        sys.stdout.write(\"\\n\")\n",
    "        \n",
    "        #Spliting train and test data using train_test_split method with best random state value\n",
    "        X_train,X_test,Y_train,Y_test = train_test_split(X,Y,test_size=t_size,random_state=best_random_state)\n",
    "        \n",
    "        #Find the best CV\n",
    "        best_cv, best_cv_score = get_best_cv(models[i]['name'],X_train,Y_train,models[i]['parameters'],cv_range)\n",
    "        sys.stdout.write(\"\\n\\nBuilding Model...\")\n",
    "        \n",
    "        #Training the model using best CV\n",
    "        gscv = GridSearchCV(models[i]['name'],models[i]['parameters'],cv=best_cv)\n",
    "        gscv.fit(X_train,Y_train)\n",
    "        \n",
    "        #Testing model\n",
    "        y_pred = gscv.best_estimator_.predict(X_test)\n",
    "        \n",
    "        #Recording model performance\n",
    "        model_accuracy_score = accuracy_score(Y_test,y_pred)\n",
    "        model_classification_report = classification_report(Y_test,y_pred)\n",
    "        model_log_loss = log_loss(Y_test,y_pred)\n",
    "        \n",
    "        #end time\n",
    "        end_time = timeit.default_timer()\n",
    "        sys.stdout.write(f\"Completed in [{end_time-start_time} sec.]\")\n",
    "        \n",
    "        #storing model specifications\n",
    "        models[i]['initial_accuracy_score'] = best_accuracy_score\n",
    "        models[i]['best_random_state'] = best_random_state\n",
    "        models[i]['x_train'] = X_train\n",
    "        models[i]['x_test'] = X_test\n",
    "        models[i]['y_train'] = Y_train\n",
    "        models[i]['y_test'] = Y_test\n",
    "        models[i]['best_cv'] = best_cv\n",
    "        models[i]['best_cv_score'] = best_cv_score\n",
    "        models[i]['gscv'] = gscv\n",
    "        models[i]['y_predict'] = y_pred\n",
    "        models[i]['final_accuracy'] = model_accuracy_score\n",
    "        models[i]['log_loss'] = model_log_loss\n",
    "        models[i]['classification_report'] = model_classification_report\n",
    "        models[i]['build_time'] = f\"{end_time - start_time} (in sec.)\"\n",
    "        \n",
    "        sys.stdout.write(\"\\n=======================================================================================\\n\\n\\n\")\n",
    "    \n",
    "    return models\n",
    "#End of function\n",
    "\n",
    "#function to display model performance\n",
    "def display_performance(models):\n",
    "    model_names = []\n",
    "    model_initial_score = []\n",
    "    model_cross_val_score = []\n",
    "    model_log_loss_score = []\n",
    "    model_final_score = []\n",
    "    model_build_time = []\n",
    "    for i in models:\n",
    "        model_names.append(i)\n",
    "        model_initial_score.append(models[i]['initial_accuracy_score'])\n",
    "        model_cross_val_score.append(models[i]['best_cv_score'])\n",
    "        model_log_loss_score.append(models[i]['log_loss'])\n",
    "        model_final_score.append(models[i]['final_accuracy'])\n",
    "        model_build_time.append(models[i]['build_time'])\n",
    "    \n",
    "    model_df = pd.DataFrame({\n",
    "        \"Name\": model_names,\n",
    "        \"Initial Score\": model_initial_score,\n",
    "        \"Cross Val Score\": model_cross_val_score,\n",
    "        \"Log Loss\": model_log_loss_score,\n",
    "        \"Final Score\": model_final_score,\n",
    "        \"Build Time\": model_build_time,\n",
    "    })\n",
    "    \n",
    "    model_df['Difference (Final Score - Cross Val Score)'] = model_df['Final Score'] - model_df['Cross Val Score']\n",
    "    display(model_df)\n",
    "    \n",
    "    for i in models:\n",
    "        print(\"========================================================\")\n",
    "        print(f\"for model: {i}\")\n",
    "        print(\"========================================================\")\n",
    "        print(\"CLASSIFICATION REPORT\")\n",
    "        print(models[i]['classification_report'])\n",
    "        print(\"=======================================================\\n\\n\")\n",
    "        \n",
    "    return\n",
    "#End of function"
   ]
  },
  {
   "cell_type": "code",
   "execution_count": 43,
   "id": "38da27dc",
   "metadata": {},
   "outputs": [],
   "source": [
    "#List of models for training & testing\n",
    "models = {\n",
    "    \"MultinomialNB\":{\n",
    "        \"name\": MultinomialNB(),\n",
    "        \"parameters\":{\n",
    "            \"alpha\": [1.0]                \n",
    "        }\n",
    "    },\n",
    "    \"SGDClassifier\":{\n",
    "        \"name\": SGDClassifier(),\n",
    "        \"parameters\":{\n",
    "            \"loss\":['hinge','modified_huber'],\n",
    "            \"alpha\":[0.001,0.0001,0.00001],\n",
    "            \"n_jobs\":[-1],\n",
    "            \"learning_rate\":['optimal'],\n",
    "            \"max_iter\":[100]\n",
    "        }\n",
    "    },\n",
    "    \"HistGradientBoostingClassifier\":{\n",
    "        \"name\": HistGradientBoostingClassifier(),\n",
    "        \"parameters\":{\n",
    "            \"loss\": ['binary_crossentropy'],\n",
    "            \"l2_regularization\": [0,1.0]\n",
    "        }\n",
    "    }\n",
    "}"
   ]
  },
  {
   "cell_type": "code",
   "execution_count": 44,
   "id": "1811c18b",
   "metadata": {
    "scrolled": false
   },
   "outputs": [
    {
     "data": {
      "application/vnd.jupyter.widget-view+json": {
       "model_id": "3983e8af1c6e49859b93e80356aa9eac",
       "version_major": 2,
       "version_minor": 0
      },
      "text/plain": [
       "Building Models:   0%|          | 0/3 [00:00<?, ?it/s]"
      ]
     },
     "metadata": {},
     "output_type": "display_data"
    },
    {
     "name": "stdout",
     "output_type": "stream",
     "text": [
      "\n",
      "=======================================================================================\n",
      "Current Model in Progress: MultinomialNB \n",
      "=======================================================================================\n"
     ]
    },
    {
     "data": {
      "application/vnd.jupyter.widget-view+json": {
       "model_id": "627789755c1341648b2134b3ecebdfe3",
       "version_major": 2,
       "version_minor": 0
      },
      "text/plain": [
       "Best_Random_State => MultinomialNB():   0%|          | 0/4 [00:00<?, ?it/s]"
      ]
     },
     "metadata": {},
     "output_type": "display_data"
    },
    {
     "name": "stdout",
     "output_type": "stream",
     "text": [
      "[38: 89.94]<--->[40: 90.81]<--->[42: 90.4]<--->[44: 90.15]<--->\n",
      "\n",
      "Best Random State: 40 found with Accuracy: 0.9080769230769231\n"
     ]
    },
    {
     "data": {
      "application/vnd.jupyter.widget-view+json": {
       "model_id": "7ea237e3aeaa459d963b1b8f76852a8f",
       "version_major": 2,
       "version_minor": 0
      },
      "text/plain": [
       "Best_CV => MultinomialNB():   0%|          | 0/3 [00:00<?, ?it/s]"
      ]
     },
     "metadata": {},
     "output_type": "display_data"
    },
    {
     "name": "stdout",
     "output_type": "stream",
     "text": [
      "[5:90.06]<--->[7:89.99]<--->[9:90.07]<--->\n",
      "\n",
      "Best CV: 9 found with Cross Val Score: 0.9007059959405734\n",
      "\n",
      "Building Model...Completed in [105.37263130000065 sec.]\n",
      "=======================================================================================\n",
      "\n",
      "\n",
      "\n",
      "=======================================================================================\n",
      "Current Model in Progress: SGDClassifier \n",
      "=======================================================================================\n"
     ]
    },
    {
     "data": {
      "application/vnd.jupyter.widget-view+json": {
       "model_id": "4aa6f86d7fd44658add3709e60235758",
       "version_major": 2,
       "version_minor": 0
      },
      "text/plain": [
       "Best_Random_State => SGDClassifier():   0%|          | 0/4 [00:00<?, ?it/s]"
      ]
     },
     "metadata": {},
     "output_type": "display_data"
    },
    {
     "name": "stdout",
     "output_type": "stream",
     "text": [
      "[38: 96.69]<--->[40: 96.73]<--->[42: 97.08]<--->[44: 96.56]<--->\n",
      "\n",
      "Best Random State: 42 found with Accuracy: 0.9707692307692307\n"
     ]
    },
    {
     "data": {
      "application/vnd.jupyter.widget-view+json": {
       "model_id": "e2e6d5308252402aad7df62c5f752e25",
       "version_major": 2,
       "version_minor": 0
      },
      "text/plain": [
       "Best_CV => SGDClassifier():   0%|          | 0/3 [00:00<?, ?it/s]"
      ]
     },
     "metadata": {},
     "output_type": "display_data"
    },
    {
     "name": "stdout",
     "output_type": "stream",
     "text": [
      "[5:95.94]<--->[7:96.53]<--->[9:96.54]<--->\n",
      "\n",
      "Best CV: 9 found with Cross Val Score: 0.9653841321479695\n",
      "\n",
      "Building Model...Completed in [1180.5848260999992 sec.]\n",
      "=======================================================================================\n",
      "\n",
      "\n",
      "\n",
      "=======================================================================================\n",
      "Current Model in Progress: HistGradientBoostingClassifier \n",
      "=======================================================================================\n"
     ]
    },
    {
     "data": {
      "application/vnd.jupyter.widget-view+json": {
       "model_id": "2e36b2f62d6743a19bb990346ad4662a",
       "version_major": 2,
       "version_minor": 0
      },
      "text/plain": [
       "Best_Random_State => HistGradientBoostingClassifier():   0%|          | 0/4 [00:00<?, ?it/s]"
      ]
     },
     "metadata": {},
     "output_type": "display_data"
    },
    {
     "name": "stdout",
     "output_type": "stream",
     "text": [
      "[38: 97.92]<--->[40: 98.12]<--->[42: 97.85]<--->[44: 97.75]<--->\n",
      "\n",
      "Best Random State: 40 found with Accuracy: 0.9811538461538462\n"
     ]
    },
    {
     "data": {
      "application/vnd.jupyter.widget-view+json": {
       "model_id": "fd37c6924f2b4c3ca7ff4abfdde7ea72",
       "version_major": 2,
       "version_minor": 0
      },
      "text/plain": [
       "Best_CV => HistGradientBoostingClassifier():   0%|          | 0/3 [00:00<?, ?it/s]"
      ]
     },
     "metadata": {},
     "output_type": "display_data"
    },
    {
     "name": "stdout",
     "output_type": "stream",
     "text": [
      "[5:97.69]<--->[7:97.67]<--->[9:97.62]<--->\n",
      "\n",
      "Best CV: 5 found with Cross Val Score: 0.976923076923077\n",
      "\n",
      "Building Model...Completed in [27015.6240779 sec.]\n",
      "=======================================================================================\n",
      "\n",
      "\n"
     ]
    }
   ],
   "source": [
    "#building models\n",
    "build_model = build_models(models,X,Y,rs_range=[38,40,42,44],cv_range=[5,7,9])"
   ]
  },
  {
   "cell_type": "code",
   "execution_count": 47,
   "id": "9d30212d",
   "metadata": {},
   "outputs": [
    {
     "data": {
      "text/html": [
       "<div>\n",
       "<style scoped>\n",
       "    .dataframe tbody tr th:only-of-type {\n",
       "        vertical-align: middle;\n",
       "    }\n",
       "\n",
       "    .dataframe tbody tr th {\n",
       "        vertical-align: top;\n",
       "    }\n",
       "\n",
       "    .dataframe thead th {\n",
       "        text-align: right;\n",
       "    }\n",
       "</style>\n",
       "<table border=\"1\" class=\"dataframe\">\n",
       "  <thead>\n",
       "    <tr style=\"text-align: right;\">\n",
       "      <th></th>\n",
       "      <th>Name</th>\n",
       "      <th>Initial Score</th>\n",
       "      <th>Cross Val Score</th>\n",
       "      <th>Log Loss</th>\n",
       "      <th>Final Score</th>\n",
       "      <th>Build Time</th>\n",
       "      <th>Difference (Final Score - Cross Val Score)</th>\n",
       "    </tr>\n",
       "  </thead>\n",
       "  <tbody>\n",
       "    <tr>\n",
       "      <th>0</th>\n",
       "      <td>MultinomialNB</td>\n",
       "      <td>0.908077</td>\n",
       "      <td>0.900706</td>\n",
       "      <td>3.174932</td>\n",
       "      <td>0.908077</td>\n",
       "      <td>105.37263130000065 (in sec.)</td>\n",
       "      <td>0.007371</td>\n",
       "    </tr>\n",
       "    <tr>\n",
       "      <th>1</th>\n",
       "      <td>SGDClassifier</td>\n",
       "      <td>0.970769</td>\n",
       "      <td>0.965384</td>\n",
       "      <td>1.135799</td>\n",
       "      <td>0.967115</td>\n",
       "      <td>1180.5848260999992 (in sec.)</td>\n",
       "      <td>0.001731</td>\n",
       "    </tr>\n",
       "    <tr>\n",
       "      <th>2</th>\n",
       "      <td>HistGradientBoostingClassifier</td>\n",
       "      <td>0.981154</td>\n",
       "      <td>0.976923</td>\n",
       "      <td>0.677499</td>\n",
       "      <td>0.980385</td>\n",
       "      <td>27015.6240779 (in sec.)</td>\n",
       "      <td>0.003462</td>\n",
       "    </tr>\n",
       "  </tbody>\n",
       "</table>\n",
       "</div>"
      ],
      "text/plain": [
       "                             Name  Initial Score  Cross Val Score  Log Loss  \\\n",
       "0                   MultinomialNB       0.908077         0.900706  3.174932   \n",
       "1                   SGDClassifier       0.970769         0.965384  1.135799   \n",
       "2  HistGradientBoostingClassifier       0.981154         0.976923  0.677499   \n",
       "\n",
       "   Final Score                    Build Time  \\\n",
       "0     0.908077  105.37263130000065 (in sec.)   \n",
       "1     0.967115  1180.5848260999992 (in sec.)   \n",
       "2     0.980385       27015.6240779 (in sec.)   \n",
       "\n",
       "   Difference (Final Score - Cross Val Score)  \n",
       "0                                    0.007371  \n",
       "1                                    0.001731  \n",
       "2                                    0.003462  "
      ]
     },
     "metadata": {},
     "output_type": "display_data"
    },
    {
     "name": "stdout",
     "output_type": "stream",
     "text": [
      "========================================================\n",
      "for model: MultinomialNB\n",
      "========================================================\n",
      "CLASSIFICATION REPORT\n",
      "              precision    recall  f1-score   support\n",
      "\n",
      "           0       0.88      0.94      0.91      2575\n",
      "           1       0.94      0.87      0.91      2625\n",
      "\n",
      "    accuracy                           0.91      5200\n",
      "   macro avg       0.91      0.91      0.91      5200\n",
      "weighted avg       0.91      0.91      0.91      5200\n",
      "\n",
      "=======================================================\n",
      "\n",
      "\n",
      "========================================================\n",
      "for model: SGDClassifier\n",
      "========================================================\n",
      "CLASSIFICATION REPORT\n",
      "              precision    recall  f1-score   support\n",
      "\n",
      "           0       0.95      0.99      0.97      2585\n",
      "           1       0.99      0.95      0.97      2615\n",
      "\n",
      "    accuracy                           0.97      5200\n",
      "   macro avg       0.97      0.97      0.97      5200\n",
      "weighted avg       0.97      0.97      0.97      5200\n",
      "\n",
      "=======================================================\n",
      "\n",
      "\n",
      "========================================================\n",
      "for model: HistGradientBoostingClassifier\n",
      "========================================================\n",
      "CLASSIFICATION REPORT\n",
      "              precision    recall  f1-score   support\n",
      "\n",
      "           0       0.98      0.98      0.98      2575\n",
      "           1       0.98      0.98      0.98      2625\n",
      "\n",
      "    accuracy                           0.98      5200\n",
      "   macro avg       0.98      0.98      0.98      5200\n",
      "weighted avg       0.98      0.98      0.98      5200\n",
      "\n",
      "=======================================================\n",
      "\n",
      "\n"
     ]
    }
   ],
   "source": [
    "#displaying model performances\n",
    "display_performance(build_model)"
   ]
  },
  {
   "cell_type": "markdown",
   "id": "2c13e8f3",
   "metadata": {},
   "source": [
    "#### Remarks:\n",
    "> From the above model comparision it is clear that **HistGradientBoostingClassifier** performs better with **Accuracy Score: 98.03% and Log Loss: 0.67** than other models. Therefore, proceeding with **HistGradientBoostingClassifier**."
   ]
  },
  {
   "cell_type": "markdown",
   "id": "49e07adc",
   "metadata": {},
   "source": [
    "## Model Saving or Serialization"
   ]
  },
  {
   "cell_type": "code",
   "execution_count": 49,
   "id": "4c769b66",
   "metadata": {},
   "outputs": [],
   "source": [
    "import joblib\n",
    "#selecting best model\n",
    "best_model = build_model['HistGradientBoostingClassifier']['gscv']\n",
    "\n",
    "#saving model\n",
    "joblib.dump(best_model.best_estimator_,open('fake_news_detection.obj','wb'))"
   ]
  },
  {
   "cell_type": "markdown",
   "id": "0d9166b6",
   "metadata": {},
   "source": [
    "## Data Pre-processing Done\n",
    "The following pre-processing pipeline is required to perform model prediction:\n",
    "1. Load dataset.\n",
    "2. Drop column Unnamed: 0 and id.\n",
    "3. Treating Null Values: Replace null values with ' ' (single space) and merging feature headline, written_by and news to new column text_feature and then dropp columns headline, written_by and news.\n",
    "4. Convert text_feature to lower case and replace '\\n' with single space.\n",
    "5. Keep only text data i.e., a-z’ and 0-9 and remove other data from text_feature.\n",
    "6. Remove stop words and punctuations.\n",
    "7. Covert text_feature to vectors using TfidfVectorizer.\n",
    "8. Load the serialized model.\n",
    "9. Predict values by passing the vectors of text_feature."
   ]
  },
  {
   "cell_type": "markdown",
   "id": "e7eac001",
   "metadata": {},
   "source": [
    "### Final Remarks:\n",
    ">During the data analysis, I have replaced the null values with single white space and then merge the feature headline, news, written_by to make a single feature text_feature and then dropped the feature headline, news and written_by. But these null values can also be removed by dropping the entire row and proceed further without merging the features into single feature which might impact the model performance either in positive or negative way. As of now, I am finishing this project with my current approach which gives the **final accuracy score of 98.03% and log loss: 0.67** and this can be further improved by training with more specific data"
   ]
  },
  {
   "cell_type": "markdown",
   "id": "decc6c1c",
   "metadata": {},
   "source": [
    "### ____EOF____"
   ]
  }
 ],
 "metadata": {
  "kernelspec": {
   "display_name": "Python 3",
   "language": "python",
   "name": "python3"
  },
  "language_info": {
   "codemirror_mode": {
    "name": "ipython",
    "version": 3
   },
   "file_extension": ".py",
   "mimetype": "text/x-python",
   "name": "python",
   "nbconvert_exporter": "python",
   "pygments_lexer": "ipython3",
   "version": "3.8.8"
  }
 },
 "nbformat": 4,
 "nbformat_minor": 5
}
