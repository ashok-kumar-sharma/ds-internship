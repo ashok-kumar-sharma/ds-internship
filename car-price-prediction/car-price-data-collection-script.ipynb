{
 "cells": [
  {
   "cell_type": "markdown",
   "id": "089f20d4",
   "metadata": {},
   "source": [
    "# Car Price Prediction: Data Collection"
   ]
  },
  {
   "cell_type": "markdown",
   "id": "cf7189b1",
   "metadata": {},
   "source": [
    "`Mostly Required Features: `\n",
    "1. Brand\n",
    "2. Model\n",
    "3. Variant\n",
    "3. Manufacturing Year\n",
    "4. Driven kilometers\n",
    "5. Fuel\n",
    "6. Number of Owners\n",
    "7. Location\n",
    "8. Price of the Car\n",
    "\n",
    "`Sources:`\n",
    "- Olx\n",
    "- Cardekho\n",
    "- Cars24\n",
    "\n",
    "`Body Type:`\n",
    "- Hatchback\n",
    "- Sedan\n",
    "- SUV\n",
    "- Luxury Sedan\n",
    "- Luxury SUV\n",
    "- Coupe\n",
    "- Mini Van"
   ]
  },
  {
   "cell_type": "code",
   "execution_count": 61,
   "id": "d1c6fffe",
   "metadata": {},
   "outputs": [],
   "source": [
    "import selenium\n",
    "from selenium import webdriver\n",
    "from selenium.webdriver.common.by import By\n",
    "from selenium.webdriver.support import expected_conditions as ec\n",
    "from selenium.webdriver.support.ui import WebDriverWait\n",
    "from selenium.common.exceptions import TimeoutException\n",
    "import time, sys\n",
    "import tqdm.notebook as tqdm\n",
    "import pandas as pd\n",
    "import numpy as np\n",
    "import warnings\n",
    "warnings.filterwarnings('ignore')"
   ]
  },
  {
   "cell_type": "markdown",
   "id": "4914a6c9",
   "metadata": {},
   "source": [
    "### Defining functions for webscraping"
   ]
  },
  {
   "cell_type": "code",
   "execution_count": 9,
   "id": "bb2cd1b5",
   "metadata": {},
   "outputs": [],
   "source": [
    "#for starting driver\n",
    "def start_driver():\n",
    "    return webdriver.Chrome('chromedriver.exe')\n",
    "\n",
    "#for scraping data from https://www.cars24.com/\n",
    "def scrape_from_cars24(url='https://www.cars24.com',location='delhi',body_type='Hatchback',limit=1000):\n",
    "    #starting driver\n",
    "    driver = start_driver()\n",
    "    driver.maximize_window()\n",
    "    \n",
    "    #initializing driver with url\n",
    "    driver.get(url)\n",
    "    \n",
    "    try:\n",
    "        #clicking on select manually button\n",
    "        WebDriverWait(driver,10).until(ec.element_to_be_clickable((By.XPATH,'//button[contains(text(),\"SELECT MANUALLY\")]'))).click()\n",
    "\n",
    "        #initializing search box with location\n",
    "        searchBox = WebDriverWait(driver,10).until(ec.presence_of_element_located((By.XPATH,'//div[@class=\"_6QaMX\"]/input')))\n",
    "        searchBox.send_keys(location)\n",
    "\n",
    "        #clicking on searched location\n",
    "        WebDriverWait(driver,10).until(ec.element_to_be_clickable((By.XPATH,'//ul[@class=\"_16Bvy\"]/li[1]'))).click()\n",
    "\n",
    "        #clicking on VIEW ALL CARS link\n",
    "        WebDriverWait(driver,10).until(ec.element_to_be_clickable((By.XPATH,'//a[contains(text(),\"VIEW ALL CARS\")]'))).click()\n",
    "\n",
    "        #clicking on filter By Body Type\n",
    "        WebDriverWait(driver,10).until(ec.element_to_be_clickable((By.XPATH,'//h3[contains(text(),\"By Body Type\")]'))).click()\n",
    "\n",
    "        #clicking on body type\n",
    "        WebDriverWait(driver,10).until(ec.element_to_be_clickable((By.XPATH,f'//div[@class=\"_23XSz\"]/div[contains(text(),\"{body_type}\")]'))).click()\n",
    "    except:\n",
    "        driver.close()\n",
    "        return pd.DataFrame({\n",
    "            \"Brand\": [],\n",
    "            \"Model\": [],\n",
    "            \"Varient\": [],\n",
    "            \"Manufacture Year\": [],\n",
    "            \"Driven Kilometers\": [],\n",
    "            \"Fuel\": [],\n",
    "            \"Number of Owner\": [],\n",
    "            \"Body Type\": [],\n",
    "            \"Location\": [],\n",
    "            \"Price\": []\n",
    "        })\n",
    "    \n",
    "    #scraping the required data\n",
    "    brands = []\n",
    "    models = []\n",
    "    varients = []\n",
    "    manufacture_years = []\n",
    "    driven_kms = []\n",
    "    fuels = []\n",
    "    owners = []\n",
    "    locations = []\n",
    "    body_types = []\n",
    "    prices = []\n",
    "    \n",
    "    time.sleep(5)\n",
    "    container = WebDriverWait(driver,10).until(ec.presence_of_element_located((By.XPATH,'/html/body/div[1]/div[2]/div/div[2]/div[2]/div[2]/div/div[1]')))\n",
    "        \n",
    "    count = 0\n",
    "    x = 0\n",
    "    y = 200\n",
    "    success = 0\n",
    "    failed = 0\n",
    "    for i in tqdm.tqdm(range(limit),desc=f\"Scraping [{body_type} in {location}]\"):\n",
    "        try:\n",
    "            #moving to next sibling data\n",
    "            time.sleep(2)\n",
    "            container = container.find_element_by_xpath('./following-sibling::div')\n",
    "            \n",
    "            #scraping data\n",
    "            title = container.find_element_by_xpath('.//h2[@class=\"_3ENhq\"]').text\n",
    "            driven_km = container.find_element_by_xpath('.//div[@class=\"_Ecri\"]/p/span[1]').text\n",
    "            fuel = container.find_element_by_xpath('.//div[@class=\"_Ecri\"]/p/span[2]/span').text\n",
    "            owner = container.find_element_by_xpath('.//div[@class=\"_Ecri\"]/p/span[3]').text\n",
    "            price = container.find_element_by_xpath('.//h3[@class=\"_6KkG6\"]').text\n",
    "            \n",
    "            #storing scraped data\n",
    "            title_list = title.split()\n",
    "                        \n",
    "            #for year\n",
    "            manufacture_years.append(title_list[0])\n",
    "            \n",
    "            #for brand\n",
    "            brand = title_list[1]\n",
    "            ct = 2\n",
    "            if title_list[ct].lower() in ['suzuki']:\n",
    "                brand += \" \"+title_list[ct]\n",
    "                ct += 1\n",
    "            \n",
    "            brands.append(brand)\n",
    "            \n",
    "            #for model\n",
    "            models.append(title_list[ct])\n",
    "            ct += 1\n",
    "            \n",
    "            #for varient\n",
    "            varients.append(' '.join(title_list[ct:]))\n",
    "            \n",
    "            #for driven kilometers\n",
    "            driven_kms.append(driven_km)\n",
    "            \n",
    "            #for fuel type\n",
    "            fuels.append(fuel)\n",
    "            \n",
    "            #for number of owner\n",
    "            owners.append(owner)\n",
    "            \n",
    "            #for location\n",
    "            locations.append(location)\n",
    "            \n",
    "            #for body type\n",
    "            body_types.append(body_type)\n",
    "            \n",
    "            #for price\n",
    "            prices.append(price)\n",
    "            \n",
    "            count = 0\n",
    "            success += 1\n",
    "        except BaseException as e:\n",
    "            count += 1\n",
    "            failed += 1\n",
    "            if(count > 3):\n",
    "                print(\"No more records to scrape!\")\n",
    "                break\n",
    "            \n",
    "        sys.stdout.flush()\n",
    "        sys.stdout.write(f\"\\rSuccess: {success} | Error: {failed}              \")\n",
    "        if i % 3 == 0:\n",
    "            driver.execute_script(f'window.scrollBy({x},{y})')\n",
    "            x = y\n",
    "            y = y + 200\n",
    "    \n",
    "    #creating dataframe of scraped data\n",
    "    length = min([len(brands),len(models),len(varients),len(manufacture_years),len(driven_kms),len(fuels),len(owners),len(body_types),len(locations),len(prices)])\n",
    "    df = pd.DataFrame({\n",
    "        \"Brand\": brands[:length],\n",
    "        \"Model\": models[:length],\n",
    "        \"Varient\": varients[:length],\n",
    "        \"Manufacture Year\": manufacture_years[:length],\n",
    "        \"Driven Kilometers\": driven_kms[:length],\n",
    "        \"Fuel\": fuels[:length],\n",
    "        \"Number of Owner\": owners[:length],\n",
    "        \"Body Type\": body_types[:length],\n",
    "        \"Location\": locations[:length],\n",
    "        \"Price\": prices[:length]\n",
    "    })\n",
    "    \n",
    "    driver.close()\n",
    "    return df\n",
    "\n",
    "\n",
    "\n",
    "\n",
    "#for scraping data from https://www.cardekho.com/\n",
    "def scrape_from_cardekho(url='https://www.cardekho.com/',location='Delhi NCR',body_type='Hatchback',limit=1000):\n",
    "    #starting driver\n",
    "    driver = start_driver()\n",
    "    driver.maximize_window()\n",
    "    \n",
    "    #starting sub driver\n",
    "    sub_driver = start_driver()\n",
    "    sub_driver.maximize_window()\n",
    "    \n",
    "    #initializing driver with url\n",
    "    driver.get(url)\n",
    "    driver.refresh()\n",
    "    \n",
    "    try:\n",
    "        #clicking on select Used Car\n",
    "        WebDriverWait(driver,10).until(ec.element_to_be_clickable((By.XPATH,'//ul[@class=\"gsc-ta-clickWrap \"]/li[contains(text(),\"Used Car\")]'))).click()\n",
    "\n",
    "        #initializing search box with location\n",
    "        #searchBox = WebDriverWait(driver,10).until(ec.presence_of_element_located((By.XPATH,'//input[@id=\"budCityName\"]')))\n",
    "        #searchBox.send_keys(location)\n",
    "\n",
    "        #clicking on search button\n",
    "        WebDriverWait(driver,10).until(ec.element_to_be_clickable((By.XPATH,'//div[@id=\"used_budget\"]/div/ul/li[3]/button'))).click()\n",
    "\n",
    "        #clicking on location\n",
    "        WebDriverWait(driver,10).until(ec.element_to_be_clickable((By.XPATH,f'//*[@id=\"cityPopUp\"]/div/div[2]/section/div[2]/ul/li/a/span[3][contains(text(),\"{location}\")]'))).click()\n",
    "\n",
    "        #clicking on filter By Body Type\n",
    "        #WebDriverWait(driver,10).until(ec.element_to_be_clickable((By.XPATH,'//h3[contains(text(),\"By Body Type\")]'))).click()\n",
    "\n",
    "        #clicking on body type\n",
    "        WebDriverWait(driver,20).until(ec.element_to_be_clickable((By.XPATH,f'//li/label[@title=\"{body_type}\"]'))).click()\n",
    "    except:\n",
    "        sub_driver.close()\n",
    "        driver.close()\n",
    "        return pd.DataFrame({\n",
    "            \"Brand\": [],\n",
    "            \"Model\": [],\n",
    "            \"Varient\": [],\n",
    "            \"Manufacture Year\": [],\n",
    "            \"Driven Kilometers\": [],\n",
    "            \"Fuel\": [],\n",
    "            \"Number of Owner\": [],\n",
    "            \"Body Type\": [],\n",
    "            \"Location\": [],\n",
    "            \"Price\": []\n",
    "        })\n",
    "    \n",
    "    #scraping the required data\n",
    "    brands = []\n",
    "    models = []\n",
    "    varients = []\n",
    "    manufacture_years = []\n",
    "    driven_kms = []\n",
    "    fuels = []\n",
    "    owners = []\n",
    "    locations = []\n",
    "    body_types = []\n",
    "    prices = []\n",
    "    \n",
    "    x = 0\n",
    "    y = 500\n",
    "    driver.execute_script(f'window.scrollBy({x},{y})')\n",
    "    try:\n",
    "        container = WebDriverWait(driver,10).until(ec.presence_of_element_located((By.XPATH,'//*[@id=\"rf01\"]/div[1]/div/div/main/div[1]/div[1]/div[4]/div[1]')))\n",
    "    except:\n",
    "        container = WebDriverWait(driver,10).until(ec.presence_of_element_located((By.XPATH,'/html/body/div[2]/div/div[1]/div/div/main/div[1]/div[1]/div[5]/div[1]')))\n",
    "    \n",
    "    count = 0\n",
    "    success = 0\n",
    "    failed = 0\n",
    "    for i in tqdm.tqdm(range(limit),desc=f\"Scraping [{body_type} in {location}]\"):\n",
    "        try:\n",
    "            #moving to next sibling data\n",
    "            time.sleep(3)\n",
    "            container = container.find_element_by_xpath('./following-sibling::div')\n",
    "            container.get_attribute('innerHTML')\n",
    "            \n",
    "            #scraping data\n",
    "            title = container.find_element_by_xpath('.//*[@class=\"gsc_col-xs-7 carsName\"]/a')\n",
    "            title_text = title.text\n",
    "            \n",
    "            #initializing sub_driver with current car url\n",
    "            sub_url = title.get_attribute('href')\n",
    "            sub_driver.get(sub_url)\n",
    "            \n",
    "            varient = container.find_element_by_xpath('.//div[@class=\"holder\"]/div[1]/div[1]/div[1]').text\n",
    "            driven_km = container.find_element_by_xpath('.//div[@class=\"gsc_col-xs-7 carsName\"]/div[2]/span[1]').text\n",
    "            fuel = container.find_element_by_xpath('.//div[@class=\"gsc_col-xs-7 carsName\"]/div[2]/span[2]').text\n",
    "            price = container.find_element_by_xpath('.//span[@class=\"amnt \"]').text\n",
    "            \n",
    "            #getting number of owners from sub_driver\n",
    "            try:\n",
    "                owner = WebDriverWait(sub_driver,5).until(ec.presence_of_element_located((By.XPATH,'//*[@id=\"widget-Overview\"]/div/div/div/div[1]/ul/li[4]/div/div'))).text\n",
    "            except:\n",
    "                owner = WebDriverWait(sub_driver,5).until(ec.presence_of_element_located((By.XPATH,'//*[@id=\"rf01\"]/div[1]/div/div/main/div/div/div[1]/div[3]/div/div/div/ul/li[6]/div/div[2]'))).text\n",
    "                \n",
    "            \n",
    "            #storing scraped data\n",
    "            title_list = title_text.split()\n",
    "                        \n",
    "            #for year\n",
    "            manufacture_years.append(title_list[0])\n",
    "            \n",
    "            #for brand\n",
    "            brand = title_list[1]\n",
    "            ct = 2\n",
    "            if title_list[ct].lower() in ['suzuki']:\n",
    "                brand += \" \"+title_list[ct]\n",
    "                ct += 1\n",
    "            \n",
    "            brands.append(brand)\n",
    "            \n",
    "            #for model\n",
    "            models.append(' '.join(title_list[ct:]))\n",
    "                        \n",
    "            #for varient\n",
    "            varients.append(varient)\n",
    "            \n",
    "            #for driven kilometers\n",
    "            driven_kms.append(driven_km)\n",
    "            \n",
    "            #for fuel type\n",
    "            fuels.append(fuel)\n",
    "            \n",
    "            #for number of owner\n",
    "            owners.append(owner)\n",
    "            \n",
    "            #for location\n",
    "            locations.append(location)\n",
    "            \n",
    "            #for body type\n",
    "            body_types.append(body_type)\n",
    "            \n",
    "            #for price\n",
    "            prices.append(price)\n",
    "            \n",
    "            count = 0\n",
    "            success += 1\n",
    "        except BaseException as e:\n",
    "            #print(str(e))\n",
    "            count += 1\n",
    "            failed += 1\n",
    "            if(count > 3):\n",
    "                print(\"No more records to scrape!\")\n",
    "                break\n",
    "            \n",
    "        sys.stdout.flush()\n",
    "        sys.stdout.write(f\"\\rSuccess: {success} | Error: {failed}              \")\n",
    "        if i % 3 == 0:\n",
    "            driver.execute_script(f'window.scrollBy({x},{y})')\n",
    "            x = y\n",
    "            y = y + 300\n",
    "    \n",
    "    #creating dataframe of scraped data\n",
    "    length = min([len(brands),len(models),len(varients),len(manufacture_years),len(driven_kms),len(fuels),len(owners),len(body_types),len(locations),len(prices)])\n",
    "    df = pd.DataFrame({\n",
    "        \"Brand\": brands[:length],\n",
    "        \"Model\": models[:length],\n",
    "        \"Varient\": varients[:length],\n",
    "        \"Manufacture Year\": manufacture_years[:length],\n",
    "        \"Driven Kilometers\": driven_kms[:length],\n",
    "        \"Fuel\": fuels[:length],\n",
    "        \"Number of Owner\": owners[:length],\n",
    "        \"Body Type\": body_types[:length],\n",
    "        \"Location\": locations[:length],\n",
    "        \"Price\": prices[:length]\n",
    "    })\n",
    "    \n",
    "    sub_driver.close()\n",
    "    driver.close()\n",
    "    return df\n",
    "\n",
    "\n",
    "\n",
    "#function to merge dataframes\n",
    "def merge_df(df_dict=None):\n",
    "    p_keys = list(df_dict.keys())\n",
    "    s_keys = list(df_dict[p_keys[0]].keys())\n",
    "    ct = 0\n",
    "    df = None\n",
    "    \n",
    "    for pk in p_keys:\n",
    "        for sk in s_keys:\n",
    "            if ct == 0:\n",
    "                df = df_dict[pk][sk]\n",
    "                ct += 1\n",
    "                \n",
    "            df = pd.merge(df,df_dict[pk][sk],how='outer')\n",
    "        \n",
    "    return df\n"
   ]
  },
  {
   "cell_type": "code",
   "execution_count": 5,
   "id": "2ba64b22",
   "metadata": {
    "scrolled": true
   },
   "outputs": [
    {
     "data": {
      "application/vnd.jupyter.widget-view+json": {
       "model_id": "fce42ee9a7e3434d81c4849952f2febc",
       "version_major": 2,
       "version_minor": 0
      },
      "text/plain": [
       "Scraping [Hatchback in Delhi]:   0%|          | 0/800 [00:00<?, ?it/s]"
      ]
     },
     "metadata": {},
     "output_type": "display_data"
    },
    {
     "name": "stdout",
     "output_type": "stream",
     "text": [
      "Success: 686 | Error: 8              No more records to scrape!\n"
     ]
    },
    {
     "data": {
      "application/vnd.jupyter.widget-view+json": {
       "model_id": "a0722690d1de447c8ead6a8f52dc2b1c",
       "version_major": 2,
       "version_minor": 0
      },
      "text/plain": [
       "Scraping [Sedan in Delhi]:   0%|          | 0/800 [00:03<?, ?it/s]"
      ]
     },
     "metadata": {},
     "output_type": "display_data"
    },
    {
     "name": "stdout",
     "output_type": "stream",
     "text": [
      "Success: 290 | Error: 8              No more records to scrape!\n"
     ]
    },
    {
     "data": {
      "application/vnd.jupyter.widget-view+json": {
       "model_id": "8b55d765d2e94246a67b3fce45f621ae",
       "version_major": 2,
       "version_minor": 0
      },
      "text/plain": [
       "Scraping [SUV in Delhi]:   0%|          | 0/800 [00:00<?, ?it/s]"
      ]
     },
     "metadata": {},
     "output_type": "display_data"
    },
    {
     "name": "stdout",
     "output_type": "stream",
     "text": [
      "Success: 231 | Error: 8              No more records to scrape!\n"
     ]
    },
    {
     "data": {
      "application/vnd.jupyter.widget-view+json": {
       "model_id": "61a8938a62ad459e8687778e60fef80c",
       "version_major": 2,
       "version_minor": 0
      },
      "text/plain": [
       "Scraping [Luxury Sedan in Delhi]:   0%|          | 0/800 [00:02<?, ?it/s]"
      ]
     },
     "metadata": {},
     "output_type": "display_data"
    },
    {
     "name": "stdout",
     "output_type": "stream",
     "text": [
      "Success: 38 | Error: 8              No more records to scrape!\n"
     ]
    },
    {
     "data": {
      "application/vnd.jupyter.widget-view+json": {
       "model_id": "d5bf9de7fbaf4007af647bd46100f259",
       "version_major": 2,
       "version_minor": 0
      },
      "text/plain": [
       "Scraping [Luxury SUV in Delhi]:   0%|          | 0/800 [00:00<?, ?it/s]"
      ]
     },
     "metadata": {},
     "output_type": "display_data"
    },
    {
     "name": "stdout",
     "output_type": "stream",
     "text": [
      "Success: 46 | Error: 8              No more records to scrape!\n"
     ]
    },
    {
     "data": {
      "application/vnd.jupyter.widget-view+json": {
       "model_id": "bf4ca34ad3ff465d9edf6c24df2b27f2",
       "version_major": 2,
       "version_minor": 0
      },
      "text/plain": [
       "Scraping [Hatchback in Noida]:   0%|          | 0/800 [00:03<?, ?it/s]"
      ]
     },
     "metadata": {},
     "output_type": "display_data"
    },
    {
     "name": "stdout",
     "output_type": "stream",
     "text": [
      "Success: 589 | Error: 8              No more records to scrape!\n"
     ]
    },
    {
     "data": {
      "application/vnd.jupyter.widget-view+json": {
       "model_id": "92f5e1d966cc46cb85c51256b9003aa9",
       "version_major": 2,
       "version_minor": 0
      },
      "text/plain": [
       "Scraping [Sedan in Noida]:   0%|          | 0/800 [00:00<?, ?it/s]"
      ]
     },
     "metadata": {},
     "output_type": "display_data"
    },
    {
     "name": "stdout",
     "output_type": "stream",
     "text": [
      "Success: 235 | Error: 8              No more records to scrape!\n"
     ]
    },
    {
     "data": {
      "application/vnd.jupyter.widget-view+json": {
       "model_id": "2cdec3a4e4bf46129a4baf0e53de93e6",
       "version_major": 2,
       "version_minor": 0
      },
      "text/plain": [
       "Scraping [SUV in Noida]:   0%|          | 0/800 [00:02<?, ?it/s]"
      ]
     },
     "metadata": {},
     "output_type": "display_data"
    },
    {
     "name": "stdout",
     "output_type": "stream",
     "text": [
      "Success: 195 | Error: 8              No more records to scrape!\n"
     ]
    },
    {
     "data": {
      "application/vnd.jupyter.widget-view+json": {
       "model_id": "98c3b368910848d6befd0b891b0162fe",
       "version_major": 2,
       "version_minor": 0
      },
      "text/plain": [
       "Scraping [Luxury Sedan in Noida]:   0%|          | 0/800 [00:00<?, ?it/s]"
      ]
     },
     "metadata": {},
     "output_type": "display_data"
    },
    {
     "name": "stdout",
     "output_type": "stream",
     "text": [
      "Success: 29 | Error: 8              No more records to scrape!\n"
     ]
    },
    {
     "data": {
      "application/vnd.jupyter.widget-view+json": {
       "model_id": "f7c7b82cc23f4ac39c6bc9965b1a83ea",
       "version_major": 2,
       "version_minor": 0
      },
      "text/plain": [
       "Scraping [Luxury SUV in Noida]:   0%|          | 0/800 [00:03<?, ?it/s]"
      ]
     },
     "metadata": {},
     "output_type": "display_data"
    },
    {
     "name": "stdout",
     "output_type": "stream",
     "text": [
      "Success: 37 | Error: 8              No more records to scrape!\n"
     ]
    },
    {
     "data": {
      "application/vnd.jupyter.widget-view+json": {
       "model_id": "db84c68355104f588cf9d436dae5c829",
       "version_major": 2,
       "version_minor": 0
      },
      "text/plain": [
       "Scraping [Hatchback in Gurgaon]:   0%|          | 0/800 [00:00<?, ?it/s]"
      ]
     },
     "metadata": {},
     "output_type": "display_data"
    },
    {
     "name": "stdout",
     "output_type": "stream",
     "text": [
      "Success: 586 | Error: 8              No more records to scrape!\n"
     ]
    },
    {
     "data": {
      "application/vnd.jupyter.widget-view+json": {
       "model_id": "3f9779411c284bca91bf8118cb5ee22e",
       "version_major": 2,
       "version_minor": 0
      },
      "text/plain": [
       "Scraping [Sedan in Gurgaon]:   0%|          | 0/800 [00:02<?, ?it/s]"
      ]
     },
     "metadata": {},
     "output_type": "display_data"
    },
    {
     "name": "stdout",
     "output_type": "stream",
     "text": [
      "Success: 234 | Error: 8              No more records to scrape!\n"
     ]
    },
    {
     "data": {
      "application/vnd.jupyter.widget-view+json": {
       "model_id": "61ac6c27d1df410d88bfc2f14b4b9014",
       "version_major": 2,
       "version_minor": 0
      },
      "text/plain": [
       "Scraping [SUV in Gurgaon]:   0%|          | 0/800 [00:00<?, ?it/s]"
      ]
     },
     "metadata": {},
     "output_type": "display_data"
    },
    {
     "name": "stdout",
     "output_type": "stream",
     "text": [
      "Success: 194 | Error: 8              No more records to scrape!\n"
     ]
    },
    {
     "data": {
      "application/vnd.jupyter.widget-view+json": {
       "model_id": "da769c84a1574e14bc0f0fd708ae66be",
       "version_major": 2,
       "version_minor": 0
      },
      "text/plain": [
       "Scraping [Luxury Sedan in Gurgaon]:   0%|          | 0/800 [00:02<?, ?it/s]"
      ]
     },
     "metadata": {},
     "output_type": "display_data"
    },
    {
     "name": "stdout",
     "output_type": "stream",
     "text": [
      "Success: 29 | Error: 8              No more records to scrape!\n"
     ]
    },
    {
     "data": {
      "application/vnd.jupyter.widget-view+json": {
       "model_id": "877cc8d174a04205b51bea78a7d1f2d8",
       "version_major": 2,
       "version_minor": 0
      },
      "text/plain": [
       "Scraping [Luxury SUV in Gurgaon]:   0%|          | 0/800 [00:00<?, ?it/s]"
      ]
     },
     "metadata": {},
     "output_type": "display_data"
    },
    {
     "name": "stdout",
     "output_type": "stream",
     "text": [
      "Success: 37 | Error: 8              No more records to scrape!\n"
     ]
    },
    {
     "data": {
      "application/vnd.jupyter.widget-view+json": {
       "model_id": "10ee3deb7d984086939bf6755b87e0aa",
       "version_major": 2,
       "version_minor": 0
      },
      "text/plain": [
       "Scraping [Hatchback in Mumbai]:   0%|          | 0/800 [00:03<?, ?it/s]"
      ]
     },
     "metadata": {},
     "output_type": "display_data"
    },
    {
     "name": "stdout",
     "output_type": "stream",
     "text": [
      "Success: 694 | Error: 8              No more records to scrape!\n"
     ]
    },
    {
     "data": {
      "application/vnd.jupyter.widget-view+json": {
       "model_id": "be57f43ce9f047dea8446e09bc3042e4",
       "version_major": 2,
       "version_minor": 0
      },
      "text/plain": [
       "Scraping [Sedan in Mumbai]:   0%|          | 0/800 [00:00<?, ?it/s]"
      ]
     },
     "metadata": {},
     "output_type": "display_data"
    },
    {
     "name": "stdout",
     "output_type": "stream",
     "text": [
      "Success: 287 | Error: 8              No more records to scrape!\n"
     ]
    },
    {
     "data": {
      "application/vnd.jupyter.widget-view+json": {
       "model_id": "2501fcac020e4936af5be248ebdc2220",
       "version_major": 2,
       "version_minor": 0
      },
      "text/plain": [
       "Scraping [SUV in Mumbai]:   0%|          | 0/800 [00:03<?, ?it/s]"
      ]
     },
     "metadata": {},
     "output_type": "display_data"
    },
    {
     "name": "stdout",
     "output_type": "stream",
     "text": [
      "Success: 247 | Error: 8              No more records to scrape!\n"
     ]
    },
    {
     "data": {
      "application/vnd.jupyter.widget-view+json": {
       "model_id": "a4ee9b4f744b4ed59301b70ca358bc7f",
       "version_major": 2,
       "version_minor": 0
      },
      "text/plain": [
       "Scraping [Luxury Sedan in Mumbai]:   0%|          | 0/800 [00:00<?, ?it/s]"
      ]
     },
     "metadata": {},
     "output_type": "display_data"
    },
    {
     "name": "stdout",
     "output_type": "stream",
     "text": [
      "Success: 47 | Error: 8              No more records to scrape!\n"
     ]
    },
    {
     "data": {
      "application/vnd.jupyter.widget-view+json": {
       "model_id": "ff03599ea3454756bf06c774add014ca",
       "version_major": 2,
       "version_minor": 0
      },
      "text/plain": [
       "Scraping [Luxury SUV in Mumbai]:   0%|          | 0/800 [00:22<?, ?it/s]"
      ]
     },
     "metadata": {},
     "output_type": "display_data"
    },
    {
     "name": "stdout",
     "output_type": "stream",
     "text": [
      "Success: 43 | Error: 8              No more records to scrape!\n"
     ]
    },
    {
     "data": {
      "application/vnd.jupyter.widget-view+json": {
       "model_id": "6ab6399f310e40c688886fa7f31fbb6b",
       "version_major": 2,
       "version_minor": 0
      },
      "text/plain": [
       "Scraping [Hatchback in Pune]:   0%|          | 0/800 [00:00<?, ?it/s]"
      ]
     },
     "metadata": {},
     "output_type": "display_data"
    },
    {
     "name": "stdout",
     "output_type": "stream",
     "text": [
      "Success: 579 | Error: 8              No more records to scrape!\n"
     ]
    },
    {
     "data": {
      "application/vnd.jupyter.widget-view+json": {
       "model_id": "8be01273525b4f6eb3d9cddcf3754fe8",
       "version_major": 2,
       "version_minor": 0
      },
      "text/plain": [
       "Scraping [Sedan in Pune]:   0%|          | 0/800 [00:02<?, ?it/s]"
      ]
     },
     "metadata": {},
     "output_type": "display_data"
    },
    {
     "name": "stdout",
     "output_type": "stream",
     "text": [
      "Success: 226 | Error: 8              No more records to scrape!\n"
     ]
    },
    {
     "data": {
      "application/vnd.jupyter.widget-view+json": {
       "model_id": "1ab2390a0b004ccdbd4590caf641c6fd",
       "version_major": 2,
       "version_minor": 0
      },
      "text/plain": [
       "Scraping [SUV in Pune]:   0%|          | 0/800 [00:00<?, ?it/s]"
      ]
     },
     "metadata": {},
     "output_type": "display_data"
    },
    {
     "name": "stdout",
     "output_type": "stream",
     "text": [
      "Success: 182 | Error: 8              No more records to scrape!\n"
     ]
    },
    {
     "data": {
      "application/vnd.jupyter.widget-view+json": {
       "model_id": "1d48bc2199fa41eda75ca7c03de14b07",
       "version_major": 2,
       "version_minor": 0
      },
      "text/plain": [
       "Scraping [Luxury Sedan in Pune]:   0%|          | 0/800 [00:03<?, ?it/s]"
      ]
     },
     "metadata": {},
     "output_type": "display_data"
    },
    {
     "name": "stdout",
     "output_type": "stream",
     "text": [
      "Success: 37 | Error: 8              No more records to scrape!\n"
     ]
    },
    {
     "data": {
      "application/vnd.jupyter.widget-view+json": {
       "model_id": "4c7d0c69e8364d5191eca597183199ed",
       "version_major": 2,
       "version_minor": 0
      },
      "text/plain": [
       "Scraping [Luxury SUV in Pune]:   0%|          | 0/800 [00:00<?, ?it/s]"
      ]
     },
     "metadata": {},
     "output_type": "display_data"
    },
    {
     "name": "stdout",
     "output_type": "stream",
     "text": [
      "Success: 27 | Error: 8              No more records to scrape!\n"
     ]
    }
   ],
   "source": [
    "#scraping data from cars24.com\n",
    "df_cars24_dict = {}\n",
    "location = ['Delhi','Noida','Gurgaon','Mumbai','Pune']\n",
    "body_type = ['Hatchback','Sedan','SUV','Luxury Sedan','Luxury SUV']\n",
    "for loc in location:\n",
    "    df_cars24_dict[loc] = {}\n",
    "    for bt in body_type:\n",
    "        df_cars24_dict[loc][bt] = scrape_from_cars24(location=loc,body_type=bt,limit=800)\n",
    "        "
   ]
  },
  {
   "cell_type": "code",
   "execution_count": 10,
   "id": "4e127947",
   "metadata": {
    "scrolled": true
   },
   "outputs": [
    {
     "data": {
      "text/html": [
       "<div>\n",
       "<style scoped>\n",
       "    .dataframe tbody tr th:only-of-type {\n",
       "        vertical-align: middle;\n",
       "    }\n",
       "\n",
       "    .dataframe tbody tr th {\n",
       "        vertical-align: top;\n",
       "    }\n",
       "\n",
       "    .dataframe thead th {\n",
       "        text-align: right;\n",
       "    }\n",
       "</style>\n",
       "<table border=\"1\" class=\"dataframe\">\n",
       "  <thead>\n",
       "    <tr style=\"text-align: right;\">\n",
       "      <th></th>\n",
       "      <th>Brand</th>\n",
       "      <th>Model</th>\n",
       "      <th>Varient</th>\n",
       "      <th>Manufacture Year</th>\n",
       "      <th>Driven Kilometers</th>\n",
       "      <th>Fuel</th>\n",
       "      <th>Number of Owner</th>\n",
       "      <th>Body Type</th>\n",
       "      <th>Location</th>\n",
       "      <th>Price</th>\n",
       "    </tr>\n",
       "  </thead>\n",
       "  <tbody>\n",
       "    <tr>\n",
       "      <th>0</th>\n",
       "      <td>Maruti</td>\n",
       "      <td>Zen</td>\n",
       "      <td>Estilo LXI</td>\n",
       "      <td>2011</td>\n",
       "      <td>24,337km</td>\n",
       "      <td>Petrol</td>\n",
       "      <td>1st Owner</td>\n",
       "      <td>Hatchback</td>\n",
       "      <td>Delhi</td>\n",
       "      <td>₹ 2,10,499</td>\n",
       "    </tr>\n",
       "    <tr>\n",
       "      <th>1</th>\n",
       "      <td>Maruti</td>\n",
       "      <td>Alto</td>\n",
       "      <td>K10 VXI</td>\n",
       "      <td>2018</td>\n",
       "      <td>5,198km</td>\n",
       "      <td>Petrol</td>\n",
       "      <td>1st Owner</td>\n",
       "      <td>Hatchback</td>\n",
       "      <td>Delhi</td>\n",
       "      <td>₹ 3,43,799</td>\n",
       "    </tr>\n",
       "    <tr>\n",
       "      <th>2</th>\n",
       "      <td>Maruti</td>\n",
       "      <td>Celerio</td>\n",
       "      <td>VXI AMT</td>\n",
       "      <td>2015</td>\n",
       "      <td>27,739km</td>\n",
       "      <td>Petrol</td>\n",
       "      <td>1st Owner</td>\n",
       "      <td>Hatchback</td>\n",
       "      <td>Delhi</td>\n",
       "      <td>₹ 3,71,199</td>\n",
       "    </tr>\n",
       "    <tr>\n",
       "      <th>3</th>\n",
       "      <td>Hyundai</td>\n",
       "      <td>i20</td>\n",
       "      <td>SPORTZ 1.2 VTVT</td>\n",
       "      <td>2014</td>\n",
       "      <td>25,187km</td>\n",
       "      <td>Petrol</td>\n",
       "      <td>1st Owner</td>\n",
       "      <td>Hatchback</td>\n",
       "      <td>Delhi</td>\n",
       "      <td>₹ 3,60,099</td>\n",
       "    </tr>\n",
       "    <tr>\n",
       "      <th>4</th>\n",
       "      <td>Maruti</td>\n",
       "      <td>S</td>\n",
       "      <td>PRESSO VXI PLUS</td>\n",
       "      <td>2020</td>\n",
       "      <td>7,556km</td>\n",
       "      <td>Petrol</td>\n",
       "      <td>1st Owner</td>\n",
       "      <td>Hatchback</td>\n",
       "      <td>Delhi</td>\n",
       "      <td>₹ 4,15,999</td>\n",
       "    </tr>\n",
       "    <tr>\n",
       "      <th>...</th>\n",
       "      <td>...</td>\n",
       "      <td>...</td>\n",
       "      <td>...</td>\n",
       "      <td>...</td>\n",
       "      <td>...</td>\n",
       "      <td>...</td>\n",
       "      <td>...</td>\n",
       "      <td>...</td>\n",
       "      <td>...</td>\n",
       "      <td>...</td>\n",
       "    </tr>\n",
       "    <tr>\n",
       "      <th>5820</th>\n",
       "      <td>Mahindra</td>\n",
       "      <td>XUV500</td>\n",
       "      <td>W6 4X2</td>\n",
       "      <td>2015</td>\n",
       "      <td>52,094km</td>\n",
       "      <td>Diesel</td>\n",
       "      <td>1st Owner</td>\n",
       "      <td>Luxury SUV</td>\n",
       "      <td>Pune</td>\n",
       "      <td>₹ 7,18,499</td>\n",
       "    </tr>\n",
       "    <tr>\n",
       "      <th>5821</th>\n",
       "      <td>BMW</td>\n",
       "      <td>X1</td>\n",
       "      <td>SDRIVE 20D</td>\n",
       "      <td>2011</td>\n",
       "      <td>89,880km</td>\n",
       "      <td>Diesel</td>\n",
       "      <td>2nd Owner</td>\n",
       "      <td>Luxury SUV</td>\n",
       "      <td>Pune</td>\n",
       "      <td>₹ 7,78,199</td>\n",
       "    </tr>\n",
       "    <tr>\n",
       "      <th>5822</th>\n",
       "      <td>Mahindra</td>\n",
       "      <td>XUV500</td>\n",
       "      <td>W6 4X2</td>\n",
       "      <td>2011</td>\n",
       "      <td>1,25,124km</td>\n",
       "      <td>Diesel</td>\n",
       "      <td>2nd Owner</td>\n",
       "      <td>Luxury SUV</td>\n",
       "      <td>Pune</td>\n",
       "      <td>₹ 5,04,199</td>\n",
       "    </tr>\n",
       "    <tr>\n",
       "      <th>5823</th>\n",
       "      <td>Toyota</td>\n",
       "      <td>Fortuner</td>\n",
       "      <td>2.8 4x2 AT</td>\n",
       "      <td>2016</td>\n",
       "      <td>1,46,630km</td>\n",
       "      <td>Diesel</td>\n",
       "      <td>1st Owner</td>\n",
       "      <td>Luxury SUV</td>\n",
       "      <td>Pune</td>\n",
       "      <td>₹ 22,82,499</td>\n",
       "    </tr>\n",
       "    <tr>\n",
       "      <th>5824</th>\n",
       "      <td>Toyota</td>\n",
       "      <td>Fortuner</td>\n",
       "      <td>3.0 MT 4X4</td>\n",
       "      <td>2011</td>\n",
       "      <td>1,90,210km</td>\n",
       "      <td>Diesel</td>\n",
       "      <td>2nd Owner</td>\n",
       "      <td>Luxury SUV</td>\n",
       "      <td>Pune</td>\n",
       "      <td>₹ 7,96,699</td>\n",
       "    </tr>\n",
       "  </tbody>\n",
       "</table>\n",
       "<p>5825 rows × 10 columns</p>\n",
       "</div>"
      ],
      "text/plain": [
       "         Brand     Model          Varient Manufacture Year Driven Kilometers  \\\n",
       "0       Maruti       Zen       Estilo LXI             2011          24,337km   \n",
       "1       Maruti      Alto          K10 VXI             2018           5,198km   \n",
       "2       Maruti   Celerio          VXI AMT             2015          27,739km   \n",
       "3      Hyundai       i20  SPORTZ 1.2 VTVT             2014          25,187km   \n",
       "4       Maruti         S  PRESSO VXI PLUS             2020           7,556km   \n",
       "...        ...       ...              ...              ...               ...   \n",
       "5820  Mahindra    XUV500           W6 4X2             2015          52,094km   \n",
       "5821       BMW        X1       SDRIVE 20D             2011          89,880km   \n",
       "5822  Mahindra    XUV500           W6 4X2             2011        1,25,124km   \n",
       "5823    Toyota  Fortuner       2.8 4x2 AT             2016        1,46,630km   \n",
       "5824    Toyota  Fortuner       3.0 MT 4X4             2011        1,90,210km   \n",
       "\n",
       "        Fuel Number of Owner   Body Type Location        Price  \n",
       "0     Petrol       1st Owner   Hatchback    Delhi   ₹ 2,10,499  \n",
       "1     Petrol       1st Owner   Hatchback    Delhi   ₹ 3,43,799  \n",
       "2     Petrol       1st Owner   Hatchback    Delhi   ₹ 3,71,199  \n",
       "3     Petrol       1st Owner   Hatchback    Delhi   ₹ 3,60,099  \n",
       "4     Petrol       1st Owner   Hatchback    Delhi   ₹ 4,15,999  \n",
       "...      ...             ...         ...      ...          ...  \n",
       "5820  Diesel       1st Owner  Luxury SUV     Pune   ₹ 7,18,499  \n",
       "5821  Diesel       2nd Owner  Luxury SUV     Pune   ₹ 7,78,199  \n",
       "5822  Diesel       2nd Owner  Luxury SUV     Pune   ₹ 5,04,199  \n",
       "5823  Diesel       1st Owner  Luxury SUV     Pune  ₹ 22,82,499  \n",
       "5824  Diesel       2nd Owner  Luxury SUV     Pune   ₹ 7,96,699  \n",
       "\n",
       "[5825 rows x 10 columns]"
      ]
     },
     "execution_count": 10,
     "metadata": {},
     "output_type": "execute_result"
    }
   ],
   "source": [
    "#merging data to a single dataframe\n",
    "df_cars24 = merge_df(df_cars24_dict)\n",
    "df_cars24"
   ]
  },
  {
   "cell_type": "code",
   "execution_count": 11,
   "id": "a0105522",
   "metadata": {
    "scrolled": true
   },
   "outputs": [
    {
     "data": {
      "application/vnd.jupyter.widget-view+json": {
       "model_id": "52c033f271e54e8fba2a13d321ed7b71",
       "version_major": 2,
       "version_minor": 0
      },
      "text/plain": [
       "Scraping [Hatchback in Ahmedabad]:   0%|          | 0/800 [00:00<?, ?it/s]"
      ]
     },
     "metadata": {},
     "output_type": "display_data"
    },
    {
     "name": "stdout",
     "output_type": "stream",
     "text": [
      "Success: 454 | Error: 8              No more records to scrape!\n"
     ]
    },
    {
     "data": {
      "application/vnd.jupyter.widget-view+json": {
       "model_id": "423f0aba5e254feaaa8224c59ed5a22c",
       "version_major": 2,
       "version_minor": 0
      },
      "text/plain": [
       "Scraping [Sedan in Ahmedabad]:   0%|          | 0/800 [00:00<?, ?it/s]"
      ]
     },
     "metadata": {},
     "output_type": "display_data"
    },
    {
     "name": "stdout",
     "output_type": "stream",
     "text": [
      "Success: 78 | Error: 8              No more records to scrape!\n"
     ]
    },
    {
     "data": {
      "application/vnd.jupyter.widget-view+json": {
       "model_id": "ee2180b30f8747f0bdd5669a25a51522",
       "version_major": 2,
       "version_minor": 0
      },
      "text/plain": [
       "Scraping [SUV in Ahmedabad]:   0%|          | 0/800 [00:00<?, ?it/s]"
      ]
     },
     "metadata": {},
     "output_type": "display_data"
    },
    {
     "name": "stdout",
     "output_type": "stream",
     "text": [
      "Success: 119 | Error: 7              No more records to scrape!\n"
     ]
    },
    {
     "data": {
      "application/vnd.jupyter.widget-view+json": {
       "model_id": "95383569193b47f2a3c0a7e40f112f63",
       "version_major": 2,
       "version_minor": 0
      },
      "text/plain": [
       "Scraping [Luxury in Ahmedabad]:   0%|          | 0/800 [00:02<?, ?it/s]"
      ]
     },
     "metadata": {},
     "output_type": "display_data"
    },
    {
     "name": "stdout",
     "output_type": "stream",
     "text": [
      "Success: 100 | Error: 7              No more records to scrape!\n"
     ]
    },
    {
     "data": {
      "application/vnd.jupyter.widget-view+json": {
       "model_id": "b12a2a2e4ef743529d3906750a8d5010",
       "version_major": 2,
       "version_minor": 0
      },
      "text/plain": [
       "Scraping [Minivan in Ahmedabad]:   0%|          | 0/800 [00:00<?, ?it/s]"
      ]
     },
     "metadata": {},
     "output_type": "display_data"
    },
    {
     "name": "stdout",
     "output_type": "stream",
     "text": [
      "Success: 29 | Error: 8              No more records to scrape!\n"
     ]
    },
    {
     "data": {
      "application/vnd.jupyter.widget-view+json": {
       "model_id": "be8a2a3a74c84163bf66347bd6749863",
       "version_major": 2,
       "version_minor": 0
      },
      "text/plain": [
       "Scraping [Super Luxury in Ahmedabad]:   0%|          | 0/800 [00:00<?, ?it/s]"
      ]
     },
     "metadata": {},
     "output_type": "display_data"
    },
    {
     "name": "stdout",
     "output_type": "stream",
     "text": [
      "Success: 6 | Error: 3              No more records to scrape!\n"
     ]
    },
    {
     "data": {
      "application/vnd.jupyter.widget-view+json": {
       "model_id": "07782ba1ce0049e18e4874f194885172",
       "version_major": 2,
       "version_minor": 0
      },
      "text/plain": [
       "Scraping [MUV in Ahmedabad]:   0%|          | 0/800 [00:04<?, ?it/s]"
      ]
     },
     "metadata": {},
     "output_type": "display_data"
    },
    {
     "name": "stdout",
     "output_type": "stream",
     "text": [
      "Success: 76 | Error: 8              No more records to scrape!\n"
     ]
    },
    {
     "data": {
      "application/vnd.jupyter.widget-view+json": {
       "model_id": "6239517f2e5043e4af203e2d6c3e61c6",
       "version_major": 2,
       "version_minor": 0
      },
      "text/plain": [
       "Scraping [Hatchback in Bangalore]:   0%|          | 0/800 [00:00<?, ?it/s]"
      ]
     },
     "metadata": {},
     "output_type": "display_data"
    },
    {
     "name": "stdout",
     "output_type": "stream",
     "text": [
      "Success: 369 | Error: 12              No more records to scrape!\n"
     ]
    },
    {
     "data": {
      "application/vnd.jupyter.widget-view+json": {
       "model_id": "d9d495549edd4318ac8faeaffcabbc28",
       "version_major": 2,
       "version_minor": 0
      },
      "text/plain": [
       "Scraping [Sedan in Bangalore]:   0%|          | 0/800 [00:00<?, ?it/s]"
      ]
     },
     "metadata": {},
     "output_type": "display_data"
    },
    {
     "name": "stdout",
     "output_type": "stream",
     "text": [
      "Success: 19 | Error: 7              No more records to scrape!\n"
     ]
    },
    {
     "data": {
      "application/vnd.jupyter.widget-view+json": {
       "model_id": "3e0c7c4455c74c5884d1c6ba98f11c0e",
       "version_major": 2,
       "version_minor": 0
      },
      "text/plain": [
       "Scraping [SUV in Bangalore]:   0%|          | 0/800 [00:00<?, ?it/s]"
      ]
     },
     "metadata": {},
     "output_type": "display_data"
    },
    {
     "name": "stdout",
     "output_type": "stream",
     "text": [
      "Success: 214 | Error: 9              No more records to scrape!\n"
     ]
    },
    {
     "data": {
      "application/vnd.jupyter.widget-view+json": {
       "model_id": "a2427960a72b4c6989f153ac66968f68",
       "version_major": 2,
       "version_minor": 0
      },
      "text/plain": [
       "Scraping [Luxury in Bangalore]:   0%|          | 0/800 [00:00<?, ?it/s]"
      ]
     },
     "metadata": {},
     "output_type": "display_data"
    },
    {
     "name": "stdout",
     "output_type": "stream",
     "text": [
      "Success: 156 | Error: 7              No more records to scrape!\n"
     ]
    },
    {
     "data": {
      "application/vnd.jupyter.widget-view+json": {
       "model_id": "0cd3cb6e59b24893ac4af6493fedfdee",
       "version_major": 2,
       "version_minor": 0
      },
      "text/plain": [
       "Scraping [Minivan in Bangalore]:   0%|          | 0/800 [00:05<?, ?it/s]"
      ]
     },
     "metadata": {},
     "output_type": "display_data"
    },
    {
     "name": "stdout",
     "output_type": "stream",
     "text": [
      "Success: 27 | Error: 8              No more records to scrape!\n"
     ]
    },
    {
     "data": {
      "application/vnd.jupyter.widget-view+json": {
       "model_id": "dc5ef43c1d6146d5b4058961dd3fdd3f",
       "version_major": 2,
       "version_minor": 0
      },
      "text/plain": [
       "Scraping [Super Luxury in Bangalore]:   0%|          | 0/800 [00:04<?, ?it/s]"
      ]
     },
     "metadata": {},
     "output_type": "display_data"
    },
    {
     "name": "stdout",
     "output_type": "stream",
     "text": [
      "Success: 6 | Error: 3              No more records to scrape!\n"
     ]
    },
    {
     "data": {
      "application/vnd.jupyter.widget-view+json": {
       "model_id": "20be50d62af84b5392f99c2ab226f336",
       "version_major": 2,
       "version_minor": 0
      },
      "text/plain": [
       "Scraping [MUV in Bangalore]:   0%|          | 0/800 [00:00<?, ?it/s]"
      ]
     },
     "metadata": {},
     "output_type": "display_data"
    },
    {
     "name": "stdout",
     "output_type": "stream",
     "text": [
      "Success: 59 | Error: 8              No more records to scrape!\n"
     ]
    },
    {
     "data": {
      "application/vnd.jupyter.widget-view+json": {
       "model_id": "17608191e09b49858b8911ef0c1761b1",
       "version_major": 2,
       "version_minor": 0
      },
      "text/plain": [
       "Scraping [Hatchback in Chennai]:   0%|          | 0/800 [00:05<?, ?it/s]"
      ]
     },
     "metadata": {},
     "output_type": "display_data"
    },
    {
     "name": "stdout",
     "output_type": "stream",
     "text": [
      "Success: 77 | Error: 7              No more records to scrape!\n"
     ]
    },
    {
     "data": {
      "application/vnd.jupyter.widget-view+json": {
       "model_id": "4e562a82b9ed4dad82702cf86679bad1",
       "version_major": 2,
       "version_minor": 0
      },
      "text/plain": [
       "Scraping [Sedan in Chennai]:   0%|          | 0/800 [00:00<?, ?it/s]"
      ]
     },
     "metadata": {},
     "output_type": "display_data"
    },
    {
     "name": "stdout",
     "output_type": "stream",
     "text": [
      "Success: 0 | Error: 3              No more records to scrape!\n"
     ]
    },
    {
     "data": {
      "application/vnd.jupyter.widget-view+json": {
       "model_id": "4e055df881ce4718ba3f4b66cd014644",
       "version_major": 2,
       "version_minor": 0
      },
      "text/plain": [
       "Scraping [SUV in Chennai]:   0%|          | 0/800 [00:00<?, ?it/s]"
      ]
     },
     "metadata": {},
     "output_type": "display_data"
    },
    {
     "name": "stdout",
     "output_type": "stream",
     "text": [
      "Success: 199 | Error: 7              No more records to scrape!\n"
     ]
    },
    {
     "data": {
      "application/vnd.jupyter.widget-view+json": {
       "model_id": "4c3ddfca81ba43f8a8a899f46f6574ec",
       "version_major": 2,
       "version_minor": 0
      },
      "text/plain": [
       "Scraping [Luxury in Chennai]:   0%|          | 0/800 [00:00<?, ?it/s]"
      ]
     },
     "metadata": {},
     "output_type": "display_data"
    },
    {
     "name": "stdout",
     "output_type": "stream",
     "text": [
      "Success: 63 | Error: 7              No more records to scrape!\n"
     ]
    },
    {
     "data": {
      "application/vnd.jupyter.widget-view+json": {
       "model_id": "8fca686c0b73448d83c44ab0d1da5680",
       "version_major": 2,
       "version_minor": 0
      },
      "text/plain": [
       "Scraping [Minivan in Chennai]:   0%|          | 0/800 [00:00<?, ?it/s]"
      ]
     },
     "metadata": {},
     "output_type": "display_data"
    },
    {
     "name": "stdout",
     "output_type": "stream",
     "text": [
      "Success: 17 | Error: 6              No more records to scrape!\n"
     ]
    },
    {
     "data": {
      "application/vnd.jupyter.widget-view+json": {
       "model_id": "5128c5b1ed53467cb46d2e03bd3f13fd",
       "version_major": 2,
       "version_minor": 0
      },
      "text/plain": [
       "Scraping [Sedan in Hyderabad]:   0%|          | 0/800 [00:14<?, ?it/s]"
      ]
     },
     "metadata": {},
     "output_type": "display_data"
    },
    {
     "name": "stdout",
     "output_type": "stream",
     "text": [
      "Success: 109 | Error: 9              No more records to scrape!\n"
     ]
    },
    {
     "data": {
      "application/vnd.jupyter.widget-view+json": {
       "model_id": "b2b4eb711f6847efb74835730d37212b",
       "version_major": 2,
       "version_minor": 0
      },
      "text/plain": [
       "Scraping [SUV in Hyderabad]:   0%|          | 0/800 [00:00<?, ?it/s]"
      ]
     },
     "metadata": {},
     "output_type": "display_data"
    },
    {
     "name": "stdout",
     "output_type": "stream",
     "text": [
      "Success: 215 | Error: 7              No more records to scrape!\n"
     ]
    },
    {
     "data": {
      "application/vnd.jupyter.widget-view+json": {
       "model_id": "46755cbcc54449ac9c8d0896781b092d",
       "version_major": 2,
       "version_minor": 0
      },
      "text/plain": [
       "Scraping [Luxury in Hyderabad]:   0%|          | 0/800 [00:00<?, ?it/s]"
      ]
     },
     "metadata": {},
     "output_type": "display_data"
    },
    {
     "name": "stdout",
     "output_type": "stream",
     "text": [
      "Success: 0 | Error: 3              No more records to scrape!\n"
     ]
    },
    {
     "data": {
      "application/vnd.jupyter.widget-view+json": {
       "model_id": "0b1662348f45473ca5aab11870516a25",
       "version_major": 2,
       "version_minor": 0
      },
      "text/plain": [
       "Scraping [Minivan in Hyderabad]:   0%|          | 0/800 [00:02<?, ?it/s]"
      ]
     },
     "metadata": {},
     "output_type": "display_data"
    },
    {
     "name": "stdout",
     "output_type": "stream",
     "text": [
      "Success: 16 | Error: 5              No more records to scrape!\n"
     ]
    },
    {
     "data": {
      "application/vnd.jupyter.widget-view+json": {
       "model_id": "2335008b873e4ebe988ef2435e491958",
       "version_major": 2,
       "version_minor": 0
      },
      "text/plain": [
       "Scraping [Coupe in Hyderabad]:   0%|          | 0/800 [00:00<?, ?it/s]"
      ]
     },
     "metadata": {},
     "output_type": "display_data"
    },
    {
     "name": "stdout",
     "output_type": "stream",
     "text": [
      "Success: 6 | Error: 3              No more records to scrape!\n"
     ]
    },
    {
     "data": {
      "application/vnd.jupyter.widget-view+json": {
       "model_id": "eec3985e78d541738e579244fe7e4e1e",
       "version_major": 2,
       "version_minor": 0
      },
      "text/plain": [
       "Scraping [Super Luxury in Hyderabad]:   0%|          | 0/800 [00:05<?, ?it/s]"
      ]
     },
     "metadata": {},
     "output_type": "display_data"
    },
    {
     "name": "stdout",
     "output_type": "stream",
     "text": [
      "Success: 6 | Error: 3              No more records to scrape!\n"
     ]
    },
    {
     "data": {
      "application/vnd.jupyter.widget-view+json": {
       "model_id": "39710ab5d73b4dffb3046622bec118cd",
       "version_major": 2,
       "version_minor": 0
      },
      "text/plain": [
       "Scraping [MUV in Hyderabad]:   0%|          | 0/800 [00:00<?, ?it/s]"
      ]
     },
     "metadata": {},
     "output_type": "display_data"
    },
    {
     "name": "stdout",
     "output_type": "stream",
     "text": [
      "Success: 69 | Error: 7              No more records to scrape!\n"
     ]
    },
    {
     "data": {
      "application/vnd.jupyter.widget-view+json": {
       "model_id": "23f4eeec24db4231bfb865535d9c25fb",
       "version_major": 2,
       "version_minor": 0
      },
      "text/plain": [
       "Scraping [Hatchback in Delhi NCR]:   0%|          | 0/800 [00:00<?, ?it/s]"
      ]
     },
     "metadata": {},
     "output_type": "display_data"
    },
    {
     "name": "stdout",
     "output_type": "stream",
     "text": [
      "Success: 798 | Error: 2              "
     ]
    },
    {
     "data": {
      "application/vnd.jupyter.widget-view+json": {
       "model_id": "625755c4220047f884176089f2b65a73",
       "version_major": 2,
       "version_minor": 0
      },
      "text/plain": [
       "Scraping [Sedan in Delhi NCR]:   0%|          | 0/800 [00:04<?, ?it/s]"
      ]
     },
     "metadata": {},
     "output_type": "display_data"
    },
    {
     "name": "stdout",
     "output_type": "stream",
     "text": [
      "Success: 136 | Error: 6              No more records to scrape!\n"
     ]
    },
    {
     "data": {
      "application/vnd.jupyter.widget-view+json": {
       "model_id": "dbf97abf46c849d49207e4f09e435911",
       "version_major": 2,
       "version_minor": 0
      },
      "text/plain": [
       "Scraping [SUV in Delhi NCR]:   0%|          | 0/800 [00:00<?, ?it/s]"
      ]
     },
     "metadata": {},
     "output_type": "display_data"
    },
    {
     "name": "stdout",
     "output_type": "stream",
     "text": [
      "Success: 373 | Error: 6              No more records to scrape!\n"
     ]
    },
    {
     "data": {
      "application/vnd.jupyter.widget-view+json": {
       "model_id": "8d050198e2dd4ac8a96c926832454b1b",
       "version_major": 2,
       "version_minor": 0
      },
      "text/plain": [
       "Scraping [Luxury in Delhi NCR]:   0%|          | 0/800 [00:00<?, ?it/s]"
      ]
     },
     "metadata": {},
     "output_type": "display_data"
    },
    {
     "name": "stdout",
     "output_type": "stream",
     "text": [
      "Success: 138 | Error: 4              No more records to scrape!\n"
     ]
    },
    {
     "data": {
      "application/vnd.jupyter.widget-view+json": {
       "model_id": "edd045b822be4a7191034ac62027bab7",
       "version_major": 2,
       "version_minor": 0
      },
      "text/plain": [
       "Scraping [Minivan in Delhi NCR]:   0%|          | 0/800 [00:00<?, ?it/s]"
      ]
     },
     "metadata": {},
     "output_type": "display_data"
    },
    {
     "name": "stdout",
     "output_type": "stream",
     "text": [
      "Success: 18 | Error: 5              No more records to scrape!\n"
     ]
    },
    {
     "data": {
      "application/vnd.jupyter.widget-view+json": {
       "model_id": "1ae64d391bf7431c870c20e6fad19ace",
       "version_major": 2,
       "version_minor": 0
      },
      "text/plain": [
       "Scraping [Coupe in Delhi NCR]:   0%|          | 0/800 [00:00<?, ?it/s]"
      ]
     },
     "metadata": {},
     "output_type": "display_data"
    },
    {
     "name": "stdout",
     "output_type": "stream",
     "text": [
      "Success: 30 | Error: 4              No more records to scrape!\n"
     ]
    },
    {
     "data": {
      "application/vnd.jupyter.widget-view+json": {
       "model_id": "1aeab0183e66418090cca598dd2ba56e",
       "version_major": 2,
       "version_minor": 0
      },
      "text/plain": [
       "Scraping [Super Luxury in Delhi NCR]:   0%|          | 0/800 [00:05<?, ?it/s]"
      ]
     },
     "metadata": {},
     "output_type": "display_data"
    },
    {
     "name": "stdout",
     "output_type": "stream",
     "text": [
      "Success: 10 | Error: 3              No more records to scrape!\n"
     ]
    },
    {
     "data": {
      "application/vnd.jupyter.widget-view+json": {
       "model_id": "dd9aeab90f7145babf2a646803935899",
       "version_major": 2,
       "version_minor": 0
      },
      "text/plain": [
       "Scraping [MUV in Delhi NCR]:   0%|          | 0/800 [00:00<?, ?it/s]"
      ]
     },
     "metadata": {},
     "output_type": "display_data"
    },
    {
     "name": "stdout",
     "output_type": "stream",
     "text": [
      "Success: 244 | Error: 5              No more records to scrape!\n"
     ]
    }
   ],
   "source": [
    "#scraping data from cardekho.com\n",
    "df_cardekho_dict = {}\n",
    "cardekho_loc = ['Ahmedabad','Bangalore','Chennai','Hyderabad','Delhi NCR']\n",
    "cardekho_bt = ['Hatchback','Sedan','SUV','Luxury','Minivan','Coupe','Super Luxury','MUV']\n",
    "for loc in cardekho_loc:\n",
    "    df_cardekho_dict[loc] = {}\n",
    "    for bt in cardekho_bt:\n",
    "        df_cardekho_dict[loc][bt] = scrape_from_cardekho(location=loc,body_type=bt,limit=800)"
   ]
  },
  {
   "cell_type": "code",
   "execution_count": 57,
   "id": "0f7a5afa",
   "metadata": {},
   "outputs": [
    {
     "data": {
      "text/html": [
       "<div>\n",
       "<style scoped>\n",
       "    .dataframe tbody tr th:only-of-type {\n",
       "        vertical-align: middle;\n",
       "    }\n",
       "\n",
       "    .dataframe tbody tr th {\n",
       "        vertical-align: top;\n",
       "    }\n",
       "\n",
       "    .dataframe thead th {\n",
       "        text-align: right;\n",
       "    }\n",
       "</style>\n",
       "<table border=\"1\" class=\"dataframe\">\n",
       "  <thead>\n",
       "    <tr style=\"text-align: right;\">\n",
       "      <th></th>\n",
       "      <th>Brand</th>\n",
       "      <th>Model</th>\n",
       "      <th>Varient</th>\n",
       "      <th>Manufacture Year</th>\n",
       "      <th>Driven Kilometers</th>\n",
       "      <th>Fuel</th>\n",
       "      <th>Number of Owner</th>\n",
       "      <th>Body Type</th>\n",
       "      <th>Location</th>\n",
       "      <th>Price</th>\n",
       "    </tr>\n",
       "  </thead>\n",
       "  <tbody>\n",
       "    <tr>\n",
       "      <th>0</th>\n",
       "      <td>Maruti</td>\n",
       "      <td>Swift</td>\n",
       "      <td>VXI</td>\n",
       "      <td>2019</td>\n",
       "      <td>20,853 kms</td>\n",
       "      <td>Petrol</td>\n",
       "      <td>1st Owner</td>\n",
       "      <td>Hatchback</td>\n",
       "      <td>Ahmedabad</td>\n",
       "      <td>6.2 Lakh</td>\n",
       "    </tr>\n",
       "    <tr>\n",
       "      <th>1</th>\n",
       "      <td>Maruti</td>\n",
       "      <td>Baleno</td>\n",
       "      <td>Delta</td>\n",
       "      <td>2017</td>\n",
       "      <td>34,632 kms</td>\n",
       "      <td>Petrol</td>\n",
       "      <td>1st Owner</td>\n",
       "      <td>Hatchback</td>\n",
       "      <td>Ahmedabad</td>\n",
       "      <td>5.1 Lakh</td>\n",
       "    </tr>\n",
       "    <tr>\n",
       "      <th>2</th>\n",
       "      <td>Maruti</td>\n",
       "      <td>Swift</td>\n",
       "      <td>VXI</td>\n",
       "      <td>2021</td>\n",
       "      <td>2,242 kms</td>\n",
       "      <td>Petrol</td>\n",
       "      <td>1st Owner</td>\n",
       "      <td>Hatchback</td>\n",
       "      <td>Ahmedabad</td>\n",
       "      <td>6.38 Lakh</td>\n",
       "    </tr>\n",
       "    <tr>\n",
       "      <th>3</th>\n",
       "      <td>Hyundai</td>\n",
       "      <td>Verna</td>\n",
       "      <td>CRDi 1.6 AT SX Plus</td>\n",
       "      <td>2017</td>\n",
       "      <td>70,000 kms</td>\n",
       "      <td>Diesel</td>\n",
       "      <td>First Owner</td>\n",
       "      <td>Hatchback</td>\n",
       "      <td>Ahmedabad</td>\n",
       "      <td>9.5 Lakh</td>\n",
       "    </tr>\n",
       "    <tr>\n",
       "      <th>4</th>\n",
       "      <td>Hyundai</td>\n",
       "      <td>i20 Active</td>\n",
       "      <td>1.4 SX</td>\n",
       "      <td>2015</td>\n",
       "      <td>85,000 kms</td>\n",
       "      <td>Diesel</td>\n",
       "      <td>First Owner</td>\n",
       "      <td>Hatchback</td>\n",
       "      <td>Ahmedabad</td>\n",
       "      <td>5.9 Lakh</td>\n",
       "    </tr>\n",
       "    <tr>\n",
       "      <th>...</th>\n",
       "      <td>...</td>\n",
       "      <td>...</td>\n",
       "      <td>...</td>\n",
       "      <td>...</td>\n",
       "      <td>...</td>\n",
       "      <td>...</td>\n",
       "      <td>...</td>\n",
       "      <td>...</td>\n",
       "      <td>...</td>\n",
       "      <td>...</td>\n",
       "    </tr>\n",
       "    <tr>\n",
       "      <th>4253</th>\n",
       "      <td>Toyota</td>\n",
       "      <td>Innova</td>\n",
       "      <td>2.5 EV CS 7 STR BSIV</td>\n",
       "      <td>2012</td>\n",
       "      <td>1,83,000 kms</td>\n",
       "      <td>Diesel</td>\n",
       "      <td>First Owner</td>\n",
       "      <td>MUV</td>\n",
       "      <td>Delhi NCR</td>\n",
       "      <td>5.25 Lakh</td>\n",
       "    </tr>\n",
       "    <tr>\n",
       "      <th>4254</th>\n",
       "      <td>Toyota</td>\n",
       "      <td>Innova</td>\n",
       "      <td>2.5 GX (Diesel) 7 Seater BS IV</td>\n",
       "      <td>2012</td>\n",
       "      <td>70,000 kms</td>\n",
       "      <td>Diesel</td>\n",
       "      <td>First Owner</td>\n",
       "      <td>MUV</td>\n",
       "      <td>Delhi NCR</td>\n",
       "      <td>6.5 Lakh</td>\n",
       "    </tr>\n",
       "    <tr>\n",
       "      <th>4255</th>\n",
       "      <td>Toyota</td>\n",
       "      <td>Innova</td>\n",
       "      <td>2.5 VX 8 STR BSIV</td>\n",
       "      <td>2010</td>\n",
       "      <td>2,20,000 kms</td>\n",
       "      <td>Diesel</td>\n",
       "      <td>First Owner</td>\n",
       "      <td>MUV</td>\n",
       "      <td>Delhi NCR</td>\n",
       "      <td>4.95 Lakh</td>\n",
       "    </tr>\n",
       "    <tr>\n",
       "      <th>4256</th>\n",
       "      <td>Mahindra</td>\n",
       "      <td>Bolero</td>\n",
       "      <td>SLE</td>\n",
       "      <td>2010</td>\n",
       "      <td>1,00,000 kms</td>\n",
       "      <td>Diesel</td>\n",
       "      <td>Second Owner</td>\n",
       "      <td>MUV</td>\n",
       "      <td>Delhi NCR</td>\n",
       "      <td>2.6 Lakh</td>\n",
       "    </tr>\n",
       "    <tr>\n",
       "      <th>4257</th>\n",
       "      <td>Maruti</td>\n",
       "      <td>Ertiga</td>\n",
       "      <td>VDI</td>\n",
       "      <td>2012</td>\n",
       "      <td>58,000 kms</td>\n",
       "      <td>Diesel</td>\n",
       "      <td>First Owner</td>\n",
       "      <td>MUV</td>\n",
       "      <td>Delhi NCR</td>\n",
       "      <td>3.95 Lakh</td>\n",
       "    </tr>\n",
       "  </tbody>\n",
       "</table>\n",
       "<p>4258 rows × 10 columns</p>\n",
       "</div>"
      ],
      "text/plain": [
       "         Brand       Model                         Varient Manufacture Year  \\\n",
       "0       Maruti       Swift                             VXI             2019   \n",
       "1       Maruti      Baleno                           Delta             2017   \n",
       "2       Maruti       Swift                             VXI             2021   \n",
       "3      Hyundai       Verna             CRDi 1.6 AT SX Plus             2017   \n",
       "4      Hyundai  i20 Active                          1.4 SX             2015   \n",
       "...        ...         ...                             ...              ...   \n",
       "4253    Toyota      Innova            2.5 EV CS 7 STR BSIV             2012   \n",
       "4254    Toyota      Innova  2.5 GX (Diesel) 7 Seater BS IV             2012   \n",
       "4255    Toyota      Innova               2.5 VX 8 STR BSIV             2010   \n",
       "4256  Mahindra      Bolero                             SLE             2010   \n",
       "4257    Maruti      Ertiga                             VDI             2012   \n",
       "\n",
       "     Driven Kilometers    Fuel Number of Owner  Body Type   Location  \\\n",
       "0           20,853 kms  Petrol       1st Owner  Hatchback  Ahmedabad   \n",
       "1           34,632 kms  Petrol       1st Owner  Hatchback  Ahmedabad   \n",
       "2            2,242 kms  Petrol       1st Owner  Hatchback  Ahmedabad   \n",
       "3           70,000 kms  Diesel     First Owner  Hatchback  Ahmedabad   \n",
       "4           85,000 kms  Diesel     First Owner  Hatchback  Ahmedabad   \n",
       "...                ...     ...             ...        ...        ...   \n",
       "4253      1,83,000 kms  Diesel     First Owner        MUV  Delhi NCR   \n",
       "4254        70,000 kms  Diesel     First Owner        MUV  Delhi NCR   \n",
       "4255      2,20,000 kms  Diesel     First Owner        MUV  Delhi NCR   \n",
       "4256      1,00,000 kms  Diesel    Second Owner        MUV  Delhi NCR   \n",
       "4257        58,000 kms  Diesel     First Owner        MUV  Delhi NCR   \n",
       "\n",
       "          Price  \n",
       "0      6.2 Lakh  \n",
       "1      5.1 Lakh  \n",
       "2     6.38 Lakh  \n",
       "3      9.5 Lakh  \n",
       "4      5.9 Lakh  \n",
       "...         ...  \n",
       "4253  5.25 Lakh  \n",
       "4254   6.5 Lakh  \n",
       "4255  4.95 Lakh  \n",
       "4256   2.6 Lakh  \n",
       "4257  3.95 Lakh  \n",
       "\n",
       "[4258 rows x 10 columns]"
      ]
     },
     "execution_count": 57,
     "metadata": {},
     "output_type": "execute_result"
    }
   ],
   "source": [
    "#merging data to a single dataframe\n",
    "df_cardekho = merge_df(df_cardekho_dict)\n",
    "df_cardekho"
   ]
  },
  {
   "cell_type": "code",
   "execution_count": 71,
   "id": "fd4f6f78",
   "metadata": {},
   "outputs": [
    {
     "data": {
      "text/html": [
       "<div>\n",
       "<style scoped>\n",
       "    .dataframe tbody tr th:only-of-type {\n",
       "        vertical-align: middle;\n",
       "    }\n",
       "\n",
       "    .dataframe tbody tr th {\n",
       "        vertical-align: top;\n",
       "    }\n",
       "\n",
       "    .dataframe thead th {\n",
       "        text-align: right;\n",
       "    }\n",
       "</style>\n",
       "<table border=\"1\" class=\"dataframe\">\n",
       "  <thead>\n",
       "    <tr style=\"text-align: right;\">\n",
       "      <th></th>\n",
       "      <th>Brand</th>\n",
       "      <th>Model</th>\n",
       "      <th>Varient</th>\n",
       "      <th>Manufacture Year</th>\n",
       "      <th>Driven Kilometers</th>\n",
       "      <th>Fuel</th>\n",
       "      <th>Number of Owner</th>\n",
       "      <th>Body Type</th>\n",
       "      <th>Location</th>\n",
       "      <th>Price</th>\n",
       "    </tr>\n",
       "  </thead>\n",
       "  <tbody>\n",
       "    <tr>\n",
       "      <th>0</th>\n",
       "      <td>Maruti</td>\n",
       "      <td>Zen</td>\n",
       "      <td>Estilo LXI</td>\n",
       "      <td>2011</td>\n",
       "      <td>24,337km</td>\n",
       "      <td>Petrol</td>\n",
       "      <td>1st Owner</td>\n",
       "      <td>Hatchback</td>\n",
       "      <td>Delhi</td>\n",
       "      <td>₹ 2,10,499</td>\n",
       "    </tr>\n",
       "    <tr>\n",
       "      <th>1</th>\n",
       "      <td>Maruti</td>\n",
       "      <td>Alto</td>\n",
       "      <td>K10 VXI</td>\n",
       "      <td>2018</td>\n",
       "      <td>5,198km</td>\n",
       "      <td>Petrol</td>\n",
       "      <td>1st Owner</td>\n",
       "      <td>Hatchback</td>\n",
       "      <td>Delhi</td>\n",
       "      <td>₹ 3,43,799</td>\n",
       "    </tr>\n",
       "    <tr>\n",
       "      <th>2</th>\n",
       "      <td>Maruti</td>\n",
       "      <td>Celerio</td>\n",
       "      <td>VXI AMT</td>\n",
       "      <td>2015</td>\n",
       "      <td>27,739km</td>\n",
       "      <td>Petrol</td>\n",
       "      <td>1st Owner</td>\n",
       "      <td>Hatchback</td>\n",
       "      <td>Delhi</td>\n",
       "      <td>₹ 3,71,199</td>\n",
       "    </tr>\n",
       "    <tr>\n",
       "      <th>3</th>\n",
       "      <td>Hyundai</td>\n",
       "      <td>i20</td>\n",
       "      <td>SPORTZ 1.2 VTVT</td>\n",
       "      <td>2014</td>\n",
       "      <td>25,187km</td>\n",
       "      <td>Petrol</td>\n",
       "      <td>1st Owner</td>\n",
       "      <td>Hatchback</td>\n",
       "      <td>Delhi</td>\n",
       "      <td>₹ 3,60,099</td>\n",
       "    </tr>\n",
       "    <tr>\n",
       "      <th>4</th>\n",
       "      <td>Maruti</td>\n",
       "      <td>S</td>\n",
       "      <td>PRESSO VXI PLUS</td>\n",
       "      <td>2020</td>\n",
       "      <td>7,556km</td>\n",
       "      <td>Petrol</td>\n",
       "      <td>1st Owner</td>\n",
       "      <td>Hatchback</td>\n",
       "      <td>Delhi</td>\n",
       "      <td>₹ 4,15,999</td>\n",
       "    </tr>\n",
       "    <tr>\n",
       "      <th>...</th>\n",
       "      <td>...</td>\n",
       "      <td>...</td>\n",
       "      <td>...</td>\n",
       "      <td>...</td>\n",
       "      <td>...</td>\n",
       "      <td>...</td>\n",
       "      <td>...</td>\n",
       "      <td>...</td>\n",
       "      <td>...</td>\n",
       "      <td>...</td>\n",
       "    </tr>\n",
       "    <tr>\n",
       "      <th>10078</th>\n",
       "      <td>Toyota</td>\n",
       "      <td>Innova</td>\n",
       "      <td>2.5 EV CS 7 STR BSIV</td>\n",
       "      <td>2012</td>\n",
       "      <td>1,83,000 kms</td>\n",
       "      <td>Diesel</td>\n",
       "      <td>First Owner</td>\n",
       "      <td>MUV</td>\n",
       "      <td>Delhi NCR</td>\n",
       "      <td>5.25 Lakh</td>\n",
       "    </tr>\n",
       "    <tr>\n",
       "      <th>10079</th>\n",
       "      <td>Toyota</td>\n",
       "      <td>Innova</td>\n",
       "      <td>2.5 GX (Diesel) 7 Seater BS IV</td>\n",
       "      <td>2012</td>\n",
       "      <td>70,000 kms</td>\n",
       "      <td>Diesel</td>\n",
       "      <td>First Owner</td>\n",
       "      <td>MUV</td>\n",
       "      <td>Delhi NCR</td>\n",
       "      <td>6.5 Lakh</td>\n",
       "    </tr>\n",
       "    <tr>\n",
       "      <th>10080</th>\n",
       "      <td>Toyota</td>\n",
       "      <td>Innova</td>\n",
       "      <td>2.5 VX 8 STR BSIV</td>\n",
       "      <td>2010</td>\n",
       "      <td>2,20,000 kms</td>\n",
       "      <td>Diesel</td>\n",
       "      <td>First Owner</td>\n",
       "      <td>MUV</td>\n",
       "      <td>Delhi NCR</td>\n",
       "      <td>4.95 Lakh</td>\n",
       "    </tr>\n",
       "    <tr>\n",
       "      <th>10081</th>\n",
       "      <td>Mahindra</td>\n",
       "      <td>Bolero</td>\n",
       "      <td>SLE</td>\n",
       "      <td>2010</td>\n",
       "      <td>1,00,000 kms</td>\n",
       "      <td>Diesel</td>\n",
       "      <td>Second Owner</td>\n",
       "      <td>MUV</td>\n",
       "      <td>Delhi NCR</td>\n",
       "      <td>2.6 Lakh</td>\n",
       "    </tr>\n",
       "    <tr>\n",
       "      <th>10082</th>\n",
       "      <td>Maruti</td>\n",
       "      <td>Ertiga</td>\n",
       "      <td>VDI</td>\n",
       "      <td>2012</td>\n",
       "      <td>58,000 kms</td>\n",
       "      <td>Diesel</td>\n",
       "      <td>First Owner</td>\n",
       "      <td>MUV</td>\n",
       "      <td>Delhi NCR</td>\n",
       "      <td>3.95 Lakh</td>\n",
       "    </tr>\n",
       "  </tbody>\n",
       "</table>\n",
       "<p>10083 rows × 10 columns</p>\n",
       "</div>"
      ],
      "text/plain": [
       "          Brand    Model                         Varient Manufacture Year  \\\n",
       "0        Maruti      Zen                      Estilo LXI             2011   \n",
       "1        Maruti     Alto                         K10 VXI             2018   \n",
       "2        Maruti  Celerio                         VXI AMT             2015   \n",
       "3       Hyundai      i20                 SPORTZ 1.2 VTVT             2014   \n",
       "4        Maruti        S                 PRESSO VXI PLUS             2020   \n",
       "...         ...      ...                             ...              ...   \n",
       "10078    Toyota   Innova            2.5 EV CS 7 STR BSIV             2012   \n",
       "10079    Toyota   Innova  2.5 GX (Diesel) 7 Seater BS IV             2012   \n",
       "10080    Toyota   Innova               2.5 VX 8 STR BSIV             2010   \n",
       "10081  Mahindra   Bolero                             SLE             2010   \n",
       "10082    Maruti   Ertiga                             VDI             2012   \n",
       "\n",
       "      Driven Kilometers    Fuel Number of Owner  Body Type   Location  \\\n",
       "0              24,337km  Petrol       1st Owner  Hatchback      Delhi   \n",
       "1               5,198km  Petrol       1st Owner  Hatchback      Delhi   \n",
       "2              27,739km  Petrol       1st Owner  Hatchback      Delhi   \n",
       "3              25,187km  Petrol       1st Owner  Hatchback      Delhi   \n",
       "4               7,556km  Petrol       1st Owner  Hatchback      Delhi   \n",
       "...                 ...     ...             ...        ...        ...   \n",
       "10078      1,83,000 kms  Diesel     First Owner        MUV  Delhi NCR   \n",
       "10079        70,000 kms  Diesel     First Owner        MUV  Delhi NCR   \n",
       "10080      2,20,000 kms  Diesel     First Owner        MUV  Delhi NCR   \n",
       "10081      1,00,000 kms  Diesel    Second Owner        MUV  Delhi NCR   \n",
       "10082        58,000 kms  Diesel     First Owner        MUV  Delhi NCR   \n",
       "\n",
       "            Price  \n",
       "0      ₹ 2,10,499  \n",
       "1      ₹ 3,43,799  \n",
       "2      ₹ 3,71,199  \n",
       "3      ₹ 3,60,099  \n",
       "4      ₹ 4,15,999  \n",
       "...           ...  \n",
       "10078   5.25 Lakh  \n",
       "10079    6.5 Lakh  \n",
       "10080   4.95 Lakh  \n",
       "10081    2.6 Lakh  \n",
       "10082   3.95 Lakh  \n",
       "\n",
       "[10083 rows x 10 columns]"
      ]
     },
     "execution_count": 71,
     "metadata": {},
     "output_type": "execute_result"
    }
   ],
   "source": [
    "#merging the all scraped data to a single data frame\n",
    "final_df = pd.merge(df_cars24,df_cardekho,how='outer')\n",
    "final_df"
   ]
  },
  {
   "cell_type": "code",
   "execution_count": 87,
   "id": "cf550e23",
   "metadata": {
    "scrolled": true
   },
   "outputs": [
    {
     "data": {
      "text/html": [
       "<div>\n",
       "<style scoped>\n",
       "    .dataframe tbody tr th:only-of-type {\n",
       "        vertical-align: middle;\n",
       "    }\n",
       "\n",
       "    .dataframe tbody tr th {\n",
       "        vertical-align: top;\n",
       "    }\n",
       "\n",
       "    .dataframe thead th {\n",
       "        text-align: right;\n",
       "    }\n",
       "</style>\n",
       "<table border=\"1\" class=\"dataframe\">\n",
       "  <thead>\n",
       "    <tr style=\"text-align: right;\">\n",
       "      <th></th>\n",
       "      <th>Brand</th>\n",
       "      <th>Model</th>\n",
       "      <th>Varient</th>\n",
       "      <th>Manufacture Year</th>\n",
       "      <th>Driven Kilometers</th>\n",
       "      <th>Fuel</th>\n",
       "      <th>Number of Owner</th>\n",
       "      <th>Body Type</th>\n",
       "      <th>Location</th>\n",
       "      <th>Price</th>\n",
       "    </tr>\n",
       "  </thead>\n",
       "  <tbody>\n",
       "    <tr>\n",
       "      <th>0</th>\n",
       "      <td>Maruti</td>\n",
       "      <td>Zen</td>\n",
       "      <td>Estilo LXI</td>\n",
       "      <td>2011</td>\n",
       "      <td>24,337km</td>\n",
       "      <td>Petrol</td>\n",
       "      <td>1st Owner</td>\n",
       "      <td>Hatchback</td>\n",
       "      <td>Delhi</td>\n",
       "      <td>210499.0</td>\n",
       "    </tr>\n",
       "    <tr>\n",
       "      <th>1</th>\n",
       "      <td>Maruti</td>\n",
       "      <td>Alto</td>\n",
       "      <td>K10 VXI</td>\n",
       "      <td>2018</td>\n",
       "      <td>5,198km</td>\n",
       "      <td>Petrol</td>\n",
       "      <td>1st Owner</td>\n",
       "      <td>Hatchback</td>\n",
       "      <td>Delhi</td>\n",
       "      <td>343799.0</td>\n",
       "    </tr>\n",
       "    <tr>\n",
       "      <th>2</th>\n",
       "      <td>Maruti</td>\n",
       "      <td>Celerio</td>\n",
       "      <td>VXI AMT</td>\n",
       "      <td>2015</td>\n",
       "      <td>27,739km</td>\n",
       "      <td>Petrol</td>\n",
       "      <td>1st Owner</td>\n",
       "      <td>Hatchback</td>\n",
       "      <td>Delhi</td>\n",
       "      <td>371199.0</td>\n",
       "    </tr>\n",
       "    <tr>\n",
       "      <th>3</th>\n",
       "      <td>Hyundai</td>\n",
       "      <td>i20</td>\n",
       "      <td>SPORTZ 1.2 VTVT</td>\n",
       "      <td>2014</td>\n",
       "      <td>25,187km</td>\n",
       "      <td>Petrol</td>\n",
       "      <td>1st Owner</td>\n",
       "      <td>Hatchback</td>\n",
       "      <td>Delhi</td>\n",
       "      <td>360099.0</td>\n",
       "    </tr>\n",
       "    <tr>\n",
       "      <th>4</th>\n",
       "      <td>Maruti</td>\n",
       "      <td>S</td>\n",
       "      <td>PRESSO VXI PLUS</td>\n",
       "      <td>2020</td>\n",
       "      <td>7,556km</td>\n",
       "      <td>Petrol</td>\n",
       "      <td>1st Owner</td>\n",
       "      <td>Hatchback</td>\n",
       "      <td>Delhi</td>\n",
       "      <td>415999.0</td>\n",
       "    </tr>\n",
       "    <tr>\n",
       "      <th>...</th>\n",
       "      <td>...</td>\n",
       "      <td>...</td>\n",
       "      <td>...</td>\n",
       "      <td>...</td>\n",
       "      <td>...</td>\n",
       "      <td>...</td>\n",
       "      <td>...</td>\n",
       "      <td>...</td>\n",
       "      <td>...</td>\n",
       "      <td>...</td>\n",
       "    </tr>\n",
       "    <tr>\n",
       "      <th>10078</th>\n",
       "      <td>Toyota</td>\n",
       "      <td>Innova</td>\n",
       "      <td>2.5 EV CS 7 STR BSIV</td>\n",
       "      <td>2012</td>\n",
       "      <td>1,83,000 kms</td>\n",
       "      <td>Diesel</td>\n",
       "      <td>First Owner</td>\n",
       "      <td>MUV</td>\n",
       "      <td>Delhi NCR</td>\n",
       "      <td>525000.0</td>\n",
       "    </tr>\n",
       "    <tr>\n",
       "      <th>10079</th>\n",
       "      <td>Toyota</td>\n",
       "      <td>Innova</td>\n",
       "      <td>2.5 GX (Diesel) 7 Seater BS IV</td>\n",
       "      <td>2012</td>\n",
       "      <td>70,000 kms</td>\n",
       "      <td>Diesel</td>\n",
       "      <td>First Owner</td>\n",
       "      <td>MUV</td>\n",
       "      <td>Delhi NCR</td>\n",
       "      <td>650000.0</td>\n",
       "    </tr>\n",
       "    <tr>\n",
       "      <th>10080</th>\n",
       "      <td>Toyota</td>\n",
       "      <td>Innova</td>\n",
       "      <td>2.5 VX 8 STR BSIV</td>\n",
       "      <td>2010</td>\n",
       "      <td>2,20,000 kms</td>\n",
       "      <td>Diesel</td>\n",
       "      <td>First Owner</td>\n",
       "      <td>MUV</td>\n",
       "      <td>Delhi NCR</td>\n",
       "      <td>495000.0</td>\n",
       "    </tr>\n",
       "    <tr>\n",
       "      <th>10081</th>\n",
       "      <td>Mahindra</td>\n",
       "      <td>Bolero</td>\n",
       "      <td>SLE</td>\n",
       "      <td>2010</td>\n",
       "      <td>1,00,000 kms</td>\n",
       "      <td>Diesel</td>\n",
       "      <td>Second Owner</td>\n",
       "      <td>MUV</td>\n",
       "      <td>Delhi NCR</td>\n",
       "      <td>260000.0</td>\n",
       "    </tr>\n",
       "    <tr>\n",
       "      <th>10082</th>\n",
       "      <td>Maruti</td>\n",
       "      <td>Ertiga</td>\n",
       "      <td>VDI</td>\n",
       "      <td>2012</td>\n",
       "      <td>58,000 kms</td>\n",
       "      <td>Diesel</td>\n",
       "      <td>First Owner</td>\n",
       "      <td>MUV</td>\n",
       "      <td>Delhi NCR</td>\n",
       "      <td>395000.0</td>\n",
       "    </tr>\n",
       "  </tbody>\n",
       "</table>\n",
       "<p>10083 rows × 10 columns</p>\n",
       "</div>"
      ],
      "text/plain": [
       "          Brand    Model                         Varient Manufacture Year  \\\n",
       "0        Maruti      Zen                      Estilo LXI             2011   \n",
       "1        Maruti     Alto                         K10 VXI             2018   \n",
       "2        Maruti  Celerio                         VXI AMT             2015   \n",
       "3       Hyundai      i20                 SPORTZ 1.2 VTVT             2014   \n",
       "4        Maruti        S                 PRESSO VXI PLUS             2020   \n",
       "...         ...      ...                             ...              ...   \n",
       "10078    Toyota   Innova            2.5 EV CS 7 STR BSIV             2012   \n",
       "10079    Toyota   Innova  2.5 GX (Diesel) 7 Seater BS IV             2012   \n",
       "10080    Toyota   Innova               2.5 VX 8 STR BSIV             2010   \n",
       "10081  Mahindra   Bolero                             SLE             2010   \n",
       "10082    Maruti   Ertiga                             VDI             2012   \n",
       "\n",
       "      Driven Kilometers    Fuel Number of Owner  Body Type   Location  \\\n",
       "0              24,337km  Petrol       1st Owner  Hatchback      Delhi   \n",
       "1               5,198km  Petrol       1st Owner  Hatchback      Delhi   \n",
       "2              27,739km  Petrol       1st Owner  Hatchback      Delhi   \n",
       "3              25,187km  Petrol       1st Owner  Hatchback      Delhi   \n",
       "4               7,556km  Petrol       1st Owner  Hatchback      Delhi   \n",
       "...                 ...     ...             ...        ...        ...   \n",
       "10078      1,83,000 kms  Diesel     First Owner        MUV  Delhi NCR   \n",
       "10079        70,000 kms  Diesel     First Owner        MUV  Delhi NCR   \n",
       "10080      2,20,000 kms  Diesel     First Owner        MUV  Delhi NCR   \n",
       "10081      1,00,000 kms  Diesel    Second Owner        MUV  Delhi NCR   \n",
       "10082        58,000 kms  Diesel     First Owner        MUV  Delhi NCR   \n",
       "\n",
       "          Price  \n",
       "0      210499.0  \n",
       "1      343799.0  \n",
       "2      371199.0  \n",
       "3      360099.0  \n",
       "4      415999.0  \n",
       "...         ...  \n",
       "10078  525000.0  \n",
       "10079  650000.0  \n",
       "10080  495000.0  \n",
       "10081  260000.0  \n",
       "10082  395000.0  \n",
       "\n",
       "[10083 rows x 10 columns]"
      ]
     },
     "execution_count": 87,
     "metadata": {},
     "output_type": "execute_result"
    }
   ],
   "source": [
    "#coverting price to proper number format\n",
    "#multiplying records with 100000 which contains xx Lakh\n",
    "final_df.Price[final_df.Price.str.contains('Lakh')] = final_df.Price[final_df.Price.str.contains('Lakh')].apply(lambda x: str(float(x.split()[0])*100000))\n",
    "\n",
    "#multiplying records with 10000000 which contains xx Cr\n",
    "final_df.Price[final_df.Price.str.contains('Cr')] = final_df.Price[final_df.Price.str.contains('Cr')].apply(lambda x: str(float(x.split()[0])*10000000))\n",
    "\n",
    "#extracting numbers only and discarding other characters\n",
    "final_df.Price = final_df.Price.str.replace('[^0-9.]','').astype('float64')\n",
    "\n",
    "final_df"
   ]
  },
  {
   "cell_type": "code",
   "execution_count": 90,
   "id": "edc6f2a2",
   "metadata": {},
   "outputs": [
    {
     "data": {
      "text/plain": [
       "array(['First Owner', 'Second Owner', 'Third Owner', 'Fourth Owner',\n",
       "       'Fourth & Above Owner', 'Test Drive Car'], dtype=object)"
      ]
     },
     "execution_count": 90,
     "metadata": {},
     "output_type": "execute_result"
    }
   ],
   "source": [
    "#converting 1st, 2nd, 3rd, 4th to First, Second, Third, Fourth in Number of Owners to keep data in same constraits.\n",
    "for x, y in zip(['1st','2nd','3rd','4th'],['First','Second','Third','Fourth']):\n",
    "    final_df[\"Number of Owner\"] = final_df[\"Number of Owner\"].str.replace(x,y)\n",
    "final_df[\"Number of Owner\"].unique()"
   ]
  },
  {
   "cell_type": "code",
   "execution_count": 91,
   "id": "9424614e",
   "metadata": {},
   "outputs": [],
   "source": [
    "#saving scraped data to a csv file\n",
    "final_df.to_csv('data-car-price-prediction.csv')"
   ]
  },
  {
   "cell_type": "markdown",
   "id": "eb8862f1",
   "metadata": {},
   "source": [
    "### _________EOF_____"
   ]
  }
 ],
 "metadata": {
  "kernelspec": {
   "display_name": "Python 3",
   "language": "python",
   "name": "python3"
  },
  "language_info": {
   "codemirror_mode": {
    "name": "ipython",
    "version": 3
   },
   "file_extension": ".py",
   "mimetype": "text/x-python",
   "name": "python",
   "nbconvert_exporter": "python",
   "pygments_lexer": "ipython3",
   "version": "3.8.8"
  }
 },
 "nbformat": 4,
 "nbformat_minor": 5
}
