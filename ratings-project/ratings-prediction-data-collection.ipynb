{
 "cells": [
  {
   "cell_type": "markdown",
   "id": "fdacc6e1",
   "metadata": {},
   "source": [
    "# Ratings Prediction: Data Collection\n",
    "#### Objective:\n",
    "To scrape the reviews of different laptops, Phones, Headphones, smart watches, Professional Cameras, Printers, monitors, Home theater, router from different e-commerce websites.\n",
    "\n",
    "**Basically needed columns:**\n",
    "1. reviews of the product.\n",
    "2. rating of the product"
   ]
  },
  {
   "cell_type": "code",
   "execution_count": 1,
   "id": "215476ee",
   "metadata": {},
   "outputs": [],
   "source": [
    "#importing required libraries\n",
    "import pandas as pd\n",
    "import re\n",
    "import time, sys\n",
    "import tqdm.notebook as tqdm\n",
    "from selenium import webdriver\n",
    "from selenium.webdriver.common.by import By\n",
    "from selenium.webdriver.support import expected_conditions as ec\n",
    "from selenium.webdriver.support.ui import WebDriverWait\n",
    "from selenium.common.exceptions import TimeoutException"
   ]
  },
  {
   "cell_type": "markdown",
   "id": "55e02b99",
   "metadata": {},
   "source": [
    "# Scraping Ratings & Reviews from `Flipkart.com`"
   ]
  },
  {
   "cell_type": "code",
   "execution_count": 2,
   "id": "87085f7a",
   "metadata": {},
   "outputs": [],
   "source": [
    "#function for initializing webdriver with chromedriver.exe\n",
    "def start_driver():\n",
    "    #initializing webdriver with chrome driver\n",
    "    driver = webdriver.Chrome('chromedriver.exe')\n",
    "    \n",
    "    return driver\n",
    "#end of function start_driver\n",
    "\n",
    "\n",
    "\n",
    "#function for initializing driver with https://flipkart.com and searching a value\n",
    "def init_flipkart(search_key,driver):\n",
    "    #initializing driver with url https://flipkart.com\n",
    "    driver.get('https://flipkart.com')\n",
    "\n",
    "    #closing login pop-up\n",
    "    WebDriverWait(driver,5).until(ec.element_to_be_clickable((By.XPATH,'//button[@class=\"_2KpZ6l _2doB4z\"]'))).click()\n",
    "\n",
    "    #initializing search box with laptops\n",
    "    WebDriverWait(driver,5).until(ec.element_to_be_clickable((By.XPATH,'//input[@class=\"_3704LK\"]'))).send_keys(search_key)\n",
    "\n",
    "    #clicking on search button\n",
    "    WebDriverWait(driver,5).until(ec.element_to_be_clickable((By.XPATH,'//button[@class=\"L0Z3Pu\"]'))).click()\n",
    "    \n",
    "\n",
    "#end of function init_flipkart\n",
    "\n",
    "\n",
    "#function for fetching all the product urls for searched product\n",
    "def get_product_urls(driver):\n",
    "    #getting all the related product links\n",
    "    product_urls = []\n",
    "    page_counter = 0\n",
    "    while 1:\n",
    "        #getting product url containers\n",
    "        try:\n",
    "            links = []\n",
    "            links = WebDriverWait(driver,5).until(ec.presence_of_all_elements_located((By.XPATH,'//div[@class=\"_2kHMtA\"]/a[@class=\"_1fQZEK\"]')))\n",
    "        except TimeoutException:\n",
    "            links = []\n",
    "            links = WebDriverWait(driver,5).until(ec.presence_of_all_elements_located((By.XPATH,'//div[@class=\"_4ddWXP\"]/a[@class=\"_2rpwqI\"]')))\n",
    "        except:\n",
    "            print(\"No more links found\")\n",
    "\n",
    "        #scraping product url from containers\n",
    "        for link in links:\n",
    "            try:\n",
    "                product_urls.append(link.get_attribute('href'))\n",
    "                sys.stdout.write(f\"\\rFoundURL: [{len(product_urls)}]\")\n",
    "                sys.stdout.flush()\n",
    "            except:\n",
    "                break\n",
    "\n",
    "        #goto next page if available\n",
    "        try:\n",
    "            page_counter += 1\n",
    "            #breaking loop after visting 41 pages for url as flipkart throws error after this\n",
    "            if page_counter >41:\n",
    "                break\n",
    "                \n",
    "            WebDriverWait(driver,5).until(ec.element_to_be_clickable((By.XPATH,'//a[@class=\"_1LKTO3\"]/span[text()=\"Next\"]'))).click()\n",
    "        except:\n",
    "            break; #break loop if next page is not available\n",
    "\n",
    "    #end of while 1\n",
    "    return product_urls\n",
    "\n",
    "#end of function get_product_urls\n",
    "\n",
    "\n",
    "#function to scrape reviews and ratings from given product url\n",
    "def get_rating_reviews(urls,driver,limit=False):\n",
    "    ratings = []\n",
    "    review_titles = []\n",
    "    review_descriptions = []\n",
    "    \n",
    "    #scraping ratings & reviews of products\n",
    "    for url in tqdm.tqdm(urls,desc=\"Processing\"):\n",
    "        #if number of records are more than limit than break\n",
    "        if limit and len(ratings) > limit:\n",
    "            break\n",
    "        \n",
    "        #initialize driver with url\n",
    "        driver.get(url)\n",
    "        try:\n",
    "            #checking for total number of reviews available for current url\n",
    "            num_reviews = WebDriverWait(driver,5).until(ec.element_to_be_clickable((By.XPATH,'//span[@class=\"_2_R_DZ\"]/span/span[3]')))\n",
    "            total_reviews = int(re.search(r'\\d+',num_reviews.text)[0])\n",
    "        except:\n",
    "            sys.stdout.write(\"\\rNumber of Reviews: TimeOut!\")\n",
    "            continue\n",
    "\n",
    "        rating_containers = []\n",
    "        title_containers = []\n",
    "        description_containers = []\n",
    "        \n",
    "        #if total reviews is more than 3 than click on All [XX] reviews link\n",
    "        if total_reviews > 3:      #reviews IF\n",
    "            try:\n",
    "                WebDriverWait(driver,5).until(ec.element_to_be_clickable((By.XPATH,'//div[@class=\"_3UAT2v _16PBlm\"]/span[contains(text(),\"All\")]'))).click()\n",
    "                time.sleep(2)\n",
    "            except:\n",
    "                sys.stdout.write(\"\\rAll [XX] Reviews: TimeOut!\")\n",
    "                \n",
    "            while 1:\n",
    "                #checking and breaking loop when number of records are more than limit\n",
    "                if limit and len(ratings) > limit:\n",
    "                    break\n",
    "                    \n",
    "                error_flag = False\n",
    "                try:\n",
    "                    rating_containers = WebDriverWait(driver,5).until(ec.presence_of_all_elements_located((By.XPATH,'//div[@class=\"col _2wzgFH K0kLPL\"]/div[1]/div')))\n",
    "                    title_containers = WebDriverWait(driver,5).until(ec.presence_of_all_elements_located((By.XPATH,'//div[@class=\"col _2wzgFH K0kLPL\"]/div[1]/p')))\n",
    "                    description_containers = WebDriverWait(driver,5).until(ec.presence_of_all_elements_located((By.XPATH,'//div[@class=\"col _2wzgFH K0kLPL\"]/div[2]/div/div')))\n",
    "                except:\n",
    "                    error_flag = True\n",
    "                    sys.stdout.write(\"\\rScraping Containers: TimeOut!\")\n",
    "\n",
    "                if not error_flag:\n",
    "                    for rating in rating_containers:\n",
    "                        ratings.append(rating.text)\n",
    "\n",
    "                    for title in title_containers:\n",
    "                        review_titles.append(title.text)\n",
    "\n",
    "                    for description in description_containers:\n",
    "                        review_descriptions.append(description.text.replace('\\n',' '))\n",
    "                        \n",
    "                if limit:\n",
    "                    sys.stdout.write(\"\\rScrapeLIMIT[%d/%d] :: URL: %s\" % (len(ratings),limit,url))\n",
    "                else:\n",
    "                    sys.stdout.write(\"\\rScrapedDATA[%d] :: URL: %s\" % (len(ratings),url))\n",
    "\n",
    "                #move to next review page\n",
    "                try:\n",
    "                    WebDriverWait(driver,5).until(ec.element_to_be_clickable((By.XPATH,'//a[@class=\"_1LKTO3\"]/span[text()=\"Next\"]'))).click()\n",
    "                    time.sleep(3)\n",
    "                except:\n",
    "                    break\n",
    "                    \n",
    "            #end of while 1\n",
    "        else:\n",
    "            error_flag = False\n",
    "            try:\n",
    "                rating_containers = WebDriverWait(driver,5).until(ec.presence_of_all_elements_located((By.XPATH,'//div[@class=\"col _2wzgFH\"]/div[1]/div')))\n",
    "                title_containers = WebDriverWait(driver,5).until(ec.presence_of_all_elements_located((By.XPATH,'//div[@class=\"col _2wzgFH\"]/div[1]/p')))\n",
    "                description_containers = WebDriverWait(driver,5).until(ec.presence_of_all_elements_located((By.XPATH,'//div[@class=\"col _2wzgFH\"]/div[2]/div/div')))\n",
    "            except:\n",
    "                error_flag = True\n",
    "                sys.stdout.write(\"\\rScraping Containers: TimeOut!\")\n",
    "                \n",
    "            if not error_flag:\n",
    "                for rating in rating_containers:\n",
    "                    ratings.append(rating.text)\n",
    "\n",
    "                for title in title_containers:\n",
    "                    review_titles.append(title.text)\n",
    "\n",
    "                for description in description_containers:\n",
    "                    review_descriptions.append(description.text.replace('\\n',' '))\n",
    "            \n",
    "            if limit:\n",
    "                sys.stdout.write(\"\\rScrapeLIMIT[%d/%d] :: URL: %s\" % (len(ratings),limit,url))\n",
    "            else:\n",
    "                sys.stdout.write(\"\\rScrapedDATA[%d] :: URL: %s\" % (len(ratings),url))\n",
    "        #end of reviewsIF\n",
    "    #end of forLoop\n",
    "        \n",
    "    #creating dataframe of scraped data\n",
    "    df = pd.DataFrame({\n",
    "        \"Ratings\": ratings,\n",
    "        \"Review Titles\": review_titles,\n",
    "        \"Review Descriptions\": review_descriptions\n",
    "    })\n",
    "    \n",
    "    #closing driver\n",
    "    driver.close()\n",
    "    \n",
    "    #returning dataframe object\n",
    "    if limit:\n",
    "        return df[:limit]\n",
    "    else:\n",
    "        return df\n",
    "#end of function get_rating_reviews()\n"
   ]
  },
  {
   "cell_type": "markdown",
   "id": "0cf101de",
   "metadata": {},
   "source": [
    "## Scraping ratings & reviews for `Laptops` from flipkart"
   ]
  },
  {
   "cell_type": "code",
   "execution_count": 3,
   "id": "cc092c82",
   "metadata": {
    "scrolled": true
   },
   "outputs": [
    {
     "name": "stdout",
     "output_type": "stream",
     "text": [
      "FoundURL: [495]"
     ]
    }
   ],
   "source": [
    "#start driver\n",
    "driver = start_driver()\n",
    "\n",
    "#initialize search box with laptops\n",
    "init_flipkart('laptops',driver)\n",
    "\n",
    "#fetch the all related product urls\n",
    "urls = get_product_urls(driver)"
   ]
  },
  {
   "cell_type": "code",
   "execution_count": 4,
   "id": "389fddad",
   "metadata": {},
   "outputs": [
    {
     "data": {
      "application/vnd.jupyter.widget-view+json": {
       "model_id": "5a7894d4cdff40c9ac57c5a95d833429",
       "version_major": 2,
       "version_minor": 0
      },
      "text/plain": [
       "Processing:   0%|          | 0/495 [00:00<?, ?it/s]"
      ]
     },
     "metadata": {},
     "output_type": "display_data"
    },
    {
     "name": "stdout",
     "output_type": "stream",
     "text": [
      "ScrapedDATA[30631] :: URL: https://www.flipkart.com/avita-liber-core-i5-8th-gen-8-gb-256-gb-ssd-windows-10-home-ns13a2in199p-thin-light-laptop/p/itme90070f891149?pid=COMFQGZEZYHEGQAX&lid=LSTCOMFQGZEZYHEGQAXRHE7DY&marketplace=FLIPKART&q=laptops&store=6bo%2Fb5g&srno=s_26_578&otracker=search&otracker1=search&fm=SEARCH&iid=7b43357e-3770-4784-86b0-421662122f52.COMFQGZEZYHEGQAX.SEARCH&ppt=sp&ppn=sp&ssid=oadwro8ocw0000001624100894696&qH=c06ea84a1e3dc3c6100894696&qH=c06ea84a1e3dc3c6e3dc3c6100894696&qH=c06ea84a1e3dc3c6c6a84a1e3dc3c63c64a1e3dc3c63c6e3dc3c63c6"
     ]
    }
   ],
   "source": [
    "#scrape the ratings & reviews from urls and store it as dataframe object\n",
    "laptop_df_flipkart = get_rating_reviews(urls,driver)"
   ]
  },
  {
   "cell_type": "code",
   "execution_count": 5,
   "id": "e5c64899",
   "metadata": {},
   "outputs": [
    {
     "data": {
      "text/html": [
       "<div>\n",
       "<style scoped>\n",
       "    .dataframe tbody tr th:only-of-type {\n",
       "        vertical-align: middle;\n",
       "    }\n",
       "\n",
       "    .dataframe tbody tr th {\n",
       "        vertical-align: top;\n",
       "    }\n",
       "\n",
       "    .dataframe thead th {\n",
       "        text-align: right;\n",
       "    }\n",
       "</style>\n",
       "<table border=\"1\" class=\"dataframe\">\n",
       "  <thead>\n",
       "    <tr style=\"text-align: right;\">\n",
       "      <th></th>\n",
       "      <th>Ratings</th>\n",
       "      <th>Review Titles</th>\n",
       "      <th>Review Descriptions</th>\n",
       "    </tr>\n",
       "  </thead>\n",
       "  <tbody>\n",
       "    <tr>\n",
       "      <th>0</th>\n",
       "      <td>5</td>\n",
       "      <td>Worth every penny</td>\n",
       "      <td>An affordable beast ! Pros: 1. Incredible perf...</td>\n",
       "    </tr>\n",
       "    <tr>\n",
       "      <th>1</th>\n",
       "      <td>5</td>\n",
       "      <td>Awesome</td>\n",
       "      <td>Best laptop in this price segment.. battery is...</td>\n",
       "    </tr>\n",
       "    <tr>\n",
       "      <th>2</th>\n",
       "      <td>4</td>\n",
       "      <td>Really Nice</td>\n",
       "      <td>To be honest Pro's 1) RGB keyboard 2)144Hzs wi...</td>\n",
       "    </tr>\n",
       "    <tr>\n",
       "      <th>3</th>\n",
       "      <td>4</td>\n",
       "      <td>Value-for-money</td>\n",
       "      <td>The Laptop is a masterpiece with stunnig desig...</td>\n",
       "    </tr>\n",
       "    <tr>\n",
       "      <th>4</th>\n",
       "      <td>5</td>\n",
       "      <td>Highly recommended</td>\n",
       "      <td>Good laptop but customer care folks are real d...</td>\n",
       "    </tr>\n",
       "    <tr>\n",
       "      <th>...</th>\n",
       "      <td>...</td>\n",
       "      <td>...</td>\n",
       "      <td>...</td>\n",
       "    </tr>\n",
       "    <tr>\n",
       "      <th>30626</th>\n",
       "      <td>5</td>\n",
       "      <td>Wonderful</td>\n",
       "      <td>Super it looks like Mac book</td>\n",
       "    </tr>\n",
       "    <tr>\n",
       "      <th>30627</th>\n",
       "      <td>5</td>\n",
       "      <td>Awesome</td>\n",
       "      <td>It is very slim laptop with light weight..It's...</td>\n",
       "    </tr>\n",
       "    <tr>\n",
       "      <th>30628</th>\n",
       "      <td>5</td>\n",
       "      <td>Highly recommended</td>\n",
       "      <td>Highly recommended.delivery was good,I got the...</td>\n",
       "    </tr>\n",
       "    <tr>\n",
       "      <th>30629</th>\n",
       "      <td>5</td>\n",
       "      <td>Awesome</td>\n",
       "      <td>Product is awesome. Feel like a mac only touch...</td>\n",
       "    </tr>\n",
       "    <tr>\n",
       "      <th>30630</th>\n",
       "      <td>5</td>\n",
       "      <td>Classy product</td>\n",
       "      <td>Has a premium design and built quality. Its a ...</td>\n",
       "    </tr>\n",
       "  </tbody>\n",
       "</table>\n",
       "<p>30631 rows × 3 columns</p>\n",
       "</div>"
      ],
      "text/plain": [
       "      Ratings       Review Titles  \\\n",
       "0           5   Worth every penny   \n",
       "1           5             Awesome   \n",
       "2           4         Really Nice   \n",
       "3           4     Value-for-money   \n",
       "4           5  Highly recommended   \n",
       "...       ...                 ...   \n",
       "30626       5           Wonderful   \n",
       "30627       5             Awesome   \n",
       "30628       5  Highly recommended   \n",
       "30629       5             Awesome   \n",
       "30630       5      Classy product   \n",
       "\n",
       "                                     Review Descriptions  \n",
       "0      An affordable beast ! Pros: 1. Incredible perf...  \n",
       "1      Best laptop in this price segment.. battery is...  \n",
       "2      To be honest Pro's 1) RGB keyboard 2)144Hzs wi...  \n",
       "3      The Laptop is a masterpiece with stunnig desig...  \n",
       "4      Good laptop but customer care folks are real d...  \n",
       "...                                                  ...  \n",
       "30626                       Super it looks like Mac book  \n",
       "30627  It is very slim laptop with light weight..It's...  \n",
       "30628  Highly recommended.delivery was good,I got the...  \n",
       "30629  Product is awesome. Feel like a mac only touch...  \n",
       "30630  Has a premium design and built quality. Its a ...  \n",
       "\n",
       "[30631 rows x 3 columns]"
      ]
     },
     "execution_count": 5,
     "metadata": {},
     "output_type": "execute_result"
    }
   ],
   "source": [
    "#interpreting scraped data\n",
    "laptop_df_flipkart"
   ]
  },
  {
   "cell_type": "code",
   "execution_count": 56,
   "id": "14371958",
   "metadata": {},
   "outputs": [
    {
     "name": "stdout",
     "output_type": "stream",
     "text": [
      "Original Shape: (30631, 3)\n",
      "Total Number of Duplicated Rows: 17130\n",
      "New Shape: (13501, 3)\n"
     ]
    }
   ],
   "source": [
    "#copying scradped ratings & reviews to another dataframe object\n",
    "df1 = laptop_df_flipkart.copy()\n",
    "print(f\"Original Shape: {df1.shape}\")\n",
    "\n",
    "#checking for duplicate rows\n",
    "print(f\"Total Number of Duplicated Rows: {df1.duplicated().sum()}\")\n",
    "\n",
    "#removing duplicate rows\n",
    "df1.drop_duplicates(inplace=True)\n",
    "print(f\"New Shape: {df1.shape}\")"
   ]
  },
  {
   "cell_type": "code",
   "execution_count": 6,
   "id": "ac03b737",
   "metadata": {},
   "outputs": [],
   "source": [
    "#saving scraped data to csv file\n",
    "laptop_df_flipkart.to_csv('flipkart-ratings-reviews-laptop.csv')"
   ]
  },
  {
   "cell_type": "markdown",
   "id": "baaac2b9",
   "metadata": {},
   "source": [
    "## Scraping for ratings & reviews of `Phones` from Flipkart for 2000 records"
   ]
  },
  {
   "cell_type": "code",
   "execution_count": 7,
   "id": "6441b030",
   "metadata": {},
   "outputs": [
    {
     "name": "stdout",
     "output_type": "stream",
     "text": [
      "FoundURL: [756]"
     ]
    }
   ],
   "source": [
    "#start driver\n",
    "driver = start_driver()\n",
    "\n",
    "#initialize search box with phones\n",
    "init_flipkart('phones',driver)\n",
    "\n",
    "#fetch the all related product urls\n",
    "phone_urls = get_product_urls(driver)"
   ]
  },
  {
   "cell_type": "code",
   "execution_count": 8,
   "id": "78da8bf0",
   "metadata": {},
   "outputs": [
    {
     "data": {
      "application/vnd.jupyter.widget-view+json": {
       "model_id": "1c415e1fc36c45db9a7fd0576993f911",
       "version_major": 2,
       "version_minor": 0
      },
      "text/plain": [
       "Processing:   0%|          | 0/756 [00:00<?, ?it/s]"
      ]
     },
     "metadata": {},
     "output_type": "display_data"
    },
    {
     "name": "stdout",
     "output_type": "stream",
     "text": [
      "ScrapeLIMIT[2010/2000] :: URL: https://www.flipkart.com/realme-c12-power-silver-32-gb/p/itm4854d77becc77?pid=MOBFUEPQEEDFBHCE&lid=LSTMOBFUEPQEEDFBHCEUX6BAW&marketplace=FLIPKART&q=phones&store=tyy%2F4io&srno=s_1_1&otracker=search&otracker1=search&fm=SEARCH&iid=0332fdb1-0873-450e-a102-5acff127da7b.MOBFUEPQEEDFBHCE.SEARCH&ppt=hp&ppn=homepage&ssid=bpg9tjk6kg0000001624117051082&qH=28388ea49f54c5b8"
     ]
    }
   ],
   "source": [
    "#scrape the ratings & reviews from urls and store it as dataframe object\n",
    "phone_df_flipkart = get_rating_reviews(phone_urls,driver,limit=2000)"
   ]
  },
  {
   "cell_type": "code",
   "execution_count": 9,
   "id": "445df358",
   "metadata": {},
   "outputs": [
    {
     "data": {
      "text/html": [
       "<div>\n",
       "<style scoped>\n",
       "    .dataframe tbody tr th:only-of-type {\n",
       "        vertical-align: middle;\n",
       "    }\n",
       "\n",
       "    .dataframe tbody tr th {\n",
       "        vertical-align: top;\n",
       "    }\n",
       "\n",
       "    .dataframe thead th {\n",
       "        text-align: right;\n",
       "    }\n",
       "</style>\n",
       "<table border=\"1\" class=\"dataframe\">\n",
       "  <thead>\n",
       "    <tr style=\"text-align: right;\">\n",
       "      <th></th>\n",
       "      <th>Ratings</th>\n",
       "      <th>Review Titles</th>\n",
       "      <th>Review Descriptions</th>\n",
       "    </tr>\n",
       "  </thead>\n",
       "  <tbody>\n",
       "    <tr>\n",
       "      <th>0</th>\n",
       "      <td>5</td>\n",
       "      <td>Classy product</td>\n",
       "      <td>Very good mobile phone in this price range. It...</td>\n",
       "    </tr>\n",
       "    <tr>\n",
       "      <th>1</th>\n",
       "      <td>4</td>\n",
       "      <td>Pretty good</td>\n",
       "      <td>Uncompetitive battery power. Fine CAMERA but n...</td>\n",
       "    </tr>\n",
       "    <tr>\n",
       "      <th>2</th>\n",
       "      <td>5</td>\n",
       "      <td>Fabulous!</td>\n",
       "      <td>Very good mobile I am very happy, its camera i...</td>\n",
       "    </tr>\n",
       "    <tr>\n",
       "      <th>3</th>\n",
       "      <td>5</td>\n",
       "      <td>Terrific purchase</td>\n",
       "      <td>Very good budget phone , its good affordable s...</td>\n",
       "    </tr>\n",
       "    <tr>\n",
       "      <th>4</th>\n",
       "      <td>4</td>\n",
       "      <td>Wonderful</td>\n",
       "      <td>Bought it for my mom. She really likes it. The...</td>\n",
       "    </tr>\n",
       "    <tr>\n",
       "      <th>...</th>\n",
       "      <td>...</td>\n",
       "      <td>...</td>\n",
       "      <td>...</td>\n",
       "    </tr>\n",
       "    <tr>\n",
       "      <th>1995</th>\n",
       "      <td>5</td>\n",
       "      <td>Super!</td>\n",
       "      <td>Very nice</td>\n",
       "    </tr>\n",
       "    <tr>\n",
       "      <th>1996</th>\n",
       "      <td>5</td>\n",
       "      <td>Brilliant</td>\n",
       "      <td>Very very very very very good product ☺️☺️☺️☺️</td>\n",
       "    </tr>\n",
       "    <tr>\n",
       "      <th>1997</th>\n",
       "      <td>4</td>\n",
       "      <td>Good choice</td>\n",
       "      <td>Nice product</td>\n",
       "    </tr>\n",
       "    <tr>\n",
       "      <th>1998</th>\n",
       "      <td>5</td>\n",
       "      <td>Highly recommended</td>\n",
       "      <td>Very nice</td>\n",
       "    </tr>\n",
       "    <tr>\n",
       "      <th>1999</th>\n",
       "      <td>5</td>\n",
       "      <td>Must buy!</td>\n",
       "      <td>It's truly amazing....</td>\n",
       "    </tr>\n",
       "  </tbody>\n",
       "</table>\n",
       "<p>2000 rows × 3 columns</p>\n",
       "</div>"
      ],
      "text/plain": [
       "     Ratings       Review Titles  \\\n",
       "0          5      Classy product   \n",
       "1          4         Pretty good   \n",
       "2          5           Fabulous!   \n",
       "3          5   Terrific purchase   \n",
       "4          4           Wonderful   \n",
       "...      ...                 ...   \n",
       "1995       5              Super!   \n",
       "1996       5           Brilliant   \n",
       "1997       4         Good choice   \n",
       "1998       5  Highly recommended   \n",
       "1999       5           Must buy!   \n",
       "\n",
       "                                    Review Descriptions  \n",
       "0     Very good mobile phone in this price range. It...  \n",
       "1     Uncompetitive battery power. Fine CAMERA but n...  \n",
       "2     Very good mobile I am very happy, its camera i...  \n",
       "3     Very good budget phone , its good affordable s...  \n",
       "4     Bought it for my mom. She really likes it. The...  \n",
       "...                                                 ...  \n",
       "1995                                          Very nice  \n",
       "1996     Very very very very very good product ☺️☺️☺️☺️  \n",
       "1997                                       Nice product  \n",
       "1998                                          Very nice  \n",
       "1999                             It's truly amazing....  \n",
       "\n",
       "[2000 rows x 3 columns]"
      ]
     },
     "execution_count": 9,
     "metadata": {},
     "output_type": "execute_result"
    }
   ],
   "source": [
    "#interpreting scraped data\n",
    "phone_df_flipkart"
   ]
  },
  {
   "cell_type": "code",
   "execution_count": 58,
   "id": "30bc692a",
   "metadata": {},
   "outputs": [
    {
     "name": "stdout",
     "output_type": "stream",
     "text": [
      "Original Shape: (2000, 3)\n",
      "Total Number of Duplicated Rows: 345\n",
      "New Shape: (1655, 3)\n"
     ]
    }
   ],
   "source": [
    "#copying scradped ratings & reviews to another dataframe object\n",
    "df2 = phone_df_flipkart.copy()\n",
    "print(f\"Original Shape: {df2.shape}\")\n",
    "\n",
    "#checking for duplicate rows\n",
    "print(f\"Total Number of Duplicated Rows: {df2.duplicated().sum()}\")\n",
    "\n",
    "#removing duplicate rows\n",
    "df2.drop_duplicates(inplace=True)\n",
    "print(f\"New Shape: {df2.shape}\")"
   ]
  },
  {
   "cell_type": "code",
   "execution_count": 10,
   "id": "b9a3f816",
   "metadata": {},
   "outputs": [],
   "source": [
    "#saving scraped data to CSV file\n",
    "phone_df_flipkart.to_csv('flipkart-ratings-reviews-phones.csv')"
   ]
  },
  {
   "cell_type": "markdown",
   "id": "517d25ea",
   "metadata": {},
   "source": [
    "## Scraping for ratings & reviews of `Smart Watches` from Flipkart for 2000 records"
   ]
  },
  {
   "cell_type": "code",
   "execution_count": 11,
   "id": "ce4550ee",
   "metadata": {},
   "outputs": [
    {
     "name": "stdout",
     "output_type": "stream",
     "text": [
      "FoundURL: [540]"
     ]
    }
   ],
   "source": [
    "#start driver\n",
    "driver = start_driver()\n",
    "\n",
    "#initialize search box with phones\n",
    "init_flipkart('smart watches',driver)\n",
    "\n",
    "#fetch the all related product urls\n",
    "smart_watches_urls = get_product_urls(driver)"
   ]
  },
  {
   "cell_type": "code",
   "execution_count": 12,
   "id": "b3fca725",
   "metadata": {
    "scrolled": true
   },
   "outputs": [
    {
     "data": {
      "application/vnd.jupyter.widget-view+json": {
       "model_id": "46d37946d2b246d5b4fc297dd19f63d7",
       "version_major": 2,
       "version_minor": 0
      },
      "text/plain": [
       "Processing:   0%|          | 0/540 [00:00<?, ?it/s]"
      ]
     },
     "metadata": {},
     "output_type": "display_data"
    },
    {
     "name": "stdout",
     "output_type": "stream",
     "text": [
      "ScrapeLIMIT[2010/2000] :: URL: https://www.flipkart.com/cyxus-4g-mobile-watch-smartwatch/p/itm60624e699bc90?pid=SMWFGA23VTRCYTK5&lid=LSTSMWFGA23VTRCYTK5WDNI2C&marketplace=FLIPKART&q=smart+watches&store=ajy%2Fbuh&srno=s_3_49&otracker=search&otracker1=search&fm=SEARCH&iid=da4af797-667e-4727-bdd3-c2c5d18089b8.SMWFGA23VTRCYTK5.SEARCH&ppt=sp&ppn=sp&ssid=2wrxl0oq1s0000001624118086247&qH=87968ec020b2016bn=sp&ssid=2wrxl0oq1s0000001624118086247&qH=87968ec020b2016b6247&qH=87968ec020b2016b"
     ]
    }
   ],
   "source": [
    "#scrape the ratings & reviews from urls and store it as dataframe object\n",
    "smart_watches_df_flipkart = get_rating_reviews(smart_watches_urls,driver,limit=2000)"
   ]
  },
  {
   "cell_type": "code",
   "execution_count": 13,
   "id": "3636263d",
   "metadata": {},
   "outputs": [
    {
     "data": {
      "text/html": [
       "<div>\n",
       "<style scoped>\n",
       "    .dataframe tbody tr th:only-of-type {\n",
       "        vertical-align: middle;\n",
       "    }\n",
       "\n",
       "    .dataframe tbody tr th {\n",
       "        vertical-align: top;\n",
       "    }\n",
       "\n",
       "    .dataframe thead th {\n",
       "        text-align: right;\n",
       "    }\n",
       "</style>\n",
       "<table border=\"1\" class=\"dataframe\">\n",
       "  <thead>\n",
       "    <tr style=\"text-align: right;\">\n",
       "      <th></th>\n",
       "      <th>Ratings</th>\n",
       "      <th>Review Titles</th>\n",
       "      <th>Review Descriptions</th>\n",
       "    </tr>\n",
       "  </thead>\n",
       "  <tbody>\n",
       "    <tr>\n",
       "      <th>0</th>\n",
       "      <td>1</td>\n",
       "      <td>Utterly Disappointed</td>\n",
       "      <td>battery issue...</td>\n",
       "    </tr>\n",
       "    <tr>\n",
       "      <th>1</th>\n",
       "      <td>5</td>\n",
       "      <td>The badass watch</td>\n",
       "      <td>Everything is gud, but battery draining is qui...</td>\n",
       "    </tr>\n",
       "    <tr>\n",
       "      <th>2</th>\n",
       "      <td>1</td>\n",
       "      <td>Useless product</td>\n",
       "      <td>bad</td>\n",
       "    </tr>\n",
       "    <tr>\n",
       "      <th>3</th>\n",
       "      <td>1</td>\n",
       "      <td>Worthless</td>\n",
       "      <td>Very bad and nasty product</td>\n",
       "    </tr>\n",
       "    <tr>\n",
       "      <th>4</th>\n",
       "      <td>5</td>\n",
       "      <td>Great product</td>\n",
       "      <td>nice watch it is so good all I have to buy thi...</td>\n",
       "    </tr>\n",
       "    <tr>\n",
       "      <th>...</th>\n",
       "      <td>...</td>\n",
       "      <td>...</td>\n",
       "      <td>...</td>\n",
       "    </tr>\n",
       "    <tr>\n",
       "      <th>1995</th>\n",
       "      <td>1</td>\n",
       "      <td>Useless product</td>\n",
       "      <td>very bad product not buy this product</td>\n",
       "    </tr>\n",
       "    <tr>\n",
       "      <th>1996</th>\n",
       "      <td>1</td>\n",
       "      <td>Not recommended at all</td>\n",
       "      <td>very bad ....unsatisfied</td>\n",
       "    </tr>\n",
       "    <tr>\n",
       "      <th>1997</th>\n",
       "      <td>5</td>\n",
       "      <td>Best in the market!</td>\n",
       "      <td>watch is very good.</td>\n",
       "    </tr>\n",
       "    <tr>\n",
       "      <th>1998</th>\n",
       "      <td>5</td>\n",
       "      <td>Simply awesome</td>\n",
       "      <td>Best smart watch</td>\n",
       "    </tr>\n",
       "    <tr>\n",
       "      <th>1999</th>\n",
       "      <td>5</td>\n",
       "      <td>Awesome</td>\n",
       "      <td>This product is so must better</td>\n",
       "    </tr>\n",
       "  </tbody>\n",
       "</table>\n",
       "<p>2000 rows × 3 columns</p>\n",
       "</div>"
      ],
      "text/plain": [
       "     Ratings           Review Titles  \\\n",
       "0          1    Utterly Disappointed   \n",
       "1          5        The badass watch   \n",
       "2          1         Useless product   \n",
       "3          1               Worthless   \n",
       "4          5           Great product   \n",
       "...      ...                     ...   \n",
       "1995       1         Useless product   \n",
       "1996       1  Not recommended at all   \n",
       "1997       5     Best in the market!   \n",
       "1998       5          Simply awesome   \n",
       "1999       5                 Awesome   \n",
       "\n",
       "                                    Review Descriptions  \n",
       "0                                      battery issue...  \n",
       "1     Everything is gud, but battery draining is qui...  \n",
       "2                                                   bad  \n",
       "3                            Very bad and nasty product  \n",
       "4     nice watch it is so good all I have to buy thi...  \n",
       "...                                                 ...  \n",
       "1995              very bad product not buy this product  \n",
       "1996                           very bad ....unsatisfied  \n",
       "1997                                watch is very good.  \n",
       "1998                                   Best smart watch  \n",
       "1999                     This product is so must better  \n",
       "\n",
       "[2000 rows x 3 columns]"
      ]
     },
     "execution_count": 13,
     "metadata": {},
     "output_type": "execute_result"
    }
   ],
   "source": [
    "#interpreting scraped data\n",
    "smart_watches_df_flipkart"
   ]
  },
  {
   "cell_type": "code",
   "execution_count": 59,
   "id": "4dcda702",
   "metadata": {},
   "outputs": [
    {
     "name": "stdout",
     "output_type": "stream",
     "text": [
      "Original Shape: (2000, 3)\n",
      "Total Number of Duplicated Rows: 565\n",
      "New Shape: (1435, 3)\n"
     ]
    }
   ],
   "source": [
    "#copying scradped ratings & reviews to another dataframe object\n",
    "df3 = smart_watches_df_flipkart.copy()\n",
    "print(f\"Original Shape: {df3.shape}\")\n",
    "\n",
    "#checking for duplicate rows\n",
    "print(f\"Total Number of Duplicated Rows: {df3.duplicated().sum()}\")\n",
    "\n",
    "#removing duplicate rows\n",
    "df3.drop_duplicates(inplace=True)\n",
    "print(f\"New Shape: {df3.shape}\")"
   ]
  },
  {
   "cell_type": "code",
   "execution_count": 14,
   "id": "c543bb81",
   "metadata": {},
   "outputs": [],
   "source": [
    "#saving scraped to csv file\n",
    "smart_watches_df_flipkart.to_csv('flipkart-ratings-reviews-smart-watches.csv')"
   ]
  },
  {
   "cell_type": "markdown",
   "id": "71e19474",
   "metadata": {},
   "source": [
    "## Scraping for ratings & reviews of `Camera` from Flipkart for 2000 records"
   ]
  },
  {
   "cell_type": "code",
   "execution_count": 15,
   "id": "830392ed",
   "metadata": {
    "scrolled": true
   },
   "outputs": [
    {
     "name": "stdout",
     "output_type": "stream",
     "text": [
      "FoundURL: [642]"
     ]
    }
   ],
   "source": [
    "#start driver\n",
    "driver = start_driver()\n",
    "\n",
    "#initialize search box with phones\n",
    "init_flipkart('camera',driver)\n",
    "\n",
    "#fetch the all related product urls\n",
    "camera_urls = get_product_urls(driver)"
   ]
  },
  {
   "cell_type": "code",
   "execution_count": 16,
   "id": "338228ee",
   "metadata": {},
   "outputs": [
    {
     "data": {
      "application/vnd.jupyter.widget-view+json": {
       "model_id": "fc513c7f1b464c378a110a83f0fd5226",
       "version_major": 2,
       "version_minor": 0
      },
      "text/plain": [
       "Processing:   0%|          | 0/642 [00:00<?, ?it/s]"
      ]
     },
     "metadata": {},
     "output_type": "display_data"
    },
    {
     "name": "stdout",
     "output_type": "stream",
     "text": [
      "ScrapeLIMIT[2004/2000] :: URL: https://www.flipkart.com/sony-cybershot-dsc-w800-bc-in5/p/itme8g8yfydrnwwv?pid=CAMDVGUGHKXNHYXB&lid=LSTCAMDVGUGHKXNHYXBG3GONO&marketplace=FLIPKART&q=camera&store=jek%2Fp31&srno=s_1_9&otracker=search&otracker1=search&fm=SEARCH&iid=cd33bcc5-ebda-412c-9f89-a1477c4fcca9.CAMDVGUGHKXNHYXB.SEARCH&ppt=hp&ppn=homepage&ssid=uudlsc7r400000001624119270093&qH=dd6d2dcc679d12b9ppn=homepage&ssid=uudlsc7r400000001624119270093&qH=dd6d2dcc679d12b90001624119270093&qH=dd6d2dcc679d12b9"
     ]
    }
   ],
   "source": [
    "#scrape the ratings & reviews from urls and store it as dataframe object\n",
    "camera_df_flipkart = get_rating_reviews(camera_urls,driver,limit=2000)"
   ]
  },
  {
   "cell_type": "code",
   "execution_count": 17,
   "id": "351441b5",
   "metadata": {},
   "outputs": [
    {
     "data": {
      "text/html": [
       "<div>\n",
       "<style scoped>\n",
       "    .dataframe tbody tr th:only-of-type {\n",
       "        vertical-align: middle;\n",
       "    }\n",
       "\n",
       "    .dataframe tbody tr th {\n",
       "        vertical-align: top;\n",
       "    }\n",
       "\n",
       "    .dataframe thead th {\n",
       "        text-align: right;\n",
       "    }\n",
       "</style>\n",
       "<table border=\"1\" class=\"dataframe\">\n",
       "  <thead>\n",
       "    <tr style=\"text-align: right;\">\n",
       "      <th></th>\n",
       "      <th>Ratings</th>\n",
       "      <th>Review Titles</th>\n",
       "      <th>Review Descriptions</th>\n",
       "    </tr>\n",
       "  </thead>\n",
       "  <tbody>\n",
       "    <tr>\n",
       "      <th>0</th>\n",
       "      <td>3</td>\n",
       "      <td>Does the job</td>\n",
       "      <td>Satisfied with the product.. Its a really good...</td>\n",
       "    </tr>\n",
       "    <tr>\n",
       "      <th>1</th>\n",
       "      <td>5</td>\n",
       "      <td>Excellent</td>\n",
       "      <td>product really great . I am totally sctified t...</td>\n",
       "    </tr>\n",
       "    <tr>\n",
       "      <th>2</th>\n",
       "      <td>4</td>\n",
       "      <td>Worth the money</td>\n",
       "      <td>The camera simply awesome..and it is a best bu...</td>\n",
       "    </tr>\n",
       "    <tr>\n",
       "      <th>3</th>\n",
       "      <td></td>\n",
       "      <td></td>\n",
       "      <td></td>\n",
       "    </tr>\n",
       "    <tr>\n",
       "      <th>4</th>\n",
       "      <td></td>\n",
       "      <td></td>\n",
       "      <td></td>\n",
       "    </tr>\n",
       "    <tr>\n",
       "      <th>...</th>\n",
       "      <td>...</td>\n",
       "      <td>...</td>\n",
       "      <td>...</td>\n",
       "    </tr>\n",
       "    <tr>\n",
       "      <th>1995</th>\n",
       "      <td>5</td>\n",
       "      <td>Awesome</td>\n",
       "      <td>great cam.</td>\n",
       "    </tr>\n",
       "    <tr>\n",
       "      <th>1996</th>\n",
       "      <td>5</td>\n",
       "      <td>Must buy!</td>\n",
       "      <td>very nice product</td>\n",
       "    </tr>\n",
       "    <tr>\n",
       "      <th>1997</th>\n",
       "      <td>3</td>\n",
       "      <td>Nice</td>\n",
       "      <td>Much Better</td>\n",
       "    </tr>\n",
       "    <tr>\n",
       "      <th>1998</th>\n",
       "      <td>5</td>\n",
       "      <td>Wonderful</td>\n",
       "      <td>nice</td>\n",
       "    </tr>\n",
       "    <tr>\n",
       "      <th>1999</th>\n",
       "      <td>5</td>\n",
       "      <td>Just wow!</td>\n",
       "      <td>best camera</td>\n",
       "    </tr>\n",
       "  </tbody>\n",
       "</table>\n",
       "<p>2000 rows × 3 columns</p>\n",
       "</div>"
      ],
      "text/plain": [
       "     Ratings    Review Titles  \\\n",
       "0          3     Does the job   \n",
       "1          5        Excellent   \n",
       "2          4  Worth the money   \n",
       "3                               \n",
       "4                               \n",
       "...      ...              ...   \n",
       "1995       5          Awesome   \n",
       "1996       5        Must buy!   \n",
       "1997       3             Nice   \n",
       "1998       5        Wonderful   \n",
       "1999       5        Just wow!   \n",
       "\n",
       "                                    Review Descriptions  \n",
       "0     Satisfied with the product.. Its a really good...  \n",
       "1     product really great . I am totally sctified t...  \n",
       "2     The camera simply awesome..and it is a best bu...  \n",
       "3                                                        \n",
       "4                                                        \n",
       "...                                                 ...  \n",
       "1995                                         great cam.  \n",
       "1996                                  very nice product  \n",
       "1997                                        Much Better  \n",
       "1998                                               nice  \n",
       "1999                                        best camera  \n",
       "\n",
       "[2000 rows x 3 columns]"
      ]
     },
     "execution_count": 17,
     "metadata": {},
     "output_type": "execute_result"
    }
   ],
   "source": [
    "#interpreting scraped data\n",
    "camera_df_flipkart"
   ]
  },
  {
   "cell_type": "code",
   "execution_count": 60,
   "id": "42077019",
   "metadata": {},
   "outputs": [
    {
     "name": "stdout",
     "output_type": "stream",
     "text": [
      "Original Shape: (2000, 3)\n",
      "Total Number of Duplicated Rows: 709\n",
      "New Shape: (1291, 3)\n"
     ]
    }
   ],
   "source": [
    "#copying scradped ratings & reviews to another dataframe object\n",
    "df4 = camera_df_flipkart.copy()\n",
    "print(f\"Original Shape: {df4.shape}\")\n",
    "\n",
    "#checking for duplicate rows\n",
    "print(f\"Total Number of Duplicated Rows: {df4.duplicated().sum()}\")\n",
    "\n",
    "#removing duplicate rows\n",
    "df4.drop_duplicates(inplace=True)\n",
    "print(f\"New Shape: {df4.shape}\")"
   ]
  },
  {
   "cell_type": "code",
   "execution_count": 18,
   "id": "a5b18305",
   "metadata": {},
   "outputs": [],
   "source": [
    "#saving scraped to csv file\n",
    "camera_df_flipkart.to_csv('flipkart-ratings-reviews-cameras.csv')"
   ]
  },
  {
   "cell_type": "markdown",
   "id": "1bcfc53b",
   "metadata": {},
   "source": [
    "## Scraping for ratings & reviews of `Monitors` from Flipkart for 2000 records"
   ]
  },
  {
   "cell_type": "code",
   "execution_count": 19,
   "id": "0c71244c",
   "metadata": {},
   "outputs": [
    {
     "name": "stdout",
     "output_type": "stream",
     "text": [
      "FoundURL: [273]"
     ]
    }
   ],
   "source": [
    "#start driver\n",
    "driver = start_driver()\n",
    "\n",
    "#initialize search box with phones\n",
    "init_flipkart('monitors',driver)\n",
    "\n",
    "#fetch the all related product urls\n",
    "monitors_urls = get_product_urls(driver)"
   ]
  },
  {
   "cell_type": "code",
   "execution_count": 20,
   "id": "7e448089",
   "metadata": {},
   "outputs": [
    {
     "data": {
      "application/vnd.jupyter.widget-view+json": {
       "model_id": "44d666849f5540bfbe2ffdbc938711d7",
       "version_major": 2,
       "version_minor": 0
      },
      "text/plain": [
       "Processing:   0%|          | 0/273 [00:00<?, ?it/s]"
      ]
     },
     "metadata": {},
     "output_type": "display_data"
    },
    {
     "name": "stdout",
     "output_type": "stream",
     "text": [
      "ScrapeLIMIT[2003/2000] :: URL: https://www.flipkart.com/lg-22-inch-full-hd-led-backlit-ips-panel-monitor-22mp68vq/p/itmety6nszghmbp4?pid=MONETY6MQUBYPSZC&lid=LSTMONETY6MQUBYPSZCQE1PSV&marketplace=FLIPKART&q=monitors&store=6bo%2Fg0i%2F9no&srno=s_1_10&otracker=search&otracker1=search&fm=SEARCH&iid=37beea04-5835-4525-b3a2-7a6b7ba255d2.MONETY6MQUBYPSZC.SEARCH&ppt=hp&ppn=homepage&ssid=v2h3zctq9s0000001624120260240&qH=4cbba110d06cbe92=4cbba110d06cbe92d06cbe92"
     ]
    }
   ],
   "source": [
    "#scrape the ratings & reviews from urls and store it as dataframe object\n",
    "monitors_df_flipkart = get_rating_reviews(monitors_urls,driver,limit=2000)"
   ]
  },
  {
   "cell_type": "code",
   "execution_count": 21,
   "id": "40395640",
   "metadata": {},
   "outputs": [
    {
     "data": {
      "text/html": [
       "<div>\n",
       "<style scoped>\n",
       "    .dataframe tbody tr th:only-of-type {\n",
       "        vertical-align: middle;\n",
       "    }\n",
       "\n",
       "    .dataframe tbody tr th {\n",
       "        vertical-align: top;\n",
       "    }\n",
       "\n",
       "    .dataframe thead th {\n",
       "        text-align: right;\n",
       "    }\n",
       "</style>\n",
       "<table border=\"1\" class=\"dataframe\">\n",
       "  <thead>\n",
       "    <tr style=\"text-align: right;\">\n",
       "      <th></th>\n",
       "      <th>Ratings</th>\n",
       "      <th>Review Titles</th>\n",
       "      <th>Review Descriptions</th>\n",
       "    </tr>\n",
       "  </thead>\n",
       "  <tbody>\n",
       "    <tr>\n",
       "      <th>0</th>\n",
       "      <td>4</td>\n",
       "      <td>Value-for-money</td>\n",
       "      <td>4.5/5  Wow.. what a nice product I ❤️ it. SCRE...</td>\n",
       "    </tr>\n",
       "    <tr>\n",
       "      <th>1</th>\n",
       "      <td>4</td>\n",
       "      <td>Good choice</td>\n",
       "      <td>Very Good Product. Good Packaging. The Dell qu...</td>\n",
       "    </tr>\n",
       "    <tr>\n",
       "      <th>2</th>\n",
       "      <td>5</td>\n",
       "      <td>Great product</td>\n",
       "      <td>Great product from Dell . It's budget friendly...</td>\n",
       "    </tr>\n",
       "    <tr>\n",
       "      <th>3</th>\n",
       "      <td>5</td>\n",
       "      <td>Must buy!</td>\n",
       "      <td>Good product by Dell and Flipkart. It has both...</td>\n",
       "    </tr>\n",
       "    <tr>\n",
       "      <th>4</th>\n",
       "      <td>4</td>\n",
       "      <td>Wonderful</td>\n",
       "      <td>Its a very good product... Good build quality....</td>\n",
       "    </tr>\n",
       "    <tr>\n",
       "      <th>...</th>\n",
       "      <td>...</td>\n",
       "      <td>...</td>\n",
       "      <td>...</td>\n",
       "    </tr>\n",
       "    <tr>\n",
       "      <th>1995</th>\n",
       "      <td>4</td>\n",
       "      <td>Really Nice</td>\n",
       "      <td>Good Product But on Big Screen Picture quality...</td>\n",
       "    </tr>\n",
       "    <tr>\n",
       "      <th>1996</th>\n",
       "      <td>4</td>\n",
       "      <td>Very Good</td>\n",
       "      <td>best paking box</td>\n",
       "    </tr>\n",
       "    <tr>\n",
       "      <th>1997</th>\n",
       "      <td>5</td>\n",
       "      <td>Highly recommended</td>\n",
       "      <td>great experience.. works fine</td>\n",
       "    </tr>\n",
       "    <tr>\n",
       "      <th>1998</th>\n",
       "      <td>5</td>\n",
       "      <td>Classy product</td>\n",
       "      <td>super display quality</td>\n",
       "    </tr>\n",
       "    <tr>\n",
       "      <th>1999</th>\n",
       "      <td>5</td>\n",
       "      <td>Classy product</td>\n",
       "      <td>awesome. monitor under rs 10,000. Very good co...</td>\n",
       "    </tr>\n",
       "  </tbody>\n",
       "</table>\n",
       "<p>2000 rows × 3 columns</p>\n",
       "</div>"
      ],
      "text/plain": [
       "     Ratings       Review Titles  \\\n",
       "0          4     Value-for-money   \n",
       "1          4         Good choice   \n",
       "2          5       Great product   \n",
       "3          5           Must buy!   \n",
       "4          4           Wonderful   \n",
       "...      ...                 ...   \n",
       "1995       4         Really Nice   \n",
       "1996       4           Very Good   \n",
       "1997       5  Highly recommended   \n",
       "1998       5      Classy product   \n",
       "1999       5      Classy product   \n",
       "\n",
       "                                    Review Descriptions  \n",
       "0     4.5/5  Wow.. what a nice product I ❤️ it. SCRE...  \n",
       "1     Very Good Product. Good Packaging. The Dell qu...  \n",
       "2     Great product from Dell . It's budget friendly...  \n",
       "3     Good product by Dell and Flipkart. It has both...  \n",
       "4     Its a very good product... Good build quality....  \n",
       "...                                                 ...  \n",
       "1995  Good Product But on Big Screen Picture quality...  \n",
       "1996                                    best paking box  \n",
       "1997                      great experience.. works fine  \n",
       "1998                              super display quality  \n",
       "1999  awesome. monitor under rs 10,000. Very good co...  \n",
       "\n",
       "[2000 rows x 3 columns]"
      ]
     },
     "execution_count": 21,
     "metadata": {},
     "output_type": "execute_result"
    }
   ],
   "source": [
    "#interpreting scraped data\n",
    "monitors_df_flipkart"
   ]
  },
  {
   "cell_type": "code",
   "execution_count": 61,
   "id": "797d14fa",
   "metadata": {},
   "outputs": [
    {
     "name": "stdout",
     "output_type": "stream",
     "text": [
      "Original Shape: (2000, 3)\n",
      "Total Number of Duplicated Rows: 400\n",
      "New Shape: (1600, 3)\n"
     ]
    }
   ],
   "source": [
    "#copying scradped ratings & reviews to another dataframe object\n",
    "df5 = monitors_df_flipkart.copy()\n",
    "print(f\"Original Shape: {df5.shape}\")\n",
    "\n",
    "#checking for duplicate rows\n",
    "print(f\"Total Number of Duplicated Rows: {df5.duplicated().sum()}\")\n",
    "\n",
    "#removing duplicate rows\n",
    "df5.drop_duplicates(inplace=True)\n",
    "print(f\"New Shape: {df5.shape}\")"
   ]
  },
  {
   "cell_type": "code",
   "execution_count": 22,
   "id": "a2783bf0",
   "metadata": {},
   "outputs": [],
   "source": [
    "#saving scraped to csv file\n",
    "monitors_df_flipkart.to_csv('flipkart-ratings-reviews-monitors.csv')"
   ]
  },
  {
   "cell_type": "markdown",
   "id": "26dca906",
   "metadata": {},
   "source": [
    "## Scraping for ratings & reviews of `Routers` from Flipkart for 2000 records"
   ]
  },
  {
   "cell_type": "code",
   "execution_count": 23,
   "id": "ce5306e9",
   "metadata": {},
   "outputs": [
    {
     "name": "stdout",
     "output_type": "stream",
     "text": [
      "FoundURL: [393]"
     ]
    }
   ],
   "source": [
    "#start driver\n",
    "driver = start_driver()\n",
    "\n",
    "#initialize search box with phones\n",
    "init_flipkart('routers',driver)\n",
    "\n",
    "#fetch the all related product urls\n",
    "routers_urls = get_product_urls(driver)"
   ]
  },
  {
   "cell_type": "code",
   "execution_count": 24,
   "id": "11bcd454",
   "metadata": {},
   "outputs": [
    {
     "data": {
      "application/vnd.jupyter.widget-view+json": {
       "model_id": "d6b4a6c8e0d2444eb2f568691d4ea4d4",
       "version_major": 2,
       "version_minor": 0
      },
      "text/plain": [
       "Processing:   0%|          | 0/393 [00:00<?, ?it/s]"
      ]
     },
     "metadata": {},
     "output_type": "display_data"
    },
    {
     "name": "stdout",
     "output_type": "stream",
     "text": [
      "ScrapeLIMIT[2004/2000] :: URL: https://www.flipkart.com/d-link-dir-615-wireless-n-300-router/p/itme3xwg9x9jgsyh?pid=RTRE3XW76EHCJUGH&lid=LSTRTRE3XW76EHCJUGHL3JOYL&marketplace=FLIPKART&q=routers&store=6bo%2F2a2&spotlightTagId=BestvalueId_6bo%2F2a2&srno=s_1_12&otracker=search&otracker1=search&fm=SEARCH&iid=14dda5da-bbf5-4ba2-9216-d7b62ff25ac6.RTRE3XW76EHCJUGH.SEARCH&ppt=hp&ppn=homepage&ssid=gxa7ihwuv40000001624121219189&qH=d7d0ec8a06768096ppn=homepage&ssid=gxa7ihwuv40000001624121219189&qH=d7d0ec8a06768096"
     ]
    }
   ],
   "source": [
    "#scrape the ratings & reviews from urls and store it as dataframe object\n",
    "routers_df_flipkart = get_rating_reviews(routers_urls,driver,limit=2000)"
   ]
  },
  {
   "cell_type": "code",
   "execution_count": 25,
   "id": "dd7d6cd7",
   "metadata": {},
   "outputs": [
    {
     "data": {
      "text/html": [
       "<div>\n",
       "<style scoped>\n",
       "    .dataframe tbody tr th:only-of-type {\n",
       "        vertical-align: middle;\n",
       "    }\n",
       "\n",
       "    .dataframe tbody tr th {\n",
       "        vertical-align: top;\n",
       "    }\n",
       "\n",
       "    .dataframe thead th {\n",
       "        text-align: right;\n",
       "    }\n",
       "</style>\n",
       "<table border=\"1\" class=\"dataframe\">\n",
       "  <thead>\n",
       "    <tr style=\"text-align: right;\">\n",
       "      <th></th>\n",
       "      <th>Ratings</th>\n",
       "      <th>Review Titles</th>\n",
       "      <th>Review Descriptions</th>\n",
       "    </tr>\n",
       "  </thead>\n",
       "  <tbody>\n",
       "    <tr>\n",
       "      <th>0</th>\n",
       "      <td>5</td>\n",
       "      <td>Worth every penny</td>\n",
       "      <td>This is the best WiFi router in this price ran...</td>\n",
       "    </tr>\n",
       "    <tr>\n",
       "      <th>1</th>\n",
       "      <td>5</td>\n",
       "      <td>Wonderful</td>\n",
       "      <td>Just fabulous performance, i am very glad to c...</td>\n",
       "    </tr>\n",
       "    <tr>\n",
       "      <th>2</th>\n",
       "      <td>5</td>\n",
       "      <td>Got a good router after doing a lot of research!</td>\n",
       "      <td>If you want a router for medium sized Flat/hom...</td>\n",
       "    </tr>\n",
       "    <tr>\n",
       "      <th>3</th>\n",
       "      <td></td>\n",
       "      <td></td>\n",
       "      <td></td>\n",
       "    </tr>\n",
       "    <tr>\n",
       "      <th>4</th>\n",
       "      <td></td>\n",
       "      <td></td>\n",
       "      <td></td>\n",
       "    </tr>\n",
       "    <tr>\n",
       "      <th>...</th>\n",
       "      <td>...</td>\n",
       "      <td>...</td>\n",
       "      <td>...</td>\n",
       "    </tr>\n",
       "    <tr>\n",
       "      <th>1995</th>\n",
       "      <td>5</td>\n",
       "      <td>Brilliant</td>\n",
       "      <td>Supar</td>\n",
       "    </tr>\n",
       "    <tr>\n",
       "      <th>1996</th>\n",
       "      <td>1</td>\n",
       "      <td>Worst experience ever!</td>\n",
       "      <td>Poor</td>\n",
       "    </tr>\n",
       "    <tr>\n",
       "      <th>1997</th>\n",
       "      <td>4</td>\n",
       "      <td>Nice product</td>\n",
       "      <td>Working well</td>\n",
       "    </tr>\n",
       "    <tr>\n",
       "      <th>1998</th>\n",
       "      <td>1</td>\n",
       "      <td>Absolute rubbish!</td>\n",
       "      <td>Not working</td>\n",
       "    </tr>\n",
       "    <tr>\n",
       "      <th>1999</th>\n",
       "      <td>3</td>\n",
       "      <td>Decent product</td>\n",
       "      <td>Excellent</td>\n",
       "    </tr>\n",
       "  </tbody>\n",
       "</table>\n",
       "<p>2000 rows × 3 columns</p>\n",
       "</div>"
      ],
      "text/plain": [
       "     Ratings                                     Review Titles  \\\n",
       "0          5                                 Worth every penny   \n",
       "1          5                                         Wonderful   \n",
       "2          5  Got a good router after doing a lot of research!   \n",
       "3                                                                \n",
       "4                                                                \n",
       "...      ...                                               ...   \n",
       "1995       5                                         Brilliant   \n",
       "1996       1                            Worst experience ever!   \n",
       "1997       4                                      Nice product   \n",
       "1998       1                                 Absolute rubbish!   \n",
       "1999       3                                    Decent product   \n",
       "\n",
       "                                    Review Descriptions  \n",
       "0     This is the best WiFi router in this price ran...  \n",
       "1     Just fabulous performance, i am very glad to c...  \n",
       "2     If you want a router for medium sized Flat/hom...  \n",
       "3                                                        \n",
       "4                                                        \n",
       "...                                                 ...  \n",
       "1995                                              Supar  \n",
       "1996                                               Poor  \n",
       "1997                                       Working well  \n",
       "1998                                        Not working  \n",
       "1999                                          Excellent  \n",
       "\n",
       "[2000 rows x 3 columns]"
      ]
     },
     "execution_count": 25,
     "metadata": {},
     "output_type": "execute_result"
    }
   ],
   "source": [
    "#interpreting scraped data\n",
    "routers_df_flipkart"
   ]
  },
  {
   "cell_type": "code",
   "execution_count": 62,
   "id": "6992d308",
   "metadata": {},
   "outputs": [
    {
     "name": "stdout",
     "output_type": "stream",
     "text": [
      "Original Shape: (2000, 3)\n",
      "Total Number of Duplicated Rows: 291\n",
      "New Shape: (1709, 3)\n"
     ]
    }
   ],
   "source": [
    "#copying scradped ratings & reviews to another dataframe object\n",
    "df6 = routers_df_flipkart.copy()\n",
    "print(f\"Original Shape: {df6.shape}\")\n",
    "\n",
    "#checking for duplicate rows\n",
    "print(f\"Total Number of Duplicated Rows: {df6.duplicated().sum()}\")\n",
    "\n",
    "#removing duplicate rows\n",
    "df6.drop_duplicates(inplace=True)\n",
    "print(f\"New Shape: {df6.shape}\")"
   ]
  },
  {
   "cell_type": "code",
   "execution_count": 26,
   "id": "f7a1eeba",
   "metadata": {},
   "outputs": [],
   "source": [
    "#saving scraped to csv file\n",
    "routers_df_flipkart.to_csv('flipkart-ratings-reviews-routers.csv')"
   ]
  },
  {
   "cell_type": "markdown",
   "id": "a8a6fd71",
   "metadata": {},
   "source": [
    "## Scraping for ratings & reviews of `Home Theaters` from Flipkart for 2000 records"
   ]
  },
  {
   "cell_type": "code",
   "execution_count": 27,
   "id": "a2177ab6",
   "metadata": {},
   "outputs": [
    {
     "name": "stdout",
     "output_type": "stream",
     "text": [
      "FoundURL: [1678]"
     ]
    }
   ],
   "source": [
    "#start driver\n",
    "driver = start_driver()\n",
    "\n",
    "#initialize search box with phones\n",
    "init_flipkart('home theaters',driver)\n",
    "\n",
    "#fetch the all related product urls\n",
    "home_theaters_urls = get_product_urls(driver)"
   ]
  },
  {
   "cell_type": "code",
   "execution_count": 28,
   "id": "4bd1e60e",
   "metadata": {},
   "outputs": [
    {
     "data": {
      "application/vnd.jupyter.widget-view+json": {
       "model_id": "4ef6e1e816424756be6d2a311912feea",
       "version_major": 2,
       "version_minor": 0
      },
      "text/plain": [
       "Processing:   0%|          | 0/1678 [00:00<?, ?it/s]"
      ]
     },
     "metadata": {},
     "output_type": "display_data"
    },
    {
     "name": "stdout",
     "output_type": "stream",
     "text": [
      "ScrapeLIMIT[2010/2000] :: URL: https://www.flipkart.com/philips-spa8000b-94-120-w-bluetooth-home-theatre/p/itm86811e098cacd?pid=ACCEK4CAZHWWGJRS&lid=LSTACCEK4CAZHWWGJRSM8RXQC&marketplace=FLIPKART&q=home+theaters&store=0pm%2F0o7&srno=s_1_11&otracker=search&otracker1=search&fm=SEARCH&iid=c1e1015e-9211-426a-945a-9aeb12e77fe4.ACCEK4CAZHWWGJRS.SEARCH&ppt=hp&ppn=homepage&ssid=ruewt9yx740000001624122229141&qH=4c0b754589c1684a1684a"
     ]
    }
   ],
   "source": [
    "#scrape the ratings & reviews from urls and store it as dataframe object\n",
    "home_theaters_df_flipkart = get_rating_reviews(home_theaters_urls,driver,limit=2000)"
   ]
  },
  {
   "cell_type": "code",
   "execution_count": 29,
   "id": "baf463af",
   "metadata": {},
   "outputs": [
    {
     "data": {
      "text/html": [
       "<div>\n",
       "<style scoped>\n",
       "    .dataframe tbody tr th:only-of-type {\n",
       "        vertical-align: middle;\n",
       "    }\n",
       "\n",
       "    .dataframe tbody tr th {\n",
       "        vertical-align: top;\n",
       "    }\n",
       "\n",
       "    .dataframe thead th {\n",
       "        text-align: right;\n",
       "    }\n",
       "</style>\n",
       "<table border=\"1\" class=\"dataframe\">\n",
       "  <thead>\n",
       "    <tr style=\"text-align: right;\">\n",
       "      <th></th>\n",
       "      <th>Ratings</th>\n",
       "      <th>Review Titles</th>\n",
       "      <th>Review Descriptions</th>\n",
       "    </tr>\n",
       "  </thead>\n",
       "  <tbody>\n",
       "    <tr>\n",
       "      <th>0</th>\n",
       "      <td>5</td>\n",
       "      <td>Wonderful</td>\n",
       "      <td>Excellent product in budget .i m loving it.i p...</td>\n",
       "    </tr>\n",
       "    <tr>\n",
       "      <th>1</th>\n",
       "      <td>5</td>\n",
       "      <td>Terrific purchase</td>\n",
       "      <td>Nice product. Bluetooth connectivity are very ...</td>\n",
       "    </tr>\n",
       "    <tr>\n",
       "      <th>2</th>\n",
       "      <td>4</td>\n",
       "      <td>Delightful</td>\n",
       "      <td>Its good in this price range but if you are lo...</td>\n",
       "    </tr>\n",
       "    <tr>\n",
       "      <th>3</th>\n",
       "      <td></td>\n",
       "      <td></td>\n",
       "      <td></td>\n",
       "    </tr>\n",
       "    <tr>\n",
       "      <th>4</th>\n",
       "      <td></td>\n",
       "      <td></td>\n",
       "      <td></td>\n",
       "    </tr>\n",
       "    <tr>\n",
       "      <th>...</th>\n",
       "      <td>...</td>\n",
       "      <td>...</td>\n",
       "      <td>...</td>\n",
       "    </tr>\n",
       "    <tr>\n",
       "      <th>1995</th>\n",
       "      <td>4</td>\n",
       "      <td>Value-for-money</td>\n",
       "      <td>good product.....</td>\n",
       "    </tr>\n",
       "    <tr>\n",
       "      <th>1996</th>\n",
       "      <td>5</td>\n",
       "      <td>Worth every penny</td>\n",
       "      <td>worth for the money</td>\n",
       "    </tr>\n",
       "    <tr>\n",
       "      <th>1997</th>\n",
       "      <td>3</td>\n",
       "      <td>Decent product</td>\n",
       "      <td>spickar plag not working</td>\n",
       "    </tr>\n",
       "    <tr>\n",
       "      <th>1998</th>\n",
       "      <td>4</td>\n",
       "      <td>Very Good</td>\n",
       "      <td>Gud</td>\n",
       "    </tr>\n",
       "    <tr>\n",
       "      <th>1999</th>\n",
       "      <td>5</td>\n",
       "      <td>Worth every penny</td>\n",
       "      <td>super</td>\n",
       "    </tr>\n",
       "  </tbody>\n",
       "</table>\n",
       "<p>2000 rows × 3 columns</p>\n",
       "</div>"
      ],
      "text/plain": [
       "     Ratings      Review Titles  \\\n",
       "0          5          Wonderful   \n",
       "1          5  Terrific purchase   \n",
       "2          4         Delightful   \n",
       "3                                 \n",
       "4                                 \n",
       "...      ...                ...   \n",
       "1995       4    Value-for-money   \n",
       "1996       5  Worth every penny   \n",
       "1997       3     Decent product   \n",
       "1998       4          Very Good   \n",
       "1999       5  Worth every penny   \n",
       "\n",
       "                                    Review Descriptions  \n",
       "0     Excellent product in budget .i m loving it.i p...  \n",
       "1     Nice product. Bluetooth connectivity are very ...  \n",
       "2     Its good in this price range but if you are lo...  \n",
       "3                                                        \n",
       "4                                                        \n",
       "...                                                 ...  \n",
       "1995                                  good product.....  \n",
       "1996                                worth for the money  \n",
       "1997                           spickar plag not working  \n",
       "1998                                                Gud  \n",
       "1999                                              super  \n",
       "\n",
       "[2000 rows x 3 columns]"
      ]
     },
     "execution_count": 29,
     "metadata": {},
     "output_type": "execute_result"
    }
   ],
   "source": [
    "#interpreting scraped data\n",
    "home_theaters_df_flipkart"
   ]
  },
  {
   "cell_type": "code",
   "execution_count": 63,
   "id": "b3c0329f",
   "metadata": {},
   "outputs": [
    {
     "name": "stdout",
     "output_type": "stream",
     "text": [
      "Original Shape: (2000, 3)\n",
      "Total Number of Duplicated Rows: 321\n",
      "New Shape: (1679, 3)\n"
     ]
    }
   ],
   "source": [
    "#copying scradped ratings & reviews to another dataframe object\n",
    "df7 = home_theaters_df_flipkart.copy()\n",
    "print(f\"Original Shape: {df7.shape}\")\n",
    "\n",
    "#checking for duplicate rows\n",
    "print(f\"Total Number of Duplicated Rows: {df7.duplicated().sum()}\")\n",
    "\n",
    "#removing duplicate rows\n",
    "df7.drop_duplicates(inplace=True)\n",
    "print(f\"New Shape: {df7.shape}\")"
   ]
  },
  {
   "cell_type": "code",
   "execution_count": 30,
   "id": "c08a20c3",
   "metadata": {},
   "outputs": [],
   "source": [
    "#saving scraped data to csv file\n",
    "home_theaters_df_flipkart.to_csv('flipkart-ratings-reviews-home-theaters.csv')"
   ]
  },
  {
   "cell_type": "markdown",
   "id": "046be4c5",
   "metadata": {},
   "source": [
    "## Scraping for ratings & reviews of `Headphones` from Flipkart for 2000 records"
   ]
  },
  {
   "cell_type": "code",
   "execution_count": 31,
   "id": "1d1c0b34",
   "metadata": {},
   "outputs": [
    {
     "name": "stdout",
     "output_type": "stream",
     "text": [
      "FoundURL: [1680]"
     ]
    }
   ],
   "source": [
    "#start driver\n",
    "driver = start_driver()\n",
    "\n",
    "#initialize search box with phones\n",
    "init_flipkart('headphones',driver)\n",
    "\n",
    "#fetch the all related product urls\n",
    "headphones_urls = get_product_urls(driver)"
   ]
  },
  {
   "cell_type": "code",
   "execution_count": 32,
   "id": "25909ba7",
   "metadata": {},
   "outputs": [
    {
     "data": {
      "application/vnd.jupyter.widget-view+json": {
       "model_id": "a90534860d144051b38a1de42566c14b",
       "version_major": 2,
       "version_minor": 0
      },
      "text/plain": [
       "Processing:   0%|          | 0/1680 [00:00<?, ?it/s]"
      ]
     },
     "metadata": {},
     "output_type": "display_data"
    },
    {
     "name": "stdout",
     "output_type": "stream",
     "text": [
      "ScrapeLIMIT[2010/2000] :: URL: https://www.flipkart.com/boat-rockerz-235v2-asap-charging-version-5-0-bluetooth-headset/p/itmffacf2db2cc8f?pid=ACCFZGAQJGYCYDCM&lid=LSTACCFZGAQJGYCYDCMMCMPP5&marketplace=FLIPKART&q=headphones&store=0pm%2Ffcn&spotlightTagId=BestvalueId_0pm%2Ffcn&srno=s_1_4&otracker=search&otracker1=search&fm=SEARCH&iid=d6044aea-120f-4eb9-95eb-da0c64c4a2f9.ACCFZGAQJGYCYDCM.SEARCH&ppt=sp&ppn=sp&ssid=96usgdfa680000001624123460239&qH=edd443896ef5dbfc"
     ]
    }
   ],
   "source": [
    "#scrape the ratings & reviews from urls and store it as dataframe object\n",
    "headphones_df_flipkart = get_rating_reviews(headphones_urls,driver,limit=2000)"
   ]
  },
  {
   "cell_type": "code",
   "execution_count": 33,
   "id": "7b1bbb16",
   "metadata": {},
   "outputs": [
    {
     "data": {
      "text/html": [
       "<div>\n",
       "<style scoped>\n",
       "    .dataframe tbody tr th:only-of-type {\n",
       "        vertical-align: middle;\n",
       "    }\n",
       "\n",
       "    .dataframe tbody tr th {\n",
       "        vertical-align: top;\n",
       "    }\n",
       "\n",
       "    .dataframe thead th {\n",
       "        text-align: right;\n",
       "    }\n",
       "</style>\n",
       "<table border=\"1\" class=\"dataframe\">\n",
       "  <thead>\n",
       "    <tr style=\"text-align: right;\">\n",
       "      <th></th>\n",
       "      <th>Ratings</th>\n",
       "      <th>Review Titles</th>\n",
       "      <th>Review Descriptions</th>\n",
       "    </tr>\n",
       "  </thead>\n",
       "  <tbody>\n",
       "    <tr>\n",
       "      <th>0</th>\n",
       "      <td>5</td>\n",
       "      <td>Great product</td>\n",
       "      <td>I've been using this product for the last 3 da...</td>\n",
       "    </tr>\n",
       "    <tr>\n",
       "      <th>1</th>\n",
       "      <td>5</td>\n",
       "      <td>Highly recommended</td>\n",
       "      <td>Good battery 🔋 👌 Sound awesome 👌 Bass 🔊 super ...</td>\n",
       "    </tr>\n",
       "    <tr>\n",
       "      <th>2</th>\n",
       "      <td>5</td>\n",
       "      <td>Super!</td>\n",
       "      <td>Very nice product with amazing battery back up...</td>\n",
       "    </tr>\n",
       "    <tr>\n",
       "      <th>3</th>\n",
       "      <td>5</td>\n",
       "      <td>Awesome</td>\n",
       "      <td>Excellent quality.. Packing is awesome.. Neckb...</td>\n",
       "    </tr>\n",
       "    <tr>\n",
       "      <th>4</th>\n",
       "      <td>4</td>\n",
       "      <td>Really Nice</td>\n",
       "      <td>This review i was posted after 1 week using th...</td>\n",
       "    </tr>\n",
       "    <tr>\n",
       "      <th>...</th>\n",
       "      <td>...</td>\n",
       "      <td>...</td>\n",
       "      <td>...</td>\n",
       "    </tr>\n",
       "    <tr>\n",
       "      <th>1995</th>\n",
       "      <td>4</td>\n",
       "      <td>Pretty good</td>\n",
       "      <td>Ear buds not comfort to ears.last call memory ...</td>\n",
       "    </tr>\n",
       "    <tr>\n",
       "      <th>1996</th>\n",
       "      <td>5</td>\n",
       "      <td>Great product</td>\n",
       "      <td>Nice design, build quality &amp; nice colour. Good...</td>\n",
       "    </tr>\n",
       "    <tr>\n",
       "      <th>1997</th>\n",
       "      <td>5</td>\n",
       "      <td>Terrific</td>\n",
       "      <td>Using this product since 10 days (as on 03.07....</td>\n",
       "    </tr>\n",
       "    <tr>\n",
       "      <th>1998</th>\n",
       "      <td>5</td>\n",
       "      <td>Just wow!</td>\n",
       "      <td>Super fast charge.sound was good bass also good</td>\n",
       "    </tr>\n",
       "    <tr>\n",
       "      <th>1999</th>\n",
       "      <td>5</td>\n",
       "      <td>Must buy!</td>\n",
       "      <td>I have purchased it in 899. After using 3 days...</td>\n",
       "    </tr>\n",
       "  </tbody>\n",
       "</table>\n",
       "<p>2000 rows × 3 columns</p>\n",
       "</div>"
      ],
      "text/plain": [
       "     Ratings       Review Titles  \\\n",
       "0          5       Great product   \n",
       "1          5  Highly recommended   \n",
       "2          5              Super!   \n",
       "3          5             Awesome   \n",
       "4          4         Really Nice   \n",
       "...      ...                 ...   \n",
       "1995       4         Pretty good   \n",
       "1996       5       Great product   \n",
       "1997       5            Terrific   \n",
       "1998       5           Just wow!   \n",
       "1999       5           Must buy!   \n",
       "\n",
       "                                    Review Descriptions  \n",
       "0     I've been using this product for the last 3 da...  \n",
       "1     Good battery 🔋 👌 Sound awesome 👌 Bass 🔊 super ...  \n",
       "2     Very nice product with amazing battery back up...  \n",
       "3     Excellent quality.. Packing is awesome.. Neckb...  \n",
       "4     This review i was posted after 1 week using th...  \n",
       "...                                                 ...  \n",
       "1995  Ear buds not comfort to ears.last call memory ...  \n",
       "1996  Nice design, build quality & nice colour. Good...  \n",
       "1997  Using this product since 10 days (as on 03.07....  \n",
       "1998    Super fast charge.sound was good bass also good  \n",
       "1999  I have purchased it in 899. After using 3 days...  \n",
       "\n",
       "[2000 rows x 3 columns]"
      ]
     },
     "execution_count": 33,
     "metadata": {},
     "output_type": "execute_result"
    }
   ],
   "source": [
    "#interpreting scraped data\n",
    "headphones_df_flipkart"
   ]
  },
  {
   "cell_type": "code",
   "execution_count": 64,
   "id": "972af7b8",
   "metadata": {},
   "outputs": [
    {
     "name": "stdout",
     "output_type": "stream",
     "text": [
      "Original Shape: (2000, 3)\n",
      "Total Number of Duplicated Rows: 186\n",
      "New Shape: (1814, 3)\n"
     ]
    }
   ],
   "source": [
    "#copying scradped ratings & reviews to another dataframe object\n",
    "df8 = headphones_df_flipkart.copy()\n",
    "print(f\"Original Shape: {df8.shape}\")\n",
    "\n",
    "#checking for duplicate rows\n",
    "print(f\"Total Number of Duplicated Rows: {df8.duplicated().sum()}\")\n",
    "\n",
    "#removing duplicate rows\n",
    "df8.drop_duplicates(inplace=True)\n",
    "print(f\"New Shape: {df8.shape}\")"
   ]
  },
  {
   "cell_type": "code",
   "execution_count": 34,
   "id": "a1786a1b",
   "metadata": {},
   "outputs": [],
   "source": [
    "#saving scraped data to csv file\n",
    "headphones_df_flipkart.to_csv('flipkart-ratings-reviews-headphones.csv')"
   ]
  },
  {
   "cell_type": "markdown",
   "id": "05b403c2",
   "metadata": {},
   "source": [
    "# Scraping Ratings & Reviews from `Amazon.in`"
   ]
  },
  {
   "cell_type": "code",
   "execution_count": 84,
   "id": "e236bcbb",
   "metadata": {},
   "outputs": [],
   "source": [
    "#function for initializing driver with https://amazon.in and searching a value\n",
    "def init_amazon(search_key,driver):\n",
    "    #initializing driver with url https://amazon.in\n",
    "    driver.get('https://amazon.in')\n",
    "\n",
    "    #initializing search box with search_key\n",
    "    WebDriverWait(driver,5).until(ec.element_to_be_clickable((By.XPATH,'//input[@id=\"twotabsearchtextbox\"]'))).send_keys(search_key)\n",
    "\n",
    "    #clicking on search button\n",
    "    WebDriverWait(driver,5).until(ec.element_to_be_clickable((By.XPATH,'//input[@id=\"nav-search-submit-button\"]'))).click()\n",
    "    \n",
    "\n",
    "#end of function init_amazon\n",
    "\n",
    "\n",
    "#function for fetching all the product urls for searched product\n",
    "def amazon_product_urls(driver):\n",
    "    #getting all the related product links\n",
    "    product_urls = []\n",
    "    page_counter = 0\n",
    "    while 1:\n",
    "        #getting product url containers\n",
    "        try:\n",
    "            time.sleep(3)\n",
    "            links = []\n",
    "            links = WebDriverWait(driver,10).until(ec.presence_of_all_elements_located((By.XPATH,'//div[@class=\"a-row a-size-small\"]/span[2]/a[@class=\"a-link-normal\"]')))\n",
    "        except:\n",
    "            print(\"No more links found\")\n",
    "\n",
    "        #scraping product url from containers\n",
    "        for link in links:\n",
    "            try:\n",
    "                product_urls.append(link.get_attribute('href'))\n",
    "                sys.stdout.write(f\"\\rFoundURL: [{len(product_urls)}]\")\n",
    "                sys.stdout.flush()\n",
    "            except:\n",
    "                break\n",
    "\n",
    "        #goto next page if available\n",
    "        try:\n",
    "            page_counter += 1\n",
    "            #breaking loop after visting 41 pages for current product url\n",
    "            if page_counter >41:\n",
    "                break\n",
    "                \n",
    "            WebDriverWait(driver,5).until(ec.element_to_be_clickable((By.XPATH,'//ul[@class=\"a-pagination\"]/li[@class=\"a-last\"]/a[contains(text(),\"Next\")]'))).click()\n",
    "        except:\n",
    "            break; #break loop if next page is not available\n",
    "\n",
    "    #end of while 1\n",
    "    return product_urls\n",
    "\n",
    "#end of function get_product_urls\n",
    "\n",
    "\n",
    "#function to scrape reviews and ratings from given product url\n",
    "def amazon_rating_reviews(urls,driver,limit=False):\n",
    "    ratings = []\n",
    "    review_titles = []\n",
    "    review_descriptions = []\n",
    "    \n",
    "    #scraping ratings & reviews of products\n",
    "    for url in tqdm.tqdm(urls,desc=\"Processing\"):\n",
    "        #if number of records are more than limit than break\n",
    "        if limit and len(ratings) > limit:\n",
    "            break\n",
    "        \n",
    "        #initialize driver with url\n",
    "        driver.get(url)\n",
    "        try:\n",
    "            #checking for total number of reviews available for current url\n",
    "            num_reviews = WebDriverWait(driver,5).until(ec.element_to_be_clickable((By.XPATH,'//span[@id=\"acrCustomerReviewText\"]')))\n",
    "            total_reviews = int(re.sub(r'[^0-9]','',num_reviews.text))\n",
    "        except:\n",
    "            sys.stdout.write(\"\\rNumber of Reviews: TimeOut!\")\n",
    "            continue\n",
    "\n",
    "        rating_containers = []\n",
    "        title_containers = []\n",
    "        description_containers = []\n",
    "        #clicking on See all review link\n",
    "        try:\n",
    "            WebDriverWait(driver,5).until(ec.element_to_be_clickable((By.XPATH,'//a[@class=\"a-link-emphasis a-text-bold\"][contains(text(),\"See all reviews\")]'))).click()\n",
    "            time.sleep(2)\n",
    "        except:\n",
    "            sys.stdout.write(\"\\rAll [XX] Reviews: TimeOut!\")\n",
    "        \n",
    "        \n",
    "        #scraping reviews for current url\n",
    "        while 1:\n",
    "            #checking and breaking loop when number of records are more than limit\n",
    "            if limit and len(ratings) > limit:\n",
    "                break\n",
    "\n",
    "            error_flag = False\n",
    "            try:\n",
    "                rating_containers = WebDriverWait(driver,5).until(ec.presence_of_all_elements_located((By.XPATH,'//div[@class=\"a-section celwidget\"]/div[2]/a[1]')))\n",
    "                title_containers = WebDriverWait(driver,5).until(ec.presence_of_all_elements_located((By.XPATH,'//div[@class=\"a-section celwidget\"]/div[2]/a[2]/span')))\n",
    "                description_containers = WebDriverWait(driver,5).until(ec.presence_of_all_elements_located((By.XPATH,'//div[@class=\"a-section celwidget\"]/div[4]')))\n",
    "            except:\n",
    "                error_flag = True\n",
    "                sys.stdout.write(\"\\rScraping Containers: TimeOut!\")\n",
    "\n",
    "            if not error_flag and len(rating_containers) == len(title_containers) and len(rating_containers) == len(description_containers):\n",
    "                for rating in rating_containers:\n",
    "                    try:\n",
    "                        ratings.append(re.search(r'\\d+',rating.get_attribute('title'))[0])\n",
    "                    except:\n",
    "                        ratings.append(None)\n",
    "\n",
    "                for title in title_containers:\n",
    "                    try:\n",
    "                        review_titles.append(title.text)\n",
    "                    except:\n",
    "                        review_titles.append(None)\n",
    "\n",
    "                for description in description_containers:\n",
    "                    try:\n",
    "                        review_descriptions.append(description.text.replace('\\n',' '))\n",
    "                    except:\n",
    "                        review_descriptions.append(None)\n",
    "                    \n",
    "            else:\n",
    "                sys.stdout.write(\"\\r Error: Invalid Array Length!\")\n",
    "\n",
    "            if limit:\n",
    "                sys.stdout.write(\"\\rScrapeLIMIT[%d/%d] :: URL: %s\" % (len(ratings),limit,url))\n",
    "            else:\n",
    "                sys.stdout.write(\"\\rScrapedDATA[%d] :: URL: %s\" % (len(ratings),url))\n",
    "\n",
    "            #move to next review page\n",
    "            try:\n",
    "                WebDriverWait(driver,5).until(ec.element_to_be_clickable((By.XPATH,'//ul[@class=\"a-pagination\"]/li[@class=\"a-last\"]/a[contains(text(),\"Next\")]'))).click()\n",
    "                time.sleep(3)\n",
    "            except:\n",
    "                break\n",
    "\n",
    "        #end of while 1\n",
    "    #end of forLoop\n",
    "        \n",
    "    #creating dataframe of scraped data\n",
    "    df = pd.DataFrame({\n",
    "        \"Ratings\": ratings,\n",
    "        \"Review Titles\": review_titles,\n",
    "        \"Review Descriptions\": review_descriptions\n",
    "    })\n",
    "    \n",
    "    #closing driver\n",
    "    driver.close()\n",
    "    \n",
    "    #returning dataframe object\n",
    "    if limit:\n",
    "        return df[:limit]\n",
    "    else:\n",
    "        return df\n",
    "#end of function amazon_rating_reviews()\n"
   ]
  },
  {
   "cell_type": "markdown",
   "id": "65985bec",
   "metadata": {},
   "source": [
    "## Scraping for ratings & reviews of `Laptops from Amazon`"
   ]
  },
  {
   "cell_type": "code",
   "execution_count": 47,
   "id": "011facbe",
   "metadata": {},
   "outputs": [],
   "source": [
    "#start driver\n",
    "driver = start_driver()\n",
    "\n",
    "#initialize search box with laptops\n",
    "init_amazon('laptops',driver)"
   ]
  },
  {
   "cell_type": "code",
   "execution_count": 48,
   "id": "38891429",
   "metadata": {},
   "outputs": [
    {
     "name": "stdout",
     "output_type": "stream",
     "text": [
      "FoundURL: [269]"
     ]
    }
   ],
   "source": [
    "#getting all the product urls for searched key\n",
    "amazon_laptops_urls = amazon_product_urls(driver)"
   ]
  },
  {
   "cell_type": "code",
   "execution_count": 49,
   "id": "65c0ec1b",
   "metadata": {
    "scrolled": true
   },
   "outputs": [
    {
     "data": {
      "application/vnd.jupyter.widget-view+json": {
       "model_id": "f7e4f0b2599648b58f26c0a0b5331808",
       "version_major": 2,
       "version_minor": 0
      },
      "text/plain": [
       "Processing:   0%|          | 0/269 [00:00<?, ?it/s]"
      ]
     },
     "metadata": {},
     "output_type": "display_data"
    },
    {
     "name": "stdout",
     "output_type": "stream",
     "text": [
      "ScrapedDATA[145] :: URL: https://www.amazon.in/HP-15-6-inch-Laptop-Windows-15s-gy0003AU/dp/B08RFTYKFZ/ref=sr_1_3?dchild=1&keywords=laptops&qid=1624161462&sr=8-3#customerReviews-Graphite-81YM002TIN%2Fdp%2FB087D3VVW3%2Fref%3Dsr_1_2_sspa%3Fdchild%3D1%26keywords%3Dlaptops%26qid%3D1624161462%26sr%3D8-2-spons%26psc%3D1&qualifier=1624161462&id=676039676104181&widgetName=sp_atf#customerReviews Error: Invalid Array Length!\n",
      "ScrapedDATA[408] :: URL: https://www.amazon.in/HP-15-6-inch-Laptop-Windows-15s-gy0003AU/dp/B08RFTYKFZ/ref=sr_1_3?dchild=1&keywords=laptops&qid=1624161462&sr=8-3#customerReviews Error: Invalid Array Length!\n",
      "ScrapedDATA[408] :: URL: https://www.amazon.in/HP-Pentium-Processor-15-6-inch-15s-du1052tu/dp/B08HJZHTM1/ref=sr_1_4?dchild=1&keywords=laptops&qid=1624161462&sr=8-4#customerReviews Error: Invalid Array Length!\n",
      "ScrapedDATA[448] :: URL: https://www.amazon.in/HP-Pentium-Processor-15-6-inch-15s-du1052tu/dp/B08HJZHTM1/ref=sr_1_4?dchild=1&keywords=laptops&qid=1624161462&sr=8-4#customerReviews Error: Invalid Array Length!\n",
      "ScrapedDATA[468] :: URL: https://www.amazon.in/HP-Pentium-Processor-15-6-inch-15s-du1052tu/dp/B08HJZHTM1/ref=sr_1_4?dchild=1&keywords=laptops&qid=1624161462&sr=8-4#customerReviews Error: Invalid Array Length!\n",
      "ScrapedDATA[2265] :: URL: https://www.amazon.in/Acer-Aspire-Intel-Core-i3-10th/dp/B088CFBQFN/ref=sr_1_42?dchild=1&keywords=laptops&qid=1624161476&sr=8-42#customerReviewsomerReviewsews-13-3-inch-13-ay0045AU%2Fdp%2FB08D5F4B6M%2Fref%3Dsr_1_34_sspa%3Fdchild%3D1%26keywords%3Dlaptops%26qid%3D1624161476%26sr%3D8-34-spons%26psc%3D1&qualifier=1624161476&id=8166275400486536&widgetName=sp_atf_next#customerReviewsstomerReviewsews Error: Invalid Array Length!\n",
      "Scraping Containers: TimeOut! Error: Invalid Array Length!Touchscreen-RadeonTM-Graphics-Platinum/dp/B0933L1RWD/ref=sxbs_sbv_search_btf?cv_ct_cx=laptops&dchild=1&keywords=laptops&pd_rd_i=B0933L1RWD&pd_rd_r=1622395f-2050-44be-b16a-42232997e188&pd_rd_w=qZjSU&pd_rd_wg=j8D4E&pf_rd_p=face5bc3-2f9a-4704-b92d-89c03325065d&pf_rd_r=QBE4AA6ZM34VJGA0T52H&qid=1624161476&sr=1-33-50cbf8e5-3c98-41b1-983b-e6cf8b4418b0#customerReviews\n",
      "ScrapedDATA[3507] :: URL: https://www.amazon.in/HP-Laptop-14-inch-Screen-Windows/dp/B08XY3QXY5/ref=sr_1_67?dchild=1&keywords=laptops&qid=1624161481&sr=8-67#customerReviews3#customerReviewss0KGIN%2Fdp%2FB08JLQX4GZ%2Fref%3Dsr_1_60_sspa%3Fdchild%3D1%26keywords%3Dlaptops%26qid%3D1624161481%26sr%3D8-60-spons%26psc%3D1&qualifier=1624161481&id=1713195957768424&widgetName=sp_mtf#customerReviewsrReviewserReviews Error: Invalid Array Length!\n",
      "ScrapedDATA[4119] :: URL: https://www.amazon.in/Lenovo-Ideapad-Windows-Platinum-81W100HKIN/dp/B08CQG6PDK/ref=sr_1_84?dchild=1&keywords=laptops&qid=1624161485&sr=8-84#customerReviewswsS-488IN%2Fdp%2FB08KG3CHVR%2Fref%3Dsr_1_76_sspa%3Fdchild%3D1%26keywords%3Dlaptops%26qid%3D1624161485%26sr%3D8-76-spons%26psc%3D1&qualifier=1624161485&id=5858089794744465&widgetName=sp_mtf#customerReviews089794744465&widgetName=sp_atf_next#customerReviews Error: Invalid Array Length!\n",
      "Scraping Containers: TimeOut! Error: Invalid Array Length!ect/picassoRedirect.html/ref=pa_sp_mtf_aps_sr_pg6_1?ie=UTF8&adId=A09828992B8YP1B9P18EF&url=%2FDell-Inspiron-3501-i5-1135G7-Graphics%2Fdp%2FB08QCKPLZX%2Fref%3Dsr_1_92_sspa%3Fdchild%3D1%26keywords%3Dlaptops%26qid%3D1624161489%26sr%3D8-92-spons%26psc%3D1%26smid%3DA2W4R6KXCY4TRS&qualifier=1624161489&id=8199504483278301&widgetName=sp_mtf#customerReviewseviewsiews\n",
      "ScrapedDATA[5134] :: URL: https://www.amazon.in/HP-Pavilion-Touchscreen-14-inch-14-dh1502TU/dp/B0928PGBLM/ref=sr_1_134?dchild=1&keywords=laptops&qid=1624161502&sr=8-134#customerReviewstomerReviews85964018-edb6-4e75-ab0f-82a7116cb377&pd_rd_w=JjYY6&pd_rd_wg=rEyw7&pf_rd_p=face5bc3-2f9a-4704-b92d-89c03325065d&pf_rd_r=G7AQ6N6PRHS10R4AG6W9&qid=1624161498&sr=1-113-50cbf8e5-3c98-41b1-983b-e6cf8b4418b0#customerReviewsext#customerReviews Error: Invalid Array Length!\n",
      "Scraping Containers: TimeOut! Error: Invalid Array Length!lycatcher-Leather-Messenger-LB190BRN/dp/B083M1QK32/ref=sxbs_sbv_search_btf?cv_ct_cx=laptops&dchild=1&keywords=laptops&pd_rd_i=B083M1QK32&pd_rd_r=b5706ffa-6513-4b84-aa98-486461bebc74&pd_rd_w=GsJJX&pd_rd_wg=bfhdZ&pf_rd_p=face5bc3-2f9a-4704-b92d-89c03325065d&pf_rd_r=JJ3HJ2SREKNGV1CD23D7&qid=1624161502&sr=1-129-50cbf8e5-3c98-41b1-983b-e6cf8b4418b0#customerReviews\n",
      "Scraping Containers: TimeOut! Error: Invalid Array Length!-6470b-Probook-Screen/dp/B07YC1XCP9/ref=sr_1_150?dchild=1&keywords=laptops&qid=1624161506&sr=8-150#customerReviewscustomerReviewss\n",
      "ScrapedDATA[5762] :: URL: https://www.amazon.in/HP-250-G7-22A67PA-ACJ/dp/B08F9NQ8NF/ref=sr_1_186?dchild=1&keywords=laptops&qid=1624161514&sr=8-186#customerReviews1514&sr=8-185#customerReviewsK32&pd_rd_r=9ce7406a-5c9f-4d7f-9111-fa1ee443a023&pd_rd_w=GJMMm&pd_rd_wg=xFRxy&pf_rd_p=face5bc3-2f9a-4704-b92d-89c03325065d&pf_rd_r=VXAMHRKC9PDGY1SRCRTC&qid=1624161510&sr=1-161-50cbf8e5-3c98-41b1-983b-e6cf8b4418b0#customerReviewsews Error: Invalid Array Length!\n",
      "Scraping Containers: TimeOut! Error: Invalid Array Length!nkPad-Fingerprint-Aluminium-20TDS0A500/dp/B08Y929CPJ/ref=sr_1_195?dchild=1&keywords=laptops&qid=1624161518&sr=8-195#customerReviews1QK32&pd_rd_r=dca48610-3c22-434d-ba90-f133988216f9&pd_rd_w=UKNyr&pd_rd_wg=LSoTv&pf_rd_p=face5bc3-2f9a-4704-b92d-89c03325065d&pf_rd_r=Q9YVJG6C96DDZB024Y2G&qid=1624161514&sr=1-177-50cbf8e5-3c98-41b1-983b-e6cf8b4418b0#customerReviews\n",
      "Scraping Containers: TimeOut! Error: Invalid Array Length!apad-Graphics-Platinum-81VD00EQIN/dp/B08MCD1R86/ref=sr_1_220?dchild=1&keywords=laptops&qid=1624161522&sr=8-220#customerReviewsswsws8Y96J1ZJ&pd_rd_r=f1a56201-bdcf-4397-9553-fb2320eb979e&pd_rd_w=Y15i7&pd_rd_wg=cdqf9&pf_rd_p=face5bc3-2f9a-4704-b92d-89c03325065d&pf_rd_r=CZA1XN9KR294MF9HPHTR&qid=1624161518&sr=1-193-50cbf8e5-3c98-41b1-983b-e6cf8b4418b0#customerReviews\n",
      "Scraping Containers: TimeOut! Error: Invalid Array Length!n-Graphics-39-62cms-15-eg0103TX/dp/B08XBZBFCQ/ref=sr_1_225?dchild=1&keywords=laptops&qid=1624161526&sr=8-225#customerReviewsd_i=B0933L1RWD&pd_rd_r=0515ff62-a704-47de-a2b5-cc68e75b55f7&pd_rd_w=dzHTQ&pd_rd_wg=njYkp&pf_rd_p=face5bc3-2f9a-4704-b92d-89c03325065d&pf_rd_r=HRD21JM9PCGF1N56T345&qid=1624161522&sr=1-209-50cbf8e5-3c98-41b1-983b-e6cf8b4418b0#customerReviews\n",
      "Scraping Containers: TimeOut! Error: Invalid Array Length!ron-5502-Light-Laptop/dp/B08MKXTMK5/ref=sr_1_226?dchild=1&keywords=laptops&qid=1624161526&sr=8-226#customerReviews\n",
      "Scraping Containers: TimeOut! Error: Invalid Array Length!ron-Graphics-Warranty-D560341WIN9S/dp/B08HYXNRSL/ref=sr_1_283?dchild=1&keywords=laptops&qid=1624161538&sr=8-283#customerReviewsReviews1RWD&pd_rd_r=5a674709-0db8-4ebf-bb3c-3318172f219c&pd_rd_w=heYz6&pd_rd_wg=pbHCO&pf_rd_p=face5bc3-2f9a-4704-b92d-89c03325065d&pf_rd_r=EAZNKRET3TBNP9C4EH63&qid=1624161534&sr=1-257-50cbf8e5-3c98-41b1-983b-e6cf8b4418b0#customerReviews\n",
      "ScrapedDATA[7293] :: URL: https://www.amazon.in/Lenovo-ThinkPad-Fingerprint-Aluminium-20TDS0G700/dp/B095SST8N9/ref=sr_1_292?dchild=1&keywords=laptops&qid=1624161542&sr=8-292#customerReviews8Y96J1ZJ&pd_rd_r=27e40047-29ed-45d1-bf33-809d2661a664&pd_rd_w=JWnAB&pd_rd_wg=CVtpb&pf_rd_p=face5bc3-2f9a-4704-b92d-89c03325065d&pf_rd_r=B93FXT58D772KZTRVAB7&qid=1624161538&sr=1-273-50cbf8e5-3c98-41b1-983b-e6cf8b4418b0#customerReviews Error: Invalid Array Length!\n",
      "Scraping Containers: TimeOut! Error: Invalid Array Length!ude-E5440-14in-Notebook/dp/B071X5CVWP/ref=sr_1_293?dchild=1&keywords=laptops&qid=1624161542&sr=8-293#customerReviews\n",
      "Scraping Containers: TimeOut! Error: Invalid Array Length!ude-E5440-14in-Notebook/dp/B071X5CVWP/ref=sr_1_293?dchild=1&keywords=laptops&qid=1624161542&sr=8-293#customerReviews\n",
      "Scraping Containers: TimeOut! Error: Invalid Array Length!ude-E5440-14in-Notebook/dp/B071X5CVWP/ref=sr_1_293?dchild=1&keywords=laptops&qid=1624161542&sr=8-293#customerReviews\n",
      "Scraping Containers: TimeOut! Error: Invalid Array Length!6-inch-Windows10-Graphics-81Y400VBIN/dp/B08SK1Z5CK/ref=sr_1_298?dchild=1&keywords=laptops&qid=1624161542&sr=8-298#customerReviewsiews\n",
      "ScrapedDATA[7350] :: URL: https://www.amazon.in/Lenovo-Windows-Graphics-Phantom-82B500MMIN/dp/B08JLR7LPQ/ref=sr_1_301?dchild=1&keywords=laptops&qid=1624161542&sr=8-301#customerReviews Error: Invalid Array Length!\n"
     ]
    },
    {
     "name": "stdout",
     "output_type": "stream",
     "text": [
      "Scraping Containers: TimeOut! Error: Invalid Array Length!ron-3501-i5-1135G7-Graphics/dp/B08QCKPLZX/ref=sr_1_306?dchild=1&keywords=laptops&qid=1624161546&sr=8-306#customerReviewsReviews083M1QK32&pd_rd_r=04e68d9c-5737-4cdc-aefa-2921c9985f68&pd_rd_w=xxNax&pd_rd_wg=UFhng&pf_rd_p=face5bc3-2f9a-4704-b92d-89c03325065d&pf_rd_r=DZ6FGEEBN1YZE95VR02J&qid=1624161542&sr=1-289-50cbf8e5-3c98-41b1-983b-e6cf8b4418b0#customerReviews\n",
      "ScrapedDATA[7555] :: URL: https://www.amazon.in/Microsoft-Touchscreen-RadeonTM-Graphics-Platinum/dp/B0933L1RWD/ref=sxbs_sbv_search_btf?cv_ct_cx=laptops&dchild=1&keywords=laptops&pd_rd_i=B0933L1RWD&pd_rd_r=323f76ce-6d41-47f6-9828-b2b52b516857&pd_rd_w=UEBXR&pd_rd_wg=OpjEX&pf_rd_p=face5bc3-2f9a-4704-b92d-89c03325065d&pf_rd_r=X9TFTXFERZ408JRZ4D5E&qid=1624161546&sr=1-305-50cbf8e5-3c98-41b1-983b-e6cf8b4418b0#customerReviews"
     ]
    }
   ],
   "source": [
    "#scraping ratings & reviews for searched product\n",
    "laptop_df_amazon = amazon_rating_reviews(amazon_laptops_urls,driver)"
   ]
  },
  {
   "cell_type": "code",
   "execution_count": 50,
   "id": "83265cb0",
   "metadata": {},
   "outputs": [
    {
     "data": {
      "text/html": [
       "<div>\n",
       "<style scoped>\n",
       "    .dataframe tbody tr th:only-of-type {\n",
       "        vertical-align: middle;\n",
       "    }\n",
       "\n",
       "    .dataframe tbody tr th {\n",
       "        vertical-align: top;\n",
       "    }\n",
       "\n",
       "    .dataframe thead th {\n",
       "        text-align: right;\n",
       "    }\n",
       "</style>\n",
       "<table border=\"1\" class=\"dataframe\">\n",
       "  <thead>\n",
       "    <tr style=\"text-align: right;\">\n",
       "      <th></th>\n",
       "      <th>Ratings</th>\n",
       "      <th>Review Titles</th>\n",
       "      <th>Review Descriptions</th>\n",
       "    </tr>\n",
       "  </thead>\n",
       "  <tbody>\n",
       "    <tr>\n",
       "      <th>0</th>\n",
       "      <td>5</td>\n",
       "      <td>Deal of the year!</td>\n",
       "      <td>I am so glad, I found a great deal on this lap...</td>\n",
       "    </tr>\n",
       "    <tr>\n",
       "      <th>1</th>\n",
       "      <td>4</td>\n",
       "      <td>Best at this price</td>\n",
       "      <td>Bought it this Friday. waited a lot for perfec...</td>\n",
       "    </tr>\n",
       "    <tr>\n",
       "      <th>2</th>\n",
       "      <td>5</td>\n",
       "      <td>Best in its Class</td>\n",
       "      <td>Writing this review after 2 weeks of usage, I'...</td>\n",
       "    </tr>\n",
       "    <tr>\n",
       "      <th>3</th>\n",
       "      <td>3</td>\n",
       "      <td>Great Purchase, until Zen 3 becomes easily ava...</td>\n",
       "      <td>Make sure you get the Serial number in the Inv...</td>\n",
       "    </tr>\n",
       "    <tr>\n",
       "      <th>4</th>\n",
       "      <td>5</td>\n",
       "      <td>A perfect laptop for every task BUT......</td>\n",
       "      <td>Review after 1 week: I purchased this laptop (...</td>\n",
       "    </tr>\n",
       "    <tr>\n",
       "      <th>...</th>\n",
       "      <td>...</td>\n",
       "      <td>...</td>\n",
       "      <td>...</td>\n",
       "    </tr>\n",
       "    <tr>\n",
       "      <th>7550</th>\n",
       "      <td>4</td>\n",
       "      <td>SUPER</td>\n",
       "      <td>I REALLY LIKED IT AWESOME,BOOTING TIME IS VERY...</td>\n",
       "    </tr>\n",
       "    <tr>\n",
       "      <th>7551</th>\n",
       "      <td>5</td>\n",
       "      <td>Premium machine for widows lovers</td>\n",
       "      <td>Very impressed with the laptop. Looks extremel...</td>\n",
       "    </tr>\n",
       "    <tr>\n",
       "      <th>7552</th>\n",
       "      <td>1</td>\n",
       "      <td>Extremely bad customer service</td>\n",
       "      <td>Horrible customer service . U r on your own on...</td>\n",
       "    </tr>\n",
       "    <tr>\n",
       "      <th>7553</th>\n",
       "      <td>1</td>\n",
       "      <td>Price is very high</td>\n",
       "      <td>The price is too high .for 8gb we are getting ...</td>\n",
       "    </tr>\n",
       "    <tr>\n",
       "      <th>7554</th>\n",
       "      <td>5</td>\n",
       "      <td>Beast of a laptop! Microsoft you nailed it wit...</td>\n",
       "      <td>Stoked to be the first reviewer of this amazin...</td>\n",
       "    </tr>\n",
       "  </tbody>\n",
       "</table>\n",
       "<p>7555 rows × 3 columns</p>\n",
       "</div>"
      ],
      "text/plain": [
       "     Ratings                                      Review Titles  \\\n",
       "0          5                                  Deal of the year!   \n",
       "1          4                                 Best at this price   \n",
       "2          5                                  Best in its Class   \n",
       "3          3  Great Purchase, until Zen 3 becomes easily ava...   \n",
       "4          5          A perfect laptop for every task BUT......   \n",
       "...      ...                                                ...   \n",
       "7550       4                                              SUPER   \n",
       "7551       5                  Premium machine for widows lovers   \n",
       "7552       1                     Extremely bad customer service   \n",
       "7553       1                                 Price is very high   \n",
       "7554       5  Beast of a laptop! Microsoft you nailed it wit...   \n",
       "\n",
       "                                    Review Descriptions  \n",
       "0     I am so glad, I found a great deal on this lap...  \n",
       "1     Bought it this Friday. waited a lot for perfec...  \n",
       "2     Writing this review after 2 weeks of usage, I'...  \n",
       "3     Make sure you get the Serial number in the Inv...  \n",
       "4     Review after 1 week: I purchased this laptop (...  \n",
       "...                                                 ...  \n",
       "7550  I REALLY LIKED IT AWESOME,BOOTING TIME IS VERY...  \n",
       "7551  Very impressed with the laptop. Looks extremel...  \n",
       "7552  Horrible customer service . U r on your own on...  \n",
       "7553  The price is too high .for 8gb we are getting ...  \n",
       "7554  Stoked to be the first reviewer of this amazin...  \n",
       "\n",
       "[7555 rows x 3 columns]"
      ]
     },
     "execution_count": 50,
     "metadata": {},
     "output_type": "execute_result"
    }
   ],
   "source": [
    "#interpreting scraped data\n",
    "laptop_df_amazon"
   ]
  },
  {
   "cell_type": "code",
   "execution_count": 65,
   "id": "2b903c1b",
   "metadata": {},
   "outputs": [
    {
     "name": "stdout",
     "output_type": "stream",
     "text": [
      "Original Shape: (7555, 3)\n",
      "Total Number of Duplicated Rows: 1059\n",
      "New Shape: (6496, 3)\n"
     ]
    }
   ],
   "source": [
    "#copying scradped ratings & reviews to another dataframe object\n",
    "df9 = laptop_df_amazon.copy()\n",
    "print(f\"Original Shape: {df9.shape}\")\n",
    "\n",
    "#checking for duplicate rows\n",
    "print(f\"Total Number of Duplicated Rows: {df9.duplicated().sum()}\")\n",
    "\n",
    "#removing duplicate rows\n",
    "df9.drop_duplicates(inplace=True)\n",
    "print(f\"New Shape: {df9.shape}\")"
   ]
  },
  {
   "cell_type": "code",
   "execution_count": 51,
   "id": "e76982c4",
   "metadata": {},
   "outputs": [],
   "source": [
    "#saving scraped data to csv file\n",
    "laptop_df_amazon.to_csv('amazon-ratings-reviews-laptops.csv')"
   ]
  },
  {
   "cell_type": "markdown",
   "id": "f110e676",
   "metadata": {},
   "source": [
    "## Scraping for ratings & reviews of `Phones` from Amazon"
   ]
  },
  {
   "cell_type": "code",
   "execution_count": 85,
   "id": "587553b7",
   "metadata": {},
   "outputs": [],
   "source": [
    "#start driver\n",
    "driver = start_driver()\n",
    "\n",
    "#initialize search box with phones\n",
    "init_amazon('phones',driver)"
   ]
  },
  {
   "cell_type": "code",
   "execution_count": 86,
   "id": "e6951964",
   "metadata": {},
   "outputs": [
    {
     "name": "stdout",
     "output_type": "stream",
     "text": [
      "FoundURL: [279]"
     ]
    }
   ],
   "source": [
    "#getting all the product urls for searched key\n",
    "amazon_phones_urls = amazon_product_urls(driver)"
   ]
  },
  {
   "cell_type": "code",
   "execution_count": 87,
   "id": "f9a9ef83",
   "metadata": {},
   "outputs": [
    {
     "data": {
      "application/vnd.jupyter.widget-view+json": {
       "model_id": "0aa85ab65a324e51b97c17a00171d008",
       "version_major": 2,
       "version_minor": 0
      },
      "text/plain": [
       "Processing:   0%|          | 0/279 [00:00<?, ?it/s]"
      ]
     },
     "metadata": {},
     "output_type": "display_data"
    },
    {
     "name": "stdout",
     "output_type": "stream",
     "text": [
      "ScrapedDATA[40035] :: URL: https://www.amazon.in/Coolpad-Cool-Silver-Storage-Pop-up/dp/B08HRBGB9Z/ref=sr_1_306?dchild=1&keywords=phones&qid=1624172908&sr=8-306#customerReviewserReviewsewsiews1020%2Fdp%2FB0844516JL%2Fref%3Dsr_1_82_sspa%3Fdchild%3D1%26keywords%3Dphones%26qid%3D1624172856%26sr%3D8-82-spons%26psc%3D1&qualifier=1624172856&id=1032098169345152&widgetName=sp_atf_next#customerReviewswsiews"
     ]
    }
   ],
   "source": [
    "#scraping ratings & reviews for searched product\n",
    "phones_df_amazon = amazon_rating_reviews(amazon_phones_urls,driver)"
   ]
  },
  {
   "cell_type": "code",
   "execution_count": 88,
   "id": "4fbce90e",
   "metadata": {},
   "outputs": [
    {
     "data": {
      "text/html": [
       "<div>\n",
       "<style scoped>\n",
       "    .dataframe tbody tr th:only-of-type {\n",
       "        vertical-align: middle;\n",
       "    }\n",
       "\n",
       "    .dataframe tbody tr th {\n",
       "        vertical-align: top;\n",
       "    }\n",
       "\n",
       "    .dataframe thead th {\n",
       "        text-align: right;\n",
       "    }\n",
       "</style>\n",
       "<table border=\"1\" class=\"dataframe\">\n",
       "  <thead>\n",
       "    <tr style=\"text-align: right;\">\n",
       "      <th></th>\n",
       "      <th>Ratings</th>\n",
       "      <th>Review Titles</th>\n",
       "      <th>Review Descriptions</th>\n",
       "    </tr>\n",
       "  </thead>\n",
       "  <tbody>\n",
       "    <tr>\n",
       "      <th>0</th>\n",
       "      <td>5</td>\n",
       "      <td>Value of Money 💖</td>\n",
       "      <td>Charger and speaker 🤷</td>\n",
       "    </tr>\n",
       "    <tr>\n",
       "      <th>1</th>\n",
       "      <td>5</td>\n",
       "      <td>No music player..lots of app</td>\n",
       "      <td>Good..but no music player!!! Lots of app.</td>\n",
       "    </tr>\n",
       "    <tr>\n",
       "      <th>2</th>\n",
       "      <td>5</td>\n",
       "      <td>Ram and finishing</td>\n",
       "      <td>Good</td>\n",
       "    </tr>\n",
       "    <tr>\n",
       "      <th>3</th>\n",
       "      <td>5</td>\n",
       "      <td>Superb product in prise</td>\n",
       "      <td>Tecno good phone camera processar also all of ...</td>\n",
       "    </tr>\n",
       "    <tr>\n",
       "      <th>4</th>\n",
       "      <td>5</td>\n",
       "      <td>Samsung Z Fold 2 is Masterpiece</td>\n",
       "      <td>One of the best Samsung phones so far But you ...</td>\n",
       "    </tr>\n",
       "    <tr>\n",
       "      <th>...</th>\n",
       "      <td>...</td>\n",
       "      <td>...</td>\n",
       "      <td>...</td>\n",
       "    </tr>\n",
       "    <tr>\n",
       "      <th>40030</th>\n",
       "      <td>5</td>\n",
       "      <td>Beautiful Indian product</td>\n",
       "      <td>Nice product</td>\n",
       "    </tr>\n",
       "    <tr>\n",
       "      <th>40031</th>\n",
       "      <td>5</td>\n",
       "      <td>Awesome phone</td>\n",
       "      <td>Great phone. There is no overheating like othe...</td>\n",
       "    </tr>\n",
       "    <tr>\n",
       "      <th>40032</th>\n",
       "      <td>5</td>\n",
       "      <td>Software problem</td>\n",
       "      <td>Mobile was software issues. Mobile not working...</td>\n",
       "    </tr>\n",
       "    <tr>\n",
       "      <th>40033</th>\n",
       "      <td>1</td>\n",
       "      <td>Waste project worset mobile</td>\n",
       "      <td>This phone is really bad ibwont recumbent anyo...</td>\n",
       "    </tr>\n",
       "    <tr>\n",
       "      <th>40034</th>\n",
       "      <td>5</td>\n",
       "      <td>Satisfied</td>\n",
       "      <td>Design of the device is good and shiny. Selfie...</td>\n",
       "    </tr>\n",
       "  </tbody>\n",
       "</table>\n",
       "<p>40035 rows × 3 columns</p>\n",
       "</div>"
      ],
      "text/plain": [
       "      Ratings                    Review Titles  \\\n",
       "0           5                 Value of Money 💖   \n",
       "1           5     No music player..lots of app   \n",
       "2           5                Ram and finishing   \n",
       "3           5          Superb product in prise   \n",
       "4           5  Samsung Z Fold 2 is Masterpiece   \n",
       "...       ...                              ...   \n",
       "40030       5         Beautiful Indian product   \n",
       "40031       5                    Awesome phone   \n",
       "40032       5                 Software problem   \n",
       "40033       1      Waste project worset mobile   \n",
       "40034       5                        Satisfied   \n",
       "\n",
       "                                     Review Descriptions  \n",
       "0                                  Charger and speaker 🤷  \n",
       "1              Good..but no music player!!! Lots of app.  \n",
       "2                                                   Good  \n",
       "3      Tecno good phone camera processar also all of ...  \n",
       "4      One of the best Samsung phones so far But you ...  \n",
       "...                                                  ...  \n",
       "40030                                       Nice product  \n",
       "40031  Great phone. There is no overheating like othe...  \n",
       "40032  Mobile was software issues. Mobile not working...  \n",
       "40033  This phone is really bad ibwont recumbent anyo...  \n",
       "40034  Design of the device is good and shiny. Selfie...  \n",
       "\n",
       "[40035 rows x 3 columns]"
      ]
     },
     "execution_count": 88,
     "metadata": {},
     "output_type": "execute_result"
    }
   ],
   "source": [
    "#interpreting scraped data\n",
    "phones_df_amazon"
   ]
  },
  {
   "cell_type": "code",
   "execution_count": 89,
   "id": "030f50d6",
   "metadata": {},
   "outputs": [
    {
     "name": "stdout",
     "output_type": "stream",
     "text": [
      "Original Shape: (40035, 3)\n",
      "Total Number of Duplicated Rows: 13176\n",
      "New Shape: (26859, 3)\n"
     ]
    }
   ],
   "source": [
    "#copying scradped ratings & reviews to another dataframe object\n",
    "df10 = phones_df_amazon.copy()\n",
    "print(f\"Original Shape: {df10.shape}\")\n",
    "\n",
    "#checking for duplicate rows\n",
    "print(f\"Total Number of Duplicated Rows: {df10.duplicated().sum()}\")\n",
    "\n",
    "#removing duplicate rows\n",
    "df10.drop_duplicates(inplace=True)\n",
    "print(f\"New Shape: {df10.shape}\")"
   ]
  },
  {
   "cell_type": "code",
   "execution_count": 90,
   "id": "72de9ecc",
   "metadata": {},
   "outputs": [],
   "source": [
    "#saving scraped data to csv file\n",
    "phones_df_amazon.to_csv('amazon-ratings-reviews-phones.csv')"
   ]
  },
  {
   "cell_type": "markdown",
   "id": "2f14cea2",
   "metadata": {},
   "source": [
    "## Scraping for ratings & reviews of `Headphones` from Amazon"
   ]
  },
  {
   "cell_type": "code",
   "execution_count": 97,
   "id": "b6cc4570",
   "metadata": {},
   "outputs": [],
   "source": [
    "#start driver\n",
    "driver = start_driver()\n",
    "\n",
    "#initialize search box with phones\n",
    "init_amazon('Headphones',driver)"
   ]
  },
  {
   "cell_type": "code",
   "execution_count": 98,
   "id": "8d53b1e2",
   "metadata": {},
   "outputs": [
    {
     "name": "stdout",
     "output_type": "stream",
     "text": [
      "FoundURL: [369]"
     ]
    }
   ],
   "source": [
    "#getting all the product urls for searched key\n",
    "amazon_headphones_urls = amazon_product_urls(driver)"
   ]
  },
  {
   "cell_type": "code",
   "execution_count": 99,
   "id": "5c604fcb",
   "metadata": {},
   "outputs": [
    {
     "data": {
      "application/vnd.jupyter.widget-view+json": {
       "model_id": "8b24ff921d4c4760af98fe0bc7c6d68f",
       "version_major": 2,
       "version_minor": 0
      },
      "text/plain": [
       "Processing:   0%|          | 0/369 [00:00<?, ?it/s]"
      ]
     },
     "metadata": {},
     "output_type": "display_data"
    },
    {
     "name": "stdout",
     "output_type": "stream",
     "text": [
      "ScrapedDATA[17834] :: URL: https://www.amazon.in/gp/slredirect/picassoRedirect.html/ref=pa_sp_btf_aps_sr_pg20_1?ie=UTF8&adId=A093795110ROWSIX0WPIQ&url=%2FSamsung-Hands-Free-Headset-Compatible-Smartphones%2Fdp%2FB07X9HN89S%2Fref%3Dsr_1_312_sspa%3Fdchild%3D1%26keywords%3DHeadphones%26qid%3D1624199883%26sr%3D8-312-spons%26psc%3D1&qualifier=1624199883&id=8977307858816452&widgetName=sp_btf#customerReviewssp_mtf#customerReviewsrReviewssiewst_we=asin&cv_ct_wn=osp-single-source-earns-comm&dchild=1&keywords=Headphones&linkCode=oas&pd_rd_i=B07TF2R9KW&pd_rd_r=53b27863-abb0-4ba5-9242-04c17f8145e9&pd_rd_w=xuQjs&pd_rd_wg=QF3nQ&pf_rd_p=04cb5ab0-b8fd-4cb3-8087-30e7d341d745&pf_rd_r=VM2R1RJMVEMQMFYF93PV&qid=1624199806&sr=1-4-483c64d8-df78-4008-ae20-e69f683e58b1&tag=technologytoday-21#customerReviews#customerReviewssmerReviews"
     ]
    }
   ],
   "source": [
    "#scraping ratings & reviews for searched product\n",
    "headphones_df_amazon = amazon_rating_reviews(amazon_headphones_urls,driver)"
   ]
  },
  {
   "cell_type": "code",
   "execution_count": 100,
   "id": "80154d7a",
   "metadata": {},
   "outputs": [
    {
     "data": {
      "text/html": [
       "<div>\n",
       "<style scoped>\n",
       "    .dataframe tbody tr th:only-of-type {\n",
       "        vertical-align: middle;\n",
       "    }\n",
       "\n",
       "    .dataframe tbody tr th {\n",
       "        vertical-align: top;\n",
       "    }\n",
       "\n",
       "    .dataframe thead th {\n",
       "        text-align: right;\n",
       "    }\n",
       "</style>\n",
       "<table border=\"1\" class=\"dataframe\">\n",
       "  <thead>\n",
       "    <tr style=\"text-align: right;\">\n",
       "      <th></th>\n",
       "      <th>Ratings</th>\n",
       "      <th>Review Titles</th>\n",
       "      <th>Review Descriptions</th>\n",
       "    </tr>\n",
       "  </thead>\n",
       "  <tbody>\n",
       "    <tr>\n",
       "      <th>0</th>\n",
       "      <td>5</td>\n",
       "      <td>Bang for buck</td>\n",
       "      <td>They are really a beast . Vocals are crisp eve...</td>\n",
       "    </tr>\n",
       "    <tr>\n",
       "      <th>1</th>\n",
       "      <td>5</td>\n",
       "      <td>Best product as comparison to other companies ...</td>\n",
       "      <td>According to price product is more good by my ...</td>\n",
       "    </tr>\n",
       "    <tr>\n",
       "      <th>2</th>\n",
       "      <td>5</td>\n",
       "      <td>Probass thunder</td>\n",
       "      <td>Super Bass... Sounds quality is good .. Rich f...</td>\n",
       "    </tr>\n",
       "    <tr>\n",
       "      <th>3</th>\n",
       "      <td>3</td>\n",
       "      <td>Average Product - Bad Handling of package &amp; fa...</td>\n",
       "      <td>The sound output is good, it has good bass, th...</td>\n",
       "    </tr>\n",
       "    <tr>\n",
       "      <th>4</th>\n",
       "      <td>1</td>\n",
       "      <td>BADDEST HEADPHONE MIC</td>\n",
       "      <td>A Truly Pathetic Headphone With Baddest Mic, W...</td>\n",
       "    </tr>\n",
       "    <tr>\n",
       "      <th>...</th>\n",
       "      <td>...</td>\n",
       "      <td>...</td>\n",
       "      <td>...</td>\n",
       "    </tr>\n",
       "    <tr>\n",
       "      <th>17829</th>\n",
       "      <td>4</td>\n",
       "      <td>Samsung EHS61 Good Sound Quality. Good Price a...</td>\n",
       "      <td>Samsung EHS61 is a very good ear phone and has...</td>\n",
       "    </tr>\n",
       "    <tr>\n",
       "      <th>17830</th>\n",
       "      <td>5</td>\n",
       "      <td>Bad product</td>\n",
       "      <td>It's not real Samsung it got defected just wit...</td>\n",
       "    </tr>\n",
       "    <tr>\n",
       "      <th>17831</th>\n",
       "      <td>5</td>\n",
       "      <td>Great product</td>\n",
       "      <td>Best quality at this price and Great sound.. C...</td>\n",
       "    </tr>\n",
       "    <tr>\n",
       "      <th>17832</th>\n",
       "      <td>5</td>\n",
       "      <td>100% Original You can buy Without any Doubt</td>\n",
       "      <td>This is Made in china priduct....Not 100% orig...</td>\n",
       "    </tr>\n",
       "    <tr>\n",
       "      <th>17833</th>\n",
       "      <td>2</td>\n",
       "      <td>Samsung Earphone Duplicate model.</td>\n",
       "      <td>I bought Again Earphone Model samsung EHS61 bu...</td>\n",
       "    </tr>\n",
       "  </tbody>\n",
       "</table>\n",
       "<p>17834 rows × 3 columns</p>\n",
       "</div>"
      ],
      "text/plain": [
       "      Ratings                                      Review Titles  \\\n",
       "0           5                                      Bang for buck   \n",
       "1           5  Best product as comparison to other companies ...   \n",
       "2           5                                    Probass thunder   \n",
       "3           3  Average Product - Bad Handling of package & fa...   \n",
       "4           1                              BADDEST HEADPHONE MIC   \n",
       "...       ...                                                ...   \n",
       "17829       4  Samsung EHS61 Good Sound Quality. Good Price a...   \n",
       "17830       5                                        Bad product   \n",
       "17831       5                                      Great product   \n",
       "17832       5        100% Original You can buy Without any Doubt   \n",
       "17833       2                  Samsung Earphone Duplicate model.   \n",
       "\n",
       "                                     Review Descriptions  \n",
       "0      They are really a beast . Vocals are crisp eve...  \n",
       "1      According to price product is more good by my ...  \n",
       "2      Super Bass... Sounds quality is good .. Rich f...  \n",
       "3      The sound output is good, it has good bass, th...  \n",
       "4      A Truly Pathetic Headphone With Baddest Mic, W...  \n",
       "...                                                  ...  \n",
       "17829  Samsung EHS61 is a very good ear phone and has...  \n",
       "17830  It's not real Samsung it got defected just wit...  \n",
       "17831  Best quality at this price and Great sound.. C...  \n",
       "17832  This is Made in china priduct....Not 100% orig...  \n",
       "17833  I bought Again Earphone Model samsung EHS61 bu...  \n",
       "\n",
       "[17834 rows x 3 columns]"
      ]
     },
     "execution_count": 100,
     "metadata": {},
     "output_type": "execute_result"
    }
   ],
   "source": [
    "#interpreting scraped data\n",
    "headphones_df_amazon"
   ]
  },
  {
   "cell_type": "code",
   "execution_count": 101,
   "id": "6b3f9f1f",
   "metadata": {},
   "outputs": [
    {
     "name": "stdout",
     "output_type": "stream",
     "text": [
      "Original Shape: (17834, 3)\n",
      "Total Number of Duplicated Rows: 5278\n",
      "New Shape: (12556, 3)\n"
     ]
    }
   ],
   "source": [
    "#copying scradped ratings & reviews to another dataframe object\n",
    "df11 = headphones_df_amazon.copy()\n",
    "print(f\"Original Shape: {df11.shape}\")\n",
    "\n",
    "#checking for duplicate rows\n",
    "print(f\"Total Number of Duplicated Rows: {df11.duplicated().sum()}\")\n",
    "\n",
    "#removing duplicate rows\n",
    "df11.drop_duplicates(inplace=True)\n",
    "print(f\"New Shape: {df11.shape}\")"
   ]
  },
  {
   "cell_type": "code",
   "execution_count": 102,
   "id": "9f673763",
   "metadata": {},
   "outputs": [],
   "source": [
    "#saving scraped data to csv file\n",
    "headphones_df_amazon.to_csv('amazon-ratings-reviews-headphones.csv')"
   ]
  },
  {
   "cell_type": "markdown",
   "id": "6b475a20",
   "metadata": {},
   "source": [
    "## Scraping for ratings & reviews of `Printers` from Amazon"
   ]
  },
  {
   "cell_type": "code",
   "execution_count": 105,
   "id": "bcc84bb6",
   "metadata": {},
   "outputs": [],
   "source": [
    "#start driver\n",
    "driver = start_driver()\n",
    "\n",
    "#initialize search box with phones\n",
    "init_amazon('printers',driver)"
   ]
  },
  {
   "cell_type": "code",
   "execution_count": 106,
   "id": "ba1d1f58",
   "metadata": {},
   "outputs": [
    {
     "name": "stdout",
     "output_type": "stream",
     "text": [
      "FoundURL: [225]"
     ]
    }
   ],
   "source": [
    "#getting all the product urls for searched key\n",
    "amazon_printers_urls = amazon_product_urls(driver)"
   ]
  },
  {
   "cell_type": "code",
   "execution_count": 107,
   "id": "287eee3b",
   "metadata": {},
   "outputs": [
    {
     "data": {
      "application/vnd.jupyter.widget-view+json": {
       "model_id": "3515fbde4f3a4d85b956f22b68070ec9",
       "version_major": 2,
       "version_minor": 0
      },
      "text/plain": [
       "Processing:   0%|          | 0/225 [00:00<?, ?it/s]"
      ]
     },
     "metadata": {},
     "output_type": "display_data"
    },
    {
     "name": "stdout",
     "output_type": "stream",
     "text": [
      "ScrapedDATA[47770] :: URL: https://www.amazon.in/Brother-HL-L2366DW-Monochrome-Printer-Printing/dp/B01NBPXE64/ref=sr_1_305?dchild=1&keywords=printers&qid=1624211901&sr=8-305#customerReviewssiewsmerReviewsFB0892XK8HJ%2Fref%3Dsr_1_137_sspa%3Fdchild%3D1%26keywords%3Dprinters%26qid%3D1624211862%26sr%3D8-137-spons%26psc%3D1&qualifier=1624211862&id=6949714785532628&widgetName=sp_mtf#customerReviewsiewsmerReviewswsiewseviewstomerReviewswsasin&cv_ct_wn=osp-single-source-earns-comm&dchild=1&keywords=printers&linkCode=oas&pd_rd_i=B07B4KDTHP&pd_rd_r=0652a59c-c799-4939-a1ff-09aa3bb0c515&pd_rd_w=28shU&pd_rd_wg=KbGCQ&pf_rd_p=04cb5ab0-b8fd-4cb3-8087-30e7d341d745&pf_rd_r=3HZ1X5G46YATVA8E8VTA&qid=1624211829&sr=1-3-483c64d8-df78-4008-ae20-e69f683e58b1&tag=digitin-21#customerReviewseviews"
     ]
    }
   ],
   "source": [
    "#scraping ratings & reviews for searched product\n",
    "printers_df_amazon = amazon_rating_reviews(amazon_printers_urls,driver)"
   ]
  },
  {
   "cell_type": "code",
   "execution_count": 108,
   "id": "c5ab632f",
   "metadata": {},
   "outputs": [
    {
     "data": {
      "text/html": [
       "<div>\n",
       "<style scoped>\n",
       "    .dataframe tbody tr th:only-of-type {\n",
       "        vertical-align: middle;\n",
       "    }\n",
       "\n",
       "    .dataframe tbody tr th {\n",
       "        vertical-align: top;\n",
       "    }\n",
       "\n",
       "    .dataframe thead th {\n",
       "        text-align: right;\n",
       "    }\n",
       "</style>\n",
       "<table border=\"1\" class=\"dataframe\">\n",
       "  <thead>\n",
       "    <tr style=\"text-align: right;\">\n",
       "      <th></th>\n",
       "      <th>Ratings</th>\n",
       "      <th>Review Titles</th>\n",
       "      <th>Review Descriptions</th>\n",
       "    </tr>\n",
       "  </thead>\n",
       "  <tbody>\n",
       "    <tr>\n",
       "      <th>0</th>\n",
       "      <td>2</td>\n",
       "      <td>So sorrowful</td>\n",
       "      <td>.bad.machine is not working.toner is stopped w...</td>\n",
       "    </tr>\n",
       "    <tr>\n",
       "      <th>1</th>\n",
       "      <td>3</td>\n",
       "      <td>Printer</td>\n",
       "      <td>Good for xerox and prining. But need instructi...</td>\n",
       "    </tr>\n",
       "    <tr>\n",
       "      <th>2</th>\n",
       "      <td>4</td>\n",
       "      <td>Power cable and data cable are missing</td>\n",
       "      <td>Power cable and data cable are missing</td>\n",
       "    </tr>\n",
       "    <tr>\n",
       "      <th>3</th>\n",
       "      <td>5</td>\n",
       "      <td>Five Stars</td>\n",
       "      <td>good machine.. its worth to buy ..</td>\n",
       "    </tr>\n",
       "    <tr>\n",
       "      <th>4</th>\n",
       "      <td>4</td>\n",
       "      <td>Four Stars</td>\n",
       "      <td>Good product Cost effective ..</td>\n",
       "    </tr>\n",
       "    <tr>\n",
       "      <th>...</th>\n",
       "      <td>...</td>\n",
       "      <td>...</td>\n",
       "      <td>...</td>\n",
       "    </tr>\n",
       "    <tr>\n",
       "      <th>47765</th>\n",
       "      <td>5</td>\n",
       "      <td>It is good buy</td>\n",
       "      <td>Overall a good product so far</td>\n",
       "    </tr>\n",
       "    <tr>\n",
       "      <th>47766</th>\n",
       "      <td>5</td>\n",
       "      <td>Nice</td>\n",
       "      <td>Good</td>\n",
       "    </tr>\n",
       "    <tr>\n",
       "      <th>47767</th>\n",
       "      <td>1</td>\n",
       "      <td>vaste of money</td>\n",
       "      <td>purchase of brother printer is waste of money ...</td>\n",
       "    </tr>\n",
       "    <tr>\n",
       "      <th>47768</th>\n",
       "      <td>4</td>\n",
       "      <td>Very good printer</td>\n",
       "      <td>Perfect with all features in it, like Automati...</td>\n",
       "    </tr>\n",
       "    <tr>\n",
       "      <th>47769</th>\n",
       "      <td>5</td>\n",
       "      <td>Nice printer that does its job beautifully</td>\n",
       "      <td>Great product. Lives to its expectations. Easy...</td>\n",
       "    </tr>\n",
       "  </tbody>\n",
       "</table>\n",
       "<p>47770 rows × 3 columns</p>\n",
       "</div>"
      ],
      "text/plain": [
       "      Ratings                               Review Titles  \\\n",
       "0           2                                So sorrowful   \n",
       "1           3                                     Printer   \n",
       "2           4      Power cable and data cable are missing   \n",
       "3           5                                  Five Stars   \n",
       "4           4                                  Four Stars   \n",
       "...       ...                                         ...   \n",
       "47765       5                              It is good buy   \n",
       "47766       5                                        Nice   \n",
       "47767       1                              vaste of money   \n",
       "47768       4                           Very good printer   \n",
       "47769       5  Nice printer that does its job beautifully   \n",
       "\n",
       "                                     Review Descriptions  \n",
       "0      .bad.machine is not working.toner is stopped w...  \n",
       "1      Good for xerox and prining. But need instructi...  \n",
       "2                 Power cable and data cable are missing  \n",
       "3                     good machine.. its worth to buy ..  \n",
       "4                         Good product Cost effective ..  \n",
       "...                                                  ...  \n",
       "47765                      Overall a good product so far  \n",
       "47766                                               Good  \n",
       "47767  purchase of brother printer is waste of money ...  \n",
       "47768  Perfect with all features in it, like Automati...  \n",
       "47769  Great product. Lives to its expectations. Easy...  \n",
       "\n",
       "[47770 rows x 3 columns]"
      ]
     },
     "execution_count": 108,
     "metadata": {},
     "output_type": "execute_result"
    }
   ],
   "source": [
    "#interpreting scraped data\n",
    "printers_df_amazon"
   ]
  },
  {
   "cell_type": "code",
   "execution_count": 109,
   "id": "da0ee0de",
   "metadata": {},
   "outputs": [
    {
     "name": "stdout",
     "output_type": "stream",
     "text": [
      "Original Shape: (47770, 3)\n",
      "Total Number of Duplicated Rows: 8705\n",
      "New Shape: (39065, 3)\n"
     ]
    }
   ],
   "source": [
    "#copying scradped ratings & reviews to another dataframe object\n",
    "df12 = printers_df_amazon.copy()\n",
    "print(f\"Original Shape: {df12.shape}\")\n",
    "\n",
    "#checking for duplicate rows\n",
    "print(f\"Total Number of Duplicated Rows: {df12.duplicated().sum()}\")\n",
    "\n",
    "#removing duplicate rows\n",
    "df12.drop_duplicates(inplace=True)\n",
    "print(f\"New Shape: {df12.shape}\")"
   ]
  },
  {
   "cell_type": "code",
   "execution_count": 110,
   "id": "f06365c2",
   "metadata": {},
   "outputs": [],
   "source": [
    "#saving scraped data to csv file\n",
    "headphones_df_amazon.to_csv('amazon-ratings-reviews-printers.csv')"
   ]
  },
  {
   "cell_type": "markdown",
   "id": "c3eb0a6d",
   "metadata": {},
   "source": [
    "## Scraping for ratings & reviews of `Smart Watches` from Amazon"
   ]
  },
  {
   "cell_type": "code",
   "execution_count": 132,
   "id": "52160d0f",
   "metadata": {},
   "outputs": [],
   "source": [
    "#start driver\n",
    "driver = start_driver()\n",
    "\n",
    "#initialize search box with phones\n",
    "init_amazon('smart watches',driver)"
   ]
  },
  {
   "cell_type": "code",
   "execution_count": 133,
   "id": "e594c2e2",
   "metadata": {},
   "outputs": [
    {
     "name": "stdout",
     "output_type": "stream",
     "text": [
      "FoundURL: [348]"
     ]
    }
   ],
   "source": [
    "#getting all the product urls for searched key\n",
    "amazon_smart_watches_urls = amazon_product_urls(driver)"
   ]
  },
  {
   "cell_type": "code",
   "execution_count": 134,
   "id": "7579e352",
   "metadata": {},
   "outputs": [
    {
     "data": {
      "application/vnd.jupyter.widget-view+json": {
       "model_id": "8b35ab80e5cd4500b59fc29a53ff9568",
       "version_major": 2,
       "version_minor": 0
      },
      "text/plain": [
       "Processing:   0%|          | 0/348 [00:00<?, ?it/s]"
      ]
     },
     "metadata": {},
     "output_type": "display_data"
    },
    {
     "name": "stdout",
     "output_type": "stream",
     "text": [
      "ScrapeLIMIT[4004/4000] :: URL: https://www.amazon.in/Noise-Colorfit-Pro-Touch-Control/dp/B07YY1BY5B/ref=sr_1_3?dchild=1&keywords=smart+watches&qid=1624239706&sr=8-3#customerReviews-HD-Color-Display-Sports-Modes-Breathing%2Fdp%2FB08HHCDN97%2Fref%3Dsr_1_2_sspa%3Fdchild%3D1%26keywords%3Dsmart%2Bwatches%26qid%3D1624239706%26sr%3D8-2-spons%26psc%3D1&qualifier=1624239706&id=199877266482789&widgetName=sp_atf#customerReviews"
     ]
    }
   ],
   "source": [
    "#scraping ratings & reviews for searched product\n",
    "smart_watches_df_amazon = amazon_rating_reviews(amazon_smart_watches_urls,driver,limit=4000)"
   ]
  },
  {
   "cell_type": "code",
   "execution_count": 135,
   "id": "3745a4dc",
   "metadata": {},
   "outputs": [
    {
     "data": {
      "text/html": [
       "<div>\n",
       "<style scoped>\n",
       "    .dataframe tbody tr th:only-of-type {\n",
       "        vertical-align: middle;\n",
       "    }\n",
       "\n",
       "    .dataframe tbody tr th {\n",
       "        vertical-align: top;\n",
       "    }\n",
       "\n",
       "    .dataframe thead th {\n",
       "        text-align: right;\n",
       "    }\n",
       "</style>\n",
       "<table border=\"1\" class=\"dataframe\">\n",
       "  <thead>\n",
       "    <tr style=\"text-align: right;\">\n",
       "      <th></th>\n",
       "      <th>Ratings</th>\n",
       "      <th>Review Titles</th>\n",
       "      <th>Review Descriptions</th>\n",
       "    </tr>\n",
       "  </thead>\n",
       "  <tbody>\n",
       "    <tr>\n",
       "      <th>0</th>\n",
       "      <td>4</td>\n",
       "      <td>Not a disappointment, but can be better</td>\n",
       "      <td>Original 3rd Jan 2021: This is my first smartw...</td>\n",
       "    </tr>\n",
       "    <tr>\n",
       "      <th>1</th>\n",
       "      <td>2</td>\n",
       "      <td>Initially impressive</td>\n",
       "      <td>Got the watch today... Display is just amazing...</td>\n",
       "    </tr>\n",
       "    <tr>\n",
       "      <th>2</th>\n",
       "      <td>3</td>\n",
       "      <td>Glitchy watch, hangs at any time</td>\n",
       "      <td>It freezes on random screens, and the whatsapp...</td>\n",
       "    </tr>\n",
       "    <tr>\n",
       "      <th>3</th>\n",
       "      <td>1</td>\n",
       "      <td>Very poor quality and below to expectations. D...</td>\n",
       "      <td>Your browser does not support HTML5 video.  It...</td>\n",
       "    </tr>\n",
       "    <tr>\n",
       "      <th>4</th>\n",
       "      <td>4</td>\n",
       "      <td>Lite version of GTS 2.</td>\n",
       "      <td>I've been using amazfit watches for the last 2...</td>\n",
       "    </tr>\n",
       "    <tr>\n",
       "      <th>...</th>\n",
       "      <td>...</td>\n",
       "      <td>...</td>\n",
       "      <td>...</td>\n",
       "    </tr>\n",
       "    <tr>\n",
       "      <th>3995</th>\n",
       "      <td>5</td>\n",
       "      <td>Sync issues</td>\n",
       "      <td>Bought this watch considering noise come up wi...</td>\n",
       "    </tr>\n",
       "    <tr>\n",
       "      <th>3996</th>\n",
       "      <td>3</td>\n",
       "      <td>Awesome watch but display gets scratches easily</td>\n",
       "      <td>I liked the battery backup and the design styl...</td>\n",
       "    </tr>\n",
       "    <tr>\n",
       "      <th>3997</th>\n",
       "      <td>2</td>\n",
       "      <td>For Accuracy 0</td>\n",
       "      <td>I can give better heart rate by checking my pu...</td>\n",
       "    </tr>\n",
       "    <tr>\n",
       "      <th>3998</th>\n",
       "      <td>1</td>\n",
       "      <td>RIP privacy.</td>\n",
       "      <td>don't allow full access to it, specially sms a...</td>\n",
       "    </tr>\n",
       "    <tr>\n",
       "      <th>3999</th>\n",
       "      <td>5</td>\n",
       "      <td>Amazing product I am really satisfied with thi...</td>\n",
       "      <td>this smart watches so amazing at this price po...</td>\n",
       "    </tr>\n",
       "  </tbody>\n",
       "</table>\n",
       "<p>4000 rows × 3 columns</p>\n",
       "</div>"
      ],
      "text/plain": [
       "     Ratings                                      Review Titles  \\\n",
       "0          4            Not a disappointment, but can be better   \n",
       "1          2                               Initially impressive   \n",
       "2          3                   Glitchy watch, hangs at any time   \n",
       "3          1  Very poor quality and below to expectations. D...   \n",
       "4          4                             Lite version of GTS 2.   \n",
       "...      ...                                                ...   \n",
       "3995       5                                        Sync issues   \n",
       "3996       3    Awesome watch but display gets scratches easily   \n",
       "3997       2                                     For Accuracy 0   \n",
       "3998       1                                       RIP privacy.   \n",
       "3999       5  Amazing product I am really satisfied with thi...   \n",
       "\n",
       "                                    Review Descriptions  \n",
       "0     Original 3rd Jan 2021: This is my first smartw...  \n",
       "1     Got the watch today... Display is just amazing...  \n",
       "2     It freezes on random screens, and the whatsapp...  \n",
       "3     Your browser does not support HTML5 video.  It...  \n",
       "4     I've been using amazfit watches for the last 2...  \n",
       "...                                                 ...  \n",
       "3995  Bought this watch considering noise come up wi...  \n",
       "3996  I liked the battery backup and the design styl...  \n",
       "3997  I can give better heart rate by checking my pu...  \n",
       "3998  don't allow full access to it, specially sms a...  \n",
       "3999  this smart watches so amazing at this price po...  \n",
       "\n",
       "[4000 rows x 3 columns]"
      ]
     },
     "execution_count": 135,
     "metadata": {},
     "output_type": "execute_result"
    }
   ],
   "source": [
    "#interpreting scraped data\n",
    "smart_watches_df_amazon"
   ]
  },
  {
   "cell_type": "code",
   "execution_count": 136,
   "id": "48027433",
   "metadata": {},
   "outputs": [
    {
     "name": "stdout",
     "output_type": "stream",
     "text": [
      "Original Shape: (4000, 3)\n",
      "Total Number of Duplicated Rows: 55\n",
      "New Shape: (3945, 3)\n"
     ]
    }
   ],
   "source": [
    "#copying scradped ratings & reviews to another dataframe object\n",
    "df13 = smart_watches_df_amazon.copy()\n",
    "print(f\"Original Shape: {df13.shape}\")\n",
    "\n",
    "#checking for duplicate rows\n",
    "print(f\"Total Number of Duplicated Rows: {df13.duplicated().sum()}\")\n",
    "\n",
    "#removing duplicate rows\n",
    "df13.drop_duplicates(inplace=True)\n",
    "print(f\"New Shape: {df13.shape}\")"
   ]
  },
  {
   "cell_type": "code",
   "execution_count": 137,
   "id": "c6da4cdf",
   "metadata": {},
   "outputs": [],
   "source": [
    "#saving scraped data to csv file\n",
    "smart_watches_df_amazon.to_csv('amazon-ratings-reviews-smart_watches.csv')"
   ]
  },
  {
   "cell_type": "markdown",
   "id": "cb906368",
   "metadata": {},
   "source": [
    "## Scraping for ratings & reviews of `Monitors` from Amazon"
   ]
  },
  {
   "cell_type": "code",
   "execution_count": 138,
   "id": "33362eac",
   "metadata": {},
   "outputs": [],
   "source": [
    "#start driver\n",
    "driver = start_driver()\n",
    "\n",
    "#initialize search box with phones\n",
    "init_amazon('monitors',driver)"
   ]
  },
  {
   "cell_type": "code",
   "execution_count": 139,
   "id": "bf4cbbff",
   "metadata": {},
   "outputs": [
    {
     "name": "stdout",
     "output_type": "stream",
     "text": [
      "FoundURL: [341]"
     ]
    }
   ],
   "source": [
    "#getting all the product urls for searched key\n",
    "amazon_monitors_urls = amazon_product_urls(driver)"
   ]
  },
  {
   "cell_type": "code",
   "execution_count": 140,
   "id": "c519c021",
   "metadata": {},
   "outputs": [
    {
     "data": {
      "application/vnd.jupyter.widget-view+json": {
       "model_id": "ac0ddb678c0d446e84231b3fdc134ca9",
       "version_major": 2,
       "version_minor": 0
      },
      "text/plain": [
       "Processing:   0%|          | 0/341 [00:00<?, ?it/s]"
      ]
     },
     "metadata": {},
     "output_type": "display_data"
    },
    {
     "name": "stdout",
     "output_type": "stream",
     "text": [
      "ScrapeLIMIT[4008/4000] :: URL: https://www.amazon.in/BenQ-Borderless-Brightness-Intelligence-Technology/dp/B07LDH32ZP/ref=sr_1_3?dchild=1&keywords=monitors&qid=1624241496&sr=8-3#customerReviews7AM500NWXXL%2Fdp%2FB08XB1F1RD%2Fref%3Dsr_1_2_sspa%3Fdchild%3D1%26keywords%3Dmonitors%26qid%3D1624241496%26sr%3D8-2-spons%26psc%3D1&qualifier=1624241496&id=3158142503010014&widgetName=sp_atf#customerReviews"
     ]
    }
   ],
   "source": [
    "#scraping ratings & reviews for searched product\n",
    "monitors_df_amazon = amazon_rating_reviews(amazon_monitors_urls,driver,limit=4000)"
   ]
  },
  {
   "cell_type": "code",
   "execution_count": 141,
   "id": "fa256d0d",
   "metadata": {},
   "outputs": [
    {
     "data": {
      "text/html": [
       "<div>\n",
       "<style scoped>\n",
       "    .dataframe tbody tr th:only-of-type {\n",
       "        vertical-align: middle;\n",
       "    }\n",
       "\n",
       "    .dataframe tbody tr th {\n",
       "        vertical-align: top;\n",
       "    }\n",
       "\n",
       "    .dataframe thead th {\n",
       "        text-align: right;\n",
       "    }\n",
       "</style>\n",
       "<table border=\"1\" class=\"dataframe\">\n",
       "  <thead>\n",
       "    <tr style=\"text-align: right;\">\n",
       "      <th></th>\n",
       "      <th>Ratings</th>\n",
       "      <th>Review Titles</th>\n",
       "      <th>Review Descriptions</th>\n",
       "    </tr>\n",
       "  </thead>\n",
       "  <tbody>\n",
       "    <tr>\n",
       "      <th>0</th>\n",
       "      <td>5</td>\n",
       "      <td>There is Backlight Glow (Not Leaking / Normal ...</td>\n",
       "      <td>I bought this product because I edit videos fo...</td>\n",
       "    </tr>\n",
       "    <tr>\n",
       "      <th>1</th>\n",
       "      <td>5</td>\n",
       "      <td>Best 27\" IPS Monitor @ Rs 15,499</td>\n",
       "      <td>Bought this monitor on 5th Jan 2018 at Rs. 15,...</td>\n",
       "    </tr>\n",
       "    <tr>\n",
       "      <th>2</th>\n",
       "      <td>5</td>\n",
       "      <td>Excellent value for money product.</td>\n",
       "      <td>I have worked on many monitors (Dell, HP, Acer...</td>\n",
       "    </tr>\n",
       "    <tr>\n",
       "      <th>3</th>\n",
       "      <td>4</td>\n",
       "      <td>Value for money</td>\n",
       "      <td>I bought it mainly for its auto brightness. Bu...</td>\n",
       "    </tr>\n",
       "    <tr>\n",
       "      <th>4</th>\n",
       "      <td>5</td>\n",
       "      <td>Brilliant Eyecare protection technology | Brig...</td>\n",
       "      <td>I was skeptical about this BenQ G480 eye care ...</td>\n",
       "    </tr>\n",
       "    <tr>\n",
       "      <th>...</th>\n",
       "      <td>...</td>\n",
       "      <td>...</td>\n",
       "      <td>...</td>\n",
       "    </tr>\n",
       "    <tr>\n",
       "      <th>3995</th>\n",
       "      <td>5</td>\n",
       "      <td>Five Stars</td>\n",
       "      <td>Beautiful Bezel less display with eye care pro...</td>\n",
       "    </tr>\n",
       "    <tr>\n",
       "      <th>3996</th>\n",
       "      <td>5</td>\n",
       "      <td>Excellent product</td>\n",
       "      <td>highly recommended. Budget friendly and does t...</td>\n",
       "    </tr>\n",
       "    <tr>\n",
       "      <th>3997</th>\n",
       "      <td>3</td>\n",
       "      <td>Poor Monitor for any purpose</td>\n",
       "      <td>You can not compare it with HP monitor 27 es ....</td>\n",
       "    </tr>\n",
       "    <tr>\n",
       "      <th>3998</th>\n",
       "      <td>5</td>\n",
       "      <td>Best full hd monitor</td>\n",
       "      <td>Very good quality. Build quality is good.</td>\n",
       "    </tr>\n",
       "    <tr>\n",
       "      <th>3999</th>\n",
       "      <td>4</td>\n",
       "      <td>Product is good</td>\n",
       "      <td>Product is economical.</td>\n",
       "    </tr>\n",
       "  </tbody>\n",
       "</table>\n",
       "<p>4000 rows × 3 columns</p>\n",
       "</div>"
      ],
      "text/plain": [
       "     Ratings                                      Review Titles  \\\n",
       "0          5  There is Backlight Glow (Not Leaking / Normal ...   \n",
       "1          5                   Best 27\" IPS Monitor @ Rs 15,499   \n",
       "2          5                 Excellent value for money product.   \n",
       "3          4                                    Value for money   \n",
       "4          5  Brilliant Eyecare protection technology | Brig...   \n",
       "...      ...                                                ...   \n",
       "3995       5                                         Five Stars   \n",
       "3996       5                                  Excellent product   \n",
       "3997       3                       Poor Monitor for any purpose   \n",
       "3998       5                               Best full hd monitor   \n",
       "3999       4                                    Product is good   \n",
       "\n",
       "                                    Review Descriptions  \n",
       "0     I bought this product because I edit videos fo...  \n",
       "1     Bought this monitor on 5th Jan 2018 at Rs. 15,...  \n",
       "2     I have worked on many monitors (Dell, HP, Acer...  \n",
       "3     I bought it mainly for its auto brightness. Bu...  \n",
       "4     I was skeptical about this BenQ G480 eye care ...  \n",
       "...                                                 ...  \n",
       "3995  Beautiful Bezel less display with eye care pro...  \n",
       "3996  highly recommended. Budget friendly and does t...  \n",
       "3997  You can not compare it with HP monitor 27 es ....  \n",
       "3998          Very good quality. Build quality is good.  \n",
       "3999                             Product is economical.  \n",
       "\n",
       "[4000 rows x 3 columns]"
      ]
     },
     "execution_count": 141,
     "metadata": {},
     "output_type": "execute_result"
    }
   ],
   "source": [
    "#interpreting scraped data\n",
    "monitors_df_amazon"
   ]
  },
  {
   "cell_type": "code",
   "execution_count": 142,
   "id": "ea5fe998",
   "metadata": {},
   "outputs": [
    {
     "name": "stdout",
     "output_type": "stream",
     "text": [
      "Original Shape: (4000, 3)\n",
      "Total Number of Duplicated Rows: 1287\n",
      "New Shape: (2713, 3)\n"
     ]
    }
   ],
   "source": [
    "#copying scradped ratings & reviews to another dataframe object\n",
    "df14 = monitors_df_amazon.copy()\n",
    "print(f\"Original Shape: {df14.shape}\")\n",
    "\n",
    "#checking for duplicate rows\n",
    "print(f\"Total Number of Duplicated Rows: {df14.duplicated().sum()}\")\n",
    "\n",
    "#removing duplicate rows\n",
    "df14.drop_duplicates(inplace=True)\n",
    "print(f\"New Shape: {df14.shape}\")"
   ]
  },
  {
   "cell_type": "code",
   "execution_count": 143,
   "id": "b68f0e05",
   "metadata": {},
   "outputs": [],
   "source": [
    "#saving scraped data to csv file\n",
    "monitors_df_amazon.to_csv('amazon-ratings-reviews-monitors.csv')"
   ]
  },
  {
   "cell_type": "markdown",
   "id": "d46d07ca",
   "metadata": {},
   "source": [
    "# Combining all the dataframe object to a single object"
   ]
  },
  {
   "cell_type": "code",
   "execution_count": 144,
   "id": "49dc58cd",
   "metadata": {},
   "outputs": [
    {
     "name": "stdout",
     "output_type": "stream",
     "text": [
      "Shape of Combined DataFrame: (116318, 3)\n"
     ]
    },
    {
     "data": {
      "text/html": [
       "<div>\n",
       "<style scoped>\n",
       "    .dataframe tbody tr th:only-of-type {\n",
       "        vertical-align: middle;\n",
       "    }\n",
       "\n",
       "    .dataframe tbody tr th {\n",
       "        vertical-align: top;\n",
       "    }\n",
       "\n",
       "    .dataframe thead th {\n",
       "        text-align: right;\n",
       "    }\n",
       "</style>\n",
       "<table border=\"1\" class=\"dataframe\">\n",
       "  <thead>\n",
       "    <tr style=\"text-align: right;\">\n",
       "      <th></th>\n",
       "      <th>Ratings</th>\n",
       "      <th>Review Titles</th>\n",
       "      <th>Review Descriptions</th>\n",
       "    </tr>\n",
       "  </thead>\n",
       "  <tbody>\n",
       "    <tr>\n",
       "      <th>0</th>\n",
       "      <td>5</td>\n",
       "      <td>Worth every penny</td>\n",
       "      <td>An affordable beast ! Pros: 1. Incredible perf...</td>\n",
       "    </tr>\n",
       "    <tr>\n",
       "      <th>1</th>\n",
       "      <td>5</td>\n",
       "      <td>Awesome</td>\n",
       "      <td>Best laptop in this price segment.. battery is...</td>\n",
       "    </tr>\n",
       "    <tr>\n",
       "      <th>2</th>\n",
       "      <td>4</td>\n",
       "      <td>Really Nice</td>\n",
       "      <td>To be honest Pro's 1) RGB keyboard 2)144Hzs wi...</td>\n",
       "    </tr>\n",
       "    <tr>\n",
       "      <th>3</th>\n",
       "      <td>4</td>\n",
       "      <td>Value-for-money</td>\n",
       "      <td>The Laptop is a masterpiece with stunnig desig...</td>\n",
       "    </tr>\n",
       "    <tr>\n",
       "      <th>4</th>\n",
       "      <td>5</td>\n",
       "      <td>Highly recommended</td>\n",
       "      <td>Good laptop but customer care folks are real d...</td>\n",
       "    </tr>\n",
       "    <tr>\n",
       "      <th>...</th>\n",
       "      <td>...</td>\n",
       "      <td>...</td>\n",
       "      <td>...</td>\n",
       "    </tr>\n",
       "    <tr>\n",
       "      <th>116313</th>\n",
       "      <td>2</td>\n",
       "      <td>Smart product</td>\n",
       "      <td>A very smart product.But its a VA panel not IP...</td>\n",
       "    </tr>\n",
       "    <tr>\n",
       "      <th>116314</th>\n",
       "      <td>2</td>\n",
       "      <td>No webcam?</td>\n",
       "      <td>So this thing costs so much and doesn't have a...</td>\n",
       "    </tr>\n",
       "    <tr>\n",
       "      <th>116315</th>\n",
       "      <td>2</td>\n",
       "      <td>Airplay to Samsung M5 (27') from 16' Macbook p...</td>\n",
       "      <td>I bought M5 27' smart monitor. The endpoint of...</td>\n",
       "    </tr>\n",
       "    <tr>\n",
       "      <th>116316</th>\n",
       "      <td>5</td>\n",
       "      <td>Working</td>\n",
       "      <td>Try once and get to know then tell of it has G...</td>\n",
       "    </tr>\n",
       "    <tr>\n",
       "      <th>116317</th>\n",
       "      <td>5</td>\n",
       "      <td>Best for WFH</td>\n",
       "      <td>Writing a review after use a week. Monitor is ...</td>\n",
       "    </tr>\n",
       "  </tbody>\n",
       "</table>\n",
       "<p>116318 rows × 3 columns</p>\n",
       "</div>"
      ],
      "text/plain": [
       "       Ratings                                      Review Titles  \\\n",
       "0            5                                  Worth every penny   \n",
       "1            5                                            Awesome   \n",
       "2            4                                        Really Nice   \n",
       "3            4                                    Value-for-money   \n",
       "4            5                                 Highly recommended   \n",
       "...        ...                                                ...   \n",
       "116313       2                                      Smart product   \n",
       "116314       2                                         No webcam?   \n",
       "116315       2  Airplay to Samsung M5 (27') from 16' Macbook p...   \n",
       "116316       5                                            Working   \n",
       "116317       5                                       Best for WFH   \n",
       "\n",
       "                                      Review Descriptions  \n",
       "0       An affordable beast ! Pros: 1. Incredible perf...  \n",
       "1       Best laptop in this price segment.. battery is...  \n",
       "2       To be honest Pro's 1) RGB keyboard 2)144Hzs wi...  \n",
       "3       The Laptop is a masterpiece with stunnig desig...  \n",
       "4       Good laptop but customer care folks are real d...  \n",
       "...                                                   ...  \n",
       "116313  A very smart product.But its a VA panel not IP...  \n",
       "116314  So this thing costs so much and doesn't have a...  \n",
       "116315  I bought M5 27' smart monitor. The endpoint of...  \n",
       "116316  Try once and get to know then tell of it has G...  \n",
       "116317  Writing a review after use a week. Monitor is ...  \n",
       "\n",
       "[116318 rows x 3 columns]"
      ]
     },
     "execution_count": 144,
     "metadata": {},
     "output_type": "execute_result"
    }
   ],
   "source": [
    "#combining all the dataframe to one single dataframe using pd.concat method\n",
    "df_combined = pd.concat([df1,df2,df3,df4,df5,df6,df7,df8,df9,df10,df11,df12,df13,df14], ignore_index=True, sort=False)\n",
    "\n",
    "print(f\"Shape of Combined DataFrame: {df_combined.shape}\")\n",
    "\n",
    "#interpreting combined dataframe\n",
    "df_combined"
   ]
  },
  {
   "cell_type": "markdown",
   "id": "f6f1035d",
   "metadata": {},
   "source": [
    "# Taking Data from combine dataframe in equal portion according to ratings"
   ]
  },
  {
   "cell_type": "code",
   "execution_count": 145,
   "id": "d40fa570",
   "metadata": {},
   "outputs": [
    {
     "name": "stdout",
     "output_type": "stream",
     "text": [
      "Minimum number of records among ratings are for: 2 :: 6317\n"
     ]
    },
    {
     "data": {
      "text/html": [
       "<div>\n",
       "<style scoped>\n",
       "    .dataframe tbody tr th:only-of-type {\n",
       "        vertical-align: middle;\n",
       "    }\n",
       "\n",
       "    .dataframe tbody tr th {\n",
       "        vertical-align: top;\n",
       "    }\n",
       "\n",
       "    .dataframe thead th {\n",
       "        text-align: right;\n",
       "    }\n",
       "</style>\n",
       "<table border=\"1\" class=\"dataframe\">\n",
       "  <thead>\n",
       "    <tr style=\"text-align: right;\">\n",
       "      <th></th>\n",
       "      <th>Ratings</th>\n",
       "      <th>Review Titles</th>\n",
       "      <th>Review Descriptions</th>\n",
       "    </tr>\n",
       "  </thead>\n",
       "  <tbody>\n",
       "    <tr>\n",
       "      <th>0</th>\n",
       "      <td>1</td>\n",
       "      <td>Did not meet expectations</td>\n",
       "      <td>Windows updates not happening and graphics car...</td>\n",
       "    </tr>\n",
       "    <tr>\n",
       "      <th>1</th>\n",
       "      <td>1</td>\n",
       "      <td>Worthless</td>\n",
       "      <td>Facing battery issue only 10days old laptop, t...</td>\n",
       "    </tr>\n",
       "    <tr>\n",
       "      <th>2</th>\n",
       "      <td>1</td>\n",
       "      <td>Unsatisfactory</td>\n",
       "      <td>Slow,never ever see such kind of product, bett...</td>\n",
       "    </tr>\n",
       "    <tr>\n",
       "      <th>3</th>\n",
       "      <td>1</td>\n",
       "      <td>Horrible</td>\n",
       "      <td>Working very slow..takes 15-20 minutes to star...</td>\n",
       "    </tr>\n",
       "    <tr>\n",
       "      <th>4</th>\n",
       "      <td>1</td>\n",
       "      <td>Not recommended at all</td>\n",
       "      <td>Brost leptop don't by this leptop i claim this...</td>\n",
       "    </tr>\n",
       "    <tr>\n",
       "      <th>...</th>\n",
       "      <td>...</td>\n",
       "      <td>...</td>\n",
       "      <td>...</td>\n",
       "    </tr>\n",
       "    <tr>\n",
       "      <th>31580</th>\n",
       "      <td>5</td>\n",
       "      <td>Must buy!</td>\n",
       "      <td>good build quality and do its purpose very well.</td>\n",
       "    </tr>\n",
       "    <tr>\n",
       "      <th>31581</th>\n",
       "      <td>5</td>\n",
       "      <td>Brilliant</td>\n",
       "      <td>product is good, but keyboard is missing and s...</td>\n",
       "    </tr>\n",
       "    <tr>\n",
       "      <th>31582</th>\n",
       "      <td>5</td>\n",
       "      <td>Super!</td>\n",
       "      <td>Super perfomance</td>\n",
       "    </tr>\n",
       "    <tr>\n",
       "      <th>31583</th>\n",
       "      <td>5</td>\n",
       "      <td>Fabulous!</td>\n",
       "      <td>Excellent item.</td>\n",
       "    </tr>\n",
       "    <tr>\n",
       "      <th>31584</th>\n",
       "      <td>5</td>\n",
       "      <td>Simply awesome</td>\n",
       "      <td>awesome product.. win build 1903 updation make...</td>\n",
       "    </tr>\n",
       "  </tbody>\n",
       "</table>\n",
       "<p>31585 rows × 3 columns</p>\n",
       "</div>"
      ],
      "text/plain": [
       "      Ratings              Review Titles  \\\n",
       "0           1  Did not meet expectations   \n",
       "1           1                  Worthless   \n",
       "2           1             Unsatisfactory   \n",
       "3           1                   Horrible   \n",
       "4           1     Not recommended at all   \n",
       "...       ...                        ...   \n",
       "31580       5                  Must buy!   \n",
       "31581       5                  Brilliant   \n",
       "31582       5                     Super!   \n",
       "31583       5                  Fabulous!   \n",
       "31584       5             Simply awesome   \n",
       "\n",
       "                                     Review Descriptions  \n",
       "0      Windows updates not happening and graphics car...  \n",
       "1      Facing battery issue only 10days old laptop, t...  \n",
       "2      Slow,never ever see such kind of product, bett...  \n",
       "3      Working very slow..takes 15-20 minutes to star...  \n",
       "4      Brost leptop don't by this leptop i claim this...  \n",
       "...                                                  ...  \n",
       "31580   good build quality and do its purpose very well.  \n",
       "31581  product is good, but keyboard is missing and s...  \n",
       "31582                                   Super perfomance  \n",
       "31583                                    Excellent item.  \n",
       "31584  awesome product.. win build 1903 updation make...  \n",
       "\n",
       "[31585 rows x 3 columns]"
      ]
     },
     "execution_count": 145,
     "metadata": {},
     "output_type": "execute_result"
    }
   ],
   "source": [
    "#seperating records according to ratings and finding which rating has minimum number of records.\n",
    "length_of_records = {}\n",
    "df_ratings_record = {}\n",
    "for r in ['1','2','3','4','5']:\n",
    "    length_of_records[r] = len(df_combined[df_combined['Ratings']==r])\n",
    "    df_ratings_record[r] = df_combined[df_combined['Ratings']==r]\n",
    "    \n",
    "min_ratings_record = min(length_of_records, key=length_of_records.get)\n",
    "print(f\"Minimum number of records among ratings are for: {min_ratings_record} :: {length_of_records[min_ratings_record]}\")\n",
    "\n",
    "#Taking out records in equal portion as accordance with minimum number of records.\n",
    "lor = length_of_records[min_ratings_record]     #length of minimum number of records.\n",
    "\n",
    "df_final = pd.concat([\n",
    "    df_ratings_record['1'][:lor],\n",
    "    df_ratings_record['2'][:lor],\n",
    "    df_ratings_record['3'][:lor],\n",
    "    df_ratings_record['4'][:lor],\n",
    "    df_ratings_record['5'][:lor],\n",
    "    \n",
    "], ignore_index=True, sort=False)\n",
    "\n",
    "\n",
    "#interpreting final dataframe\n",
    "df_final"
   ]
  },
  {
   "cell_type": "code",
   "execution_count": 146,
   "id": "1ad88956",
   "metadata": {},
   "outputs": [
    {
     "data": {
      "text/html": [
       "<div>\n",
       "<style scoped>\n",
       "    .dataframe tbody tr th:only-of-type {\n",
       "        vertical-align: middle;\n",
       "    }\n",
       "\n",
       "    .dataframe tbody tr th {\n",
       "        vertical-align: top;\n",
       "    }\n",
       "\n",
       "    .dataframe thead th {\n",
       "        text-align: right;\n",
       "    }\n",
       "</style>\n",
       "<table border=\"1\" class=\"dataframe\">\n",
       "  <thead>\n",
       "    <tr style=\"text-align: right;\">\n",
       "      <th></th>\n",
       "      <th>Ratings</th>\n",
       "      <th>Review Titles</th>\n",
       "      <th>Review Descriptions</th>\n",
       "    </tr>\n",
       "  </thead>\n",
       "  <tbody>\n",
       "    <tr>\n",
       "      <th>0</th>\n",
       "      <td>3</td>\n",
       "      <td>Nice</td>\n",
       "      <td>By the way, everything is good in a laptop, bu...</td>\n",
       "    </tr>\n",
       "    <tr>\n",
       "      <th>1</th>\n",
       "      <td>5</td>\n",
       "      <td>Wonderful</td>\n",
       "      <td>Best laptop for students</td>\n",
       "    </tr>\n",
       "    <tr>\n",
       "      <th>2</th>\n",
       "      <td>1</td>\n",
       "      <td>Did not meet expectations</td>\n",
       "      <td>Totally worthless, not even real d-link router...</td>\n",
       "    </tr>\n",
       "    <tr>\n",
       "      <th>3</th>\n",
       "      <td>3</td>\n",
       "      <td>Good</td>\n",
       "      <td>As expected ...value for money...little slow b...</td>\n",
       "    </tr>\n",
       "    <tr>\n",
       "      <th>4</th>\n",
       "      <td>5</td>\n",
       "      <td>Simply awesome</td>\n",
       "      <td>Great great great product in this price</td>\n",
       "    </tr>\n",
       "    <tr>\n",
       "      <th>...</th>\n",
       "      <td>...</td>\n",
       "      <td>...</td>\n",
       "      <td>...</td>\n",
       "    </tr>\n",
       "    <tr>\n",
       "      <th>31580</th>\n",
       "      <td>2</td>\n",
       "      <td>HP415_Gr3</td>\n",
       "      <td>Bit disappointed with print quality. The defau...</td>\n",
       "    </tr>\n",
       "    <tr>\n",
       "      <th>31581</th>\n",
       "      <td>3</td>\n",
       "      <td>NOTHING</td>\n",
       "      <td>NOTHING</td>\n",
       "    </tr>\n",
       "    <tr>\n",
       "      <th>31582</th>\n",
       "      <td>4</td>\n",
       "      <td>Worth the money</td>\n",
       "      <td>This modem is actually pretty good.</td>\n",
       "    </tr>\n",
       "    <tr>\n",
       "      <th>31583</th>\n",
       "      <td>5</td>\n",
       "      <td>Worth every penny</td>\n",
       "      <td>Writing the review after 2 days of use... disp...</td>\n",
       "    </tr>\n",
       "    <tr>\n",
       "      <th>31584</th>\n",
       "      <td>2</td>\n",
       "      <td>Finding difficulty in initialisation of phone</td>\n",
       "      <td>Facing difficulty in initialisation of phone</td>\n",
       "    </tr>\n",
       "  </tbody>\n",
       "</table>\n",
       "<p>31585 rows × 3 columns</p>\n",
       "</div>"
      ],
      "text/plain": [
       "      Ratings                                  Review Titles  \\\n",
       "0           3                                           Nice   \n",
       "1           5                                      Wonderful   \n",
       "2           1                      Did not meet expectations   \n",
       "3           3                                           Good   \n",
       "4           5                                 Simply awesome   \n",
       "...       ...                                            ...   \n",
       "31580       2                                      HP415_Gr3   \n",
       "31581       3                                        NOTHING   \n",
       "31582       4                                Worth the money   \n",
       "31583       5                              Worth every penny   \n",
       "31584       2  Finding difficulty in initialisation of phone   \n",
       "\n",
       "                                     Review Descriptions  \n",
       "0      By the way, everything is good in a laptop, bu...  \n",
       "1                               Best laptop for students  \n",
       "2      Totally worthless, not even real d-link router...  \n",
       "3      As expected ...value for money...little slow b...  \n",
       "4                Great great great product in this price  \n",
       "...                                                  ...  \n",
       "31580  Bit disappointed with print quality. The defau...  \n",
       "31581                                            NOTHING  \n",
       "31582                This modem is actually pretty good.  \n",
       "31583  Writing the review after 2 days of use... disp...  \n",
       "31584       Facing difficulty in initialisation of phone  \n",
       "\n",
       "[31585 rows x 3 columns]"
      ]
     },
     "execution_count": 146,
     "metadata": {},
     "output_type": "execute_result"
    }
   ],
   "source": [
    "#Randomizing the dataframe\n",
    "import random\n",
    "index = [i for i in df_final.index]\n",
    "random.shuffle(index)\n",
    "df_final = df_final.set_index([index]).sort_index()\n",
    "df_final"
   ]
  },
  {
   "cell_type": "markdown",
   "id": "f0ab56bf",
   "metadata": {},
   "source": [
    "# Saving the final collected data to a csv file for further processing & building model"
   ]
  },
  {
   "cell_type": "code",
   "execution_count": 147,
   "id": "331f2e5e",
   "metadata": {},
   "outputs": [],
   "source": [
    "df_final.to_csv('final-data-ratings-reviews.csv')"
   ]
  },
  {
   "cell_type": "markdown",
   "id": "86207659",
   "metadata": {},
   "source": [
    "__EOF__"
   ]
  }
 ],
 "metadata": {
  "kernelspec": {
   "display_name": "Python 3",
   "language": "python",
   "name": "python3"
  },
  "language_info": {
   "codemirror_mode": {
    "name": "ipython",
    "version": 3
   },
   "file_extension": ".py",
   "mimetype": "text/x-python",
   "name": "python",
   "nbconvert_exporter": "python",
   "pygments_lexer": "ipython3",
   "version": "3.8.8"
  }
 },
 "nbformat": 4,
 "nbformat_minor": 5
}
